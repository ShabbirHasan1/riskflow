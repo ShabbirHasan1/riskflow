{
 "cells": [
  {
   "cell_type": "code",
   "execution_count": 1,
   "id": "fb8cc5a1",
   "metadata": {},
   "outputs": [],
   "source": [
    "import os\n",
    "import numpy as np\n",
    "import pandas as pd\n",
    "\n",
    "import riskflow_jupyter"
   ]
  },
  {
   "cell_type": "code",
   "execution_count": 2,
   "id": "18761f21",
   "metadata": {},
   "outputs": [],
   "source": [
    "rundate = '2022-07-07'\n",
    "if os.name=='nt':\n",
    "    path = os.path.join('U:\\\\CVA_JSON', rundate)\n",
    "    path_transform={\n",
    "        '\\\\\\\\ICMJHBMVDROPPRD\\\\AdaptiveAnalytics\\\\Inbound\\\\MarketData':\n",
    "        '\\\\\\\\ICMJHBMVDROPUAT\\\\AdaptiveAnalytics\\\\Inbound\\\\MarketData'}\n",
    "else:\n",
    "    path = os.path.join('/media/vretiel/3EFA4BCDFA4B7FDF/Media/Data/crstal/CVA_JSON', rundate)\n",
    "    path_transform={\n",
    "            '//ICMJHBMVDROPPRD/AdaptiveAnalytics/Inbound/MarketData': \n",
    "            '/media/vretiel/3EFA4BCDFA4B7FDF/Media/Data/crstal/CVA_JSON'}\n",
    "    \n",
    "cx = riskflow_jupyter.rf.Context(\n",
    "    path_transform=path_transform,\n",
    "    file_transform={\n",
    "        'CVAMarketData_Calibrated.dat': 'CVAMarketData_Calibrated_New.json',\n",
    "        'MarketData.dat': 'MarketData.json'\n",
    "    })"
   ]
  },
  {
   "cell_type": "code",
   "execution_count": 3,
   "id": "b6644bb6",
   "metadata": {},
   "outputs": [],
   "source": [
    "from riskflow_widgets import Flot, Table, Three, to_json"
   ]
  },
  {
   "cell_type": "code",
   "execution_count": 4,
   "id": "f699d974",
   "metadata": {},
   "outputs": [
    {
     "data": {
      "text/plain": [
       "<riskflow.Context at 0x7ff2d62828b0>"
      ]
     },
     "execution_count": 4,
     "metadata": {},
     "output_type": "execute_result"
    }
   ],
   "source": [
    "# cx.load_json(os.path.join(path, 'InputAAJ_CrB_Russellstone_Treasury_ISDA.json'))\n",
    "# cx.load_json(os.path.join(path, 'InputAAJ_CrB_BNP_Paribas__Paris__ISDA.json'))\n",
    "cx.load_json(os.path.join(path, 'InputAAJ_CrB_Natixis_ISDA.json'))\n",
    "\n"
   ]
  },
  {
   "cell_type": "code",
   "execution_count": 5,
   "id": "6a71bdc1",
   "metadata": {},
   "outputs": [
    {
     "data": {
      "text/plain": [
       "{'\\\\\\\\ICMJHBMVDROPPRD\\\\AdaptiveAnalytics\\\\Inbound\\\\MarketData\\\\CVAMarketData_Calibrated.dat': <riskflow.adaptiv.AdaptivContext at 0x7ff2d61dbd60>}"
      ]
     },
     "execution_count": 5,
     "metadata": {},
     "output_type": "execute_result"
    }
   ],
   "source": [
    "cx.config_cache"
   ]
  },
  {
   "cell_type": "code",
   "execution_count": 6,
   "id": "9c510715",
   "metadata": {},
   "outputs": [],
   "source": [
    "import ipywidgets as widgets\n"
   ]
  },
  {
   "cell_type": "code",
   "execution_count": null,
   "id": "9cabc1d9",
   "metadata": {},
   "outputs": [],
   "source": [
    "factor = riskflow_jupyter.rf.utils.Factor('FXVol',('GBP','ZAR'))\n",
    "# factor = riskflow_jupyter.rf.utils.Factor('InterestYieldVol',('CAD_SMILE_ICE',))\n",
    "\n",
    "vol = riskflow_jupyter.rf.riskfactors.construct_factor( factor,\n",
    "    cx.current_cfg.params['Price Factors'],\n",
    "    cx.current_cfg.params['Price Factor Interpolation']\n",
    ")"
   ]
  },
  {
   "cell_type": "code",
   "execution_count": null,
   "id": "db848304",
   "metadata": {},
   "outputs": [],
   "source": [
    "j=riskflow_jupyter.load_table_from_vol(vol)\n",
    "#to_json(j)\n",
    "#np.isnan(None)"
   ]
  },
  {
   "cell_type": "code",
   "execution_count": null,
   "id": "f58abac7",
   "metadata": {},
   "outputs": [],
   "source": [
    "# g = np.vstack([x[0], heights]).tolist()\n",
    "t = Three(description='Test')\n",
    "t.observe(lambda x:x['new'], 'value')\n",
    "t.value = to_json(j)"
   ]
  },
  {
   "cell_type": "code",
   "execution_count": null,
   "id": "17a86c80",
   "metadata": {},
   "outputs": [],
   "source": [
    "t"
   ]
  },
  {
   "cell_type": "code",
   "execution_count": null,
   "id": "1ea8ba9f",
   "metadata": {},
   "outputs": [],
   "source": [
    "class CalculationResults(widgets.HBox):\n",
    "    def __init__(self, description):\n",
    "        self.description = widgets.Label(value=description)\n",
    "        self.plot = k3d.plot(\n",
    "            axes=['log(moneyness)', 'expiry', 'vol(\\%)'],\n",
    "            # menu_visibility=False,\n",
    "            camera_rotate_speed=3.0,\n",
    "        )\n",
    "        # set the plot layout to match the table below\n",
    "        self.plot.layout.max_width = '600px'\n",
    "\n",
    "        self.mesh = None\n",
    "        self.points = None\n",
    "        self.plot_label = None\n",
    "        self.data = Table(description='', settings=to_json({\n",
    "            'width': 600, 'height': 300, 'contextMenu': True, 'minSpareRows': 1, 'minSpareCols': 1\n",
    "        }))\n",
    "\n",
    "        self.add_button = widgets.Button(\n",
    "            description='Add Tenor', tooltip='Add a new vol surface for a new tenor')\n",
    "        self.del_button = widgets.Button(\n",
    "            description='Remove Tenor', tooltip='Delete vol surface for this tenor')\n",
    "        self.dropdown = widgets.Combobox(\n",
    "            description='Tenor:', placeholder='Choose Tenor', options=[],\n",
    "            ensure_option=False)\n",
    "        self.dropdown.layout.max_width='360px'\n",
    "        self.tenor = None\n",
    "\n",
    "        self.selector = widgets.HBox(children=[self.add_button, self.del_button, self.dropdown])\n",
    "        self.selector.layout.visibility = 'hidden'\n",
    "        self.selector.layout.max_width = '600px'\n",
    "\n",
    "        self.add_button.on_click(self.add_button_clicked)\n",
    "        self.del_button.on_click(self.del_button_clicked)\n",
    "        self.dropdown.observe(self.change_selection, 'value')\n",
    "        self.obj = None\n",
    "\n",
    "        super().__init__(\n",
    "            children=[\n",
    "                self.description,\n",
    "                widgets.VBox(children=[self.selector, self.plot, self.data])\n",
    "            ]\n",
    "        )\n",
    "\n",
    "    def change_selection(self, change):\n",
    "        if change.new in self.obj:\n",
    "            matrix = self.obj[change.new]\n",
    "            self.data.value = to_json(matrix)\n",
    "            self.update_plot(matrix)\n",
    "            self.tenor = self.dropdown.value\n",
    "            self.plot_label.text = 'Tenor: {}'.format(self.tenor)\n",
    "            self.dropdown.unobserve(self.change_selection, 'value')\n",
    "            self.dropdown.value = ''\n",
    "            self.dropdown.observe(self.change_selection, 'value')\n",
    "\n",
    "    def add_button_clicked(self, b):\n",
    "        val = self.dropdown.value\n",
    "        if val:\n",
    "            try:\n",
    "                val = self.dropdown.value\n",
    "                self.dropdown.options = tuple([str(x) for x in sorted(\n",
    "                    [float(x) for x in (self.dropdown.options + (val,))])])\n",
    "                self.tenor = val\n",
    "                self.plot_label.text = 'Tenor: {}'.format(self.tenor)\n",
    "                self.obj[val] = json.loads(riskflow_jupyter.rf.fields.default['Surface'])\n",
    "                matrix = self.obj[val]\n",
    "                self.data.value = to_json(matrix)\n",
    "                self.update_plot(matrix)\n",
    "            except:\n",
    "                print('could not cast value to float')\n",
    "\n",
    "    def del_button_clicked(self, b):\n",
    "        val = self.dropdown.value if self.dropdown.value else self.tenor\n",
    "        if val in self.dropdown.options:\n",
    "            self.dropdown.options = tuple([x for x in self.dropdown.options if x != val])\n",
    "            print('inside - about to del', self.obj.keys())\n",
    "            del self.obj[val]\n",
    "            print('inside - about to del', self.obj.keys())\n",
    "            if self.dropdown.options:\n",
    "                self.tenor = self.dropdown.options[0]\n",
    "                matrix = self.obj[self.tenor]\n",
    "            else:\n",
    "                self.tenor = ''\n",
    "                matrix = [[]]\n",
    "\n",
    "            self.dropdown.value = self.tenor\n",
    "            print('inside - after del', self.obj.keys())\n",
    "            self.data.value = to_json(matrix)\n",
    "            self.update_plot(matrix)\n",
    "        print(\"del Button clicked.\", val)\n",
    "\n",
    "    def observe(self, handler, prop, type='change'):\n",
    "\n",
    "        def make_plot_fn():\n",
    "            def update_plot(change):\n",
    "                # now update the table with the new data\n",
    "                table_obj = json.loads(change.new)\n",
    "                # store the result if this is a 3d obj\n",
    "                if self.tenor is not None:\n",
    "                    self.obj[self.tenor] = table_obj\n",
    "                # call the original handler with the modified change event\n",
    "                handler({'name': change.name, 'old': change.old, 'new': self.value,\n",
    "                         'owner': self, 'type': change.type})\n",
    "                # check if we have a valid table obj\n",
    "                if np.all([len(x) > 1 for x in table_obj[1:]]):\n",
    "                    self.update_plot(table_obj)\n",
    "\n",
    "            return update_plot\n",
    "\n",
    "        if self.children:\n",
    "            # link the observable function to the table widget (self.data)\n",
    "            self.data.observe(make_plot_fn(), prop, type)\n",
    "        else:\n",
    "            super().observe(handler, prop, type)\n",
    "\n",
    "    @staticmethod\n",
    "    def make_faces_vectorized1(Nr, Nc):\n",
    "\n",
    "        out = np.empty((Nr - 1, Nc - 1, 2, 3), dtype=int)\n",
    "\n",
    "        r = np.arange(Nr * Nc).reshape(Nr, Nc)\n",
    "\n",
    "        out[:, :, 0, 0] = r[:-1, :-1]\n",
    "        out[:, :, 1, 0] = r[:-1, 1:]\n",
    "        out[:, :, 0, 1] = r[:-1, 1:]\n",
    "\n",
    "        out[:, :, 1, 1] = r[1:, 1:]\n",
    "        out[:, :, :, 2] = r[1:, :-1, None]\n",
    "\n",
    "        out.shape = (-1, 3)\n",
    "        return out\n",
    "\n",
    "    @staticmethod\n",
    "    def interpolate_surface(json_list):\n",
    "        moneyness = json_list[0][1:]\n",
    "        e = []\n",
    "        for p in json_list[1:]:\n",
    "            e.extend([[m, p[0], v] for m, v in zip(moneyness, p[1:]) if v is not None])\n",
    "\n",
    "        surface = np.array(e)\n",
    "        expiry = [p[0] for p in json_list[1:]]\n",
    "        return e, expiry, moneyness, np.array([np.interp(\n",
    "            moneyness, surface[surface[:, 1] == x][:, 0], surface[surface[:, 1] == x][:, 2]) for x in expiry])\n",
    "\n",
    "    def update_plot(self, json_list):\n",
    "        raw_points, expiry, moneyness, vol = Three.interpolate_surface(json_list)\n",
    "        raw_vertices = np.array(raw_points, dtype=np.float32)\n",
    "\n",
    "        if min(moneyness) > 0:\n",
    "            scale = 2 / np.log(2)\n",
    "            m = scale * np.log(moneyness)\n",
    "            raw_vertices[:, 0] = scale * np.log(raw_vertices[:, 0])\n",
    "        else:\n",
    "            m = np.array(moneyness) * 100.0\n",
    "            raw_vertices[:,0] = 100.0*raw_vertices[:,0]\n",
    "            self.plot.axes = ['moneyness (bps)', 'expiry', 'vol(\\%)']\n",
    "\n",
    "        v = vol * 100\n",
    "        raw_vertices[:, 2] = 100.0 * raw_vertices[:, 2]\n",
    "\n",
    "        U, V = np.meshgrid(m, expiry)\n",
    "        vertices = np.dstack([U, V, v]).astype(np.float32).reshape(-1, 3)\n",
    "        indices = Three.make_faces_vectorized1(*v.shape).astype(np.uint32)\n",
    "        if self.mesh is None:\n",
    "            self.mesh = k3d.mesh(\n",
    "                vertices, indices, flat_shading=False, attribute=v,\n",
    "                side='double', color_map=k3d.basic_color_maps.Reds, color_range=[v.min(), v.max()]\n",
    "            )\n",
    "            self.points = k3d.points(raw_vertices, point_size=0.1, shader='3d')\n",
    "            self.plot_label = k3d.text2d('Volatility', position=(0, 0))\n",
    "            # add the plots\n",
    "            self.plot += self.points\n",
    "            self.plot += self.mesh\n",
    "            self.plot += self.plot_label\n",
    "        else:\n",
    "            self.points.vertices = raw_vertices\n",
    "            self.mesh.attribute = v\n",
    "            self.mesh.color_range = [v.min(), v.max()]\n",
    "            self.mesh.vertices = vertices\n",
    "            self.mesh.indices = indices\n",
    "\n",
    "    @property\n",
    "    def value(self):\n",
    "        return to_json(self.obj)\n",
    "\n",
    "    @value.setter\n",
    "    def value(self, json_string):\n",
    "        self.obj = json.loads(json_string)\n",
    "        if isinstance(self.obj, dict):\n",
    "            self.selector.layout.visibility = 'visible'\n",
    "            self.dropdown.options = tuple(self.obj.keys())\n",
    "            selection = self.dropdown.options[0]\n",
    "            self.dropdown.value = selection\n",
    "            matrix = self.obj[selection]\n",
    "            data_value = to_json(matrix)\n",
    "        else:\n",
    "            self.selector.layout.visibility = 'hidden'\n",
    "            data_value = json_string\n",
    "            matrix = self.obj\n",
    "\n",
    "        self.data.value = data_value\n",
    "        self.update_plot(matrix)\n"
   ]
  },
  {
   "cell_type": "code",
   "execution_count": null,
   "id": "cc761720",
   "metadata": {},
   "outputs": [],
   "source": [
    "data"
   ]
  },
  {
   "cell_type": "code",
   "execution_count": null,
   "id": "41a91d3c",
   "metadata": {},
   "outputs": [],
   "source": [
    "t.value"
   ]
  },
  {
   "cell_type": "code",
   "execution_count": null,
   "id": "44ec37d2",
   "metadata": {},
   "outputs": [],
   "source": [
    "plt_text1.visible=False"
   ]
  },
  {
   "cell_type": "code",
   "execution_count": null,
   "id": "fd19ebd7",
   "metadata": {},
   "outputs": [],
   "source": [
    "from ipyfilechooser import FileChooser\n",
    "\n",
    "# Create and display a FileChooser widget\n",
    "fc = FileChooser('/home/vretiel/miniconda3/')\n",
    "display(fc)"
   ]
  },
  {
   "cell_type": "code",
   "execution_count": null,
   "id": "3b2c143c",
   "metadata": {},
   "outputs": [],
   "source": [
    "cx"
   ]
  },
  {
   "cell_type": "code",
   "execution_count": null,
   "id": "b83586d4",
   "metadata": {},
   "outputs": [],
   "source": [
    "pp = riskflow_jupyter.PortfolioPage(cx)"
   ]
  },
  {
   "cell_type": "code",
   "execution_count": null,
   "id": "2c457fdb",
   "metadata": {},
   "outputs": [],
   "source": [
    "pp.main_container"
   ]
  },
  {
   "cell_type": "code",
   "execution_count": null,
   "id": "2e27d251",
   "metadata": {},
   "outputs": [],
   "source": [
    "rfp = riskflow_jupyter.RiskFactorsPage(cx)"
   ]
  },
  {
   "cell_type": "code",
   "execution_count": null,
   "id": "db34b376",
   "metadata": {
    "scrolled": false
   },
   "outputs": [],
   "source": [
    "rfp.main_container\n"
   ]
  },
  {
   "cell_type": "code",
   "execution_count": 10,
   "id": "8cd4c346",
   "metadata": {},
   "outputs": [
    {
     "data": {
      "text/plain": [
       "<module 'riskflow_jupyter' from '/home/vretiel/PycharmProjects/riskflow/riskflow_jupyter.py'>"
      ]
     },
     "execution_count": 10,
     "metadata": {},
     "output_type": "execute_result"
    }
   ],
   "source": [
    "import importlib\n",
    "importlib.reload(riskflow_jupyter)"
   ]
  },
  {
   "cell_type": "code",
   "execution_count": 11,
   "id": "d21150a7",
   "metadata": {
    "scrolled": false
   },
   "outputs": [
    {
     "data": {
      "application/vnd.jupyter.widget-view+json": {
       "model_id": "9b303d83fb634dce81acaba5b1929410",
       "version_major": 2,
       "version_minor": 0
      },
      "text/plain": [
       "HBox(children=(Tree(plugins=['contextmenu', 'sort', 'unique', 'types', 'search'], selected=[''], settings='{\"c…"
      ]
     },
     "metadata": {},
     "output_type": "display_data"
    }
   ],
   "source": [
    "cp = riskflow_jupyter.CalculationPage(cx)\n",
    "cp.main_container"
   ]
  },
  {
   "cell_type": "code",
   "execution_count": 9,
   "id": "c3e67b7c",
   "metadata": {},
   "outputs": [
    {
     "name": "stdout",
     "output_type": "stream",
     "text": [
      "> \u001b[0;32m/home/vretiel/PycharmProjects/riskflow/riskflow_jupyter.py\u001b[0m(240)\u001b[0;36mdefine_input\u001b[0;34m()\u001b[0m\n",
      "\u001b[0;32m    238 \u001b[0;31m        \u001b[0mvals\u001b[0m \u001b[0;34m=\u001b[0m \u001b[0;34m[\u001b[0m\u001b[0mself\u001b[0m\u001b[0;34m.\u001b[0m\u001b[0mget_label\u001b[0m\u001b[0;34m(\u001b[0m\u001b[0mlabel\u001b[0m\u001b[0;34m)\u001b[0m\u001b[0;34m]\u001b[0m\u001b[0;34m\u001b[0m\u001b[0;34m\u001b[0m\u001b[0m\n",
      "\u001b[0m\u001b[0;32m    239 \u001b[0;31m\u001b[0;34m\u001b[0m\u001b[0m\n",
      "\u001b[0m\u001b[0;32m--> 240 \u001b[0;31m        \u001b[0;32mfor\u001b[0m \u001b[0mfield_name\u001b[0m\u001b[0;34m,\u001b[0m \u001b[0melement\u001b[0m \u001b[0;32min\u001b[0m \u001b[0mwidget_elements\u001b[0m\u001b[0;34m.\u001b[0m\u001b[0mitems\u001b[0m\u001b[0;34m(\u001b[0m\u001b[0;34m)\u001b[0m\u001b[0;34m:\u001b[0m\u001b[0;34m\u001b[0m\u001b[0;34m\u001b[0m\u001b[0m\n",
      "\u001b[0m\u001b[0;32m    241 \u001b[0;31m            \u001b[0;31m# skip this element if it's not visible\u001b[0m\u001b[0;34m\u001b[0m\u001b[0;34m\u001b[0m\u001b[0;34m\u001b[0m\u001b[0m\n",
      "\u001b[0m\u001b[0;32m    242 \u001b[0;31m            \u001b[0;32mif\u001b[0m \u001b[0melement\u001b[0m\u001b[0;34m.\u001b[0m\u001b[0mget\u001b[0m\u001b[0;34m(\u001b[0m\u001b[0;34m'isvisible'\u001b[0m\u001b[0;34m)\u001b[0m \u001b[0;34m==\u001b[0m \u001b[0;34m'False'\u001b[0m\u001b[0;34m:\u001b[0m\u001b[0;34m\u001b[0m\u001b[0;34m\u001b[0m\u001b[0m\n",
      "\u001b[0m\n",
      "ipdb> widget_elements\n",
      "dict_keys(['Factor_Setup_Time', 'Deal_Setup_Time', 'Tensor_Execution_Time', 'Gradient_Vector_Size'])\n",
      "ipdb> new_label\n",
      "*** NameError: name 'new_label' is not defined\n",
      "ipdb> u\n",
      "> \u001b[0;32m/home/vretiel/PycharmProjects/riskflow/riskflow_jupyter.py\u001b[0m(254)\u001b[0;36mdefine_input\u001b[0;34m()\u001b[0m\n",
      "\u001b[0;32m    252 \u001b[0;31m                new_label = label + [\n",
      "\u001b[0m\u001b[0;32m    253 \u001b[0;31m                    element['description']] if isinstance(label, list) else [element['description']]\n",
      "\u001b[0m\u001b[0;32m--> 254 \u001b[0;31m                \u001b[0mw\u001b[0m\u001b[0;34m,\u001b[0m \u001b[0mv\u001b[0m \u001b[0;34m=\u001b[0m \u001b[0mself\u001b[0m\u001b[0;34m.\u001b[0m\u001b[0mdefine_input\u001b[0m\u001b[0;34m(\u001b[0m\u001b[0;34m[\u001b[0m\u001b[0mx\u001b[0m\u001b[0;34m.\u001b[0m\u001b[0mreplace\u001b[0m\u001b[0;34m(\u001b[0m\u001b[0;34m' '\u001b[0m\u001b[0;34m,\u001b[0m \u001b[0;34m'_'\u001b[0m\u001b[0;34m)\u001b[0m \u001b[0;32mfor\u001b[0m \u001b[0mx\u001b[0m \u001b[0;32min\u001b[0m \u001b[0mnew_label\u001b[0m\u001b[0;34m]\u001b[0m\u001b[0;34m,\u001b[0m \u001b[0melement\u001b[0m\u001b[0;34m[\u001b[0m\u001b[0;34m'sub_fields'\u001b[0m\u001b[0;34m]\u001b[0m\u001b[0;34m)\u001b[0m\u001b[0;34m\u001b[0m\u001b[0;34m\u001b[0m\u001b[0m\n",
      "\u001b[0m\u001b[0;32m    255 \u001b[0;31m                \u001b[0mvals\u001b[0m\u001b[0;34m.\u001b[0m\u001b[0mappend\u001b[0m\u001b[0;34m(\u001b[0m\u001b[0mv\u001b[0m\u001b[0;34m)\u001b[0m\u001b[0;34m\u001b[0m\u001b[0;34m\u001b[0m\u001b[0m\n",
      "\u001b[0m\u001b[0;32m    256 \u001b[0;31m            \u001b[0;32melif\u001b[0m \u001b[0melement\u001b[0m\u001b[0;34m[\u001b[0m\u001b[0;34m'widget'\u001b[0m\u001b[0;34m]\u001b[0m \u001b[0;34m==\u001b[0m \u001b[0;34m'Flot'\u001b[0m\u001b[0;34m:\u001b[0m\u001b[0;34m\u001b[0m\u001b[0;34m\u001b[0m\u001b[0m\n",
      "\u001b[0m\n",
      "ipdb> new_label\n",
      "['CreditMonteCarlo.CrB_Natixis_ISDA', 'Results', 'Stats']\n",
      "ipdb> element['sub_fields']\n",
      "dict_keys(['Factor_Setup_Time', 'Deal_Setup_Time', 'Tensor_Execution_Time', 'Gradient_Vector_Size'])\n",
      "ipdb> q\n"
     ]
    }
   ],
   "source": [
    "%debug"
   ]
  },
  {
   "cell_type": "code",
   "execution_count": null,
   "id": "7b4ee334",
   "metadata": {},
   "outputs": [],
   "source": [
    "#cx.current_cfg.params['Price Factors']['InterestRate.CHF-OIS']['Curve'].array.dtype\n",
    "cx.current_cfg.deals['Calculation']"
   ]
  },
  {
   "cell_type": "code",
   "execution_count": null,
   "id": "f3799625",
   "metadata": {},
   "outputs": [],
   "source": [
    "calc, output = cx.run_job()"
   ]
  },
  {
   "cell_type": "code",
   "execution_count": null,
   "id": "f2c6f2f1",
   "metadata": {},
   "outputs": [],
   "source": [
    "output['Results']['grad_cva'].reset_index()"
   ]
  },
  {
   "cell_type": "code",
   "execution_count": null,
   "id": "defff6fd",
   "metadata": {},
   "outputs": [],
   "source": [
    "a=Flot(description='asds', \n",
    "       hot_settings=to_json(\n",
    "           {\n",
    "               'columns': [{},\n",
    "                           {\"type\": \"numeric\",\"numericFormat\": {\"pattern\": \"0,0.00\"}},\n",
    "                           {\"type\": \"numeric\",\"numericFormat\": {\"pattern\": \"0,0.00\"}}\n",
    "                           ],\n",
    "               'manualColumnResize': True\n",
    "               }\n",
    "       ), \n",
    "       flot_settings=to_json(\n",
    "           {\n",
    "            'xaxis': { 'mode': \"time\", 'timeBase': \"milliseconds\"}\n",
    "           }\n",
    "        )\n",
    "    )\n",
    "a"
   ]
  },
  {
   "cell_type": "code",
   "execution_count": null,
   "id": "9ec7c7cc",
   "metadata": {},
   "outputs": [],
   "source": [
    "#pp.tree_data\n",
    "# rfp.tree_data[-1]\n",
    "p=output['Results']['profile']\n",
    "o = [{'label':c, 'data':[[x,y] for x,y in zip(p.index.astype(np.int64)//1000000, p[c].values)]} for c in p.columns]\n",
    "a.value=to_json(o)"
   ]
  },
  {
   "cell_type": "code",
   "execution_count": null,
   "id": "d876fdcd",
   "metadata": {},
   "outputs": [],
   "source": [
    "#cp.calculation_fields['CreditMonteCarlo']"
   ]
  },
  {
   "cell_type": "code",
   "execution_count": null,
   "id": "de52d040",
   "metadata": {},
   "outputs": [],
   "source": [
    "// default\n",
    "'Fractional_Tolerance': {'widget': 'Float', 'description': 'Fractional Tolerance', 'value': 0.0},"
   ]
  },
  {
   "cell_type": "code",
   "execution_count": null,
   "id": "d585bd6b",
   "metadata": {},
   "outputs": [],
   "source": [
    "#[x.milliseconds for x in p.index]\n",
    "p.index.astype(np.int64)\n",
    "\n"
   ]
  },
  {
   "cell_type": "code",
   "execution_count": null,
   "id": "a42e8023",
   "metadata": {},
   "outputs": [],
   "source": [
    "{k: pd.DataFrame(np.percentile(v, [2.5, 50, 97.5], axis=1).T, columns=[2.5, 50, 97.5], index=v.index) for k,v in output['Results']['cashflows'].items()}"
   ]
  },
  {
   "cell_type": "code",
   "execution_count": null,
   "id": "da1e001c",
   "metadata": {},
   "outputs": [],
   "source": [
    "np.percentile (output['Results']['cashflows']['USD'], [2.5, 5, 10, 90], axis=1).T"
   ]
  },
  {
   "cell_type": "code",
   "execution_count": null,
   "id": "fd418945",
   "metadata": {},
   "outputs": [],
   "source": [
    "calc, output = cx.Base_Valuation()"
   ]
  },
  {
   "cell_type": "code",
   "execution_count": null,
   "id": "ef9d6d1b",
   "metadata": {},
   "outputs": [],
   "source": [
    "output['Results']"
   ]
  },
  {
   "cell_type": "code",
   "execution_count": null,
   "id": "5ae758f2",
   "metadata": {},
   "outputs": [],
   "source": [
    "#rfp.right_container.children[0].children[4].plot.layout.max_width='600px'\n",
    "dir(rfp.right_container.children[0].children[2])"
   ]
  },
  {
   "cell_type": "code",
   "execution_count": null,
   "id": "35cc4941",
   "metadata": {},
   "outputs": [],
   "source": [
    "rfp.right_container.children[0].children[2].dropdown.layout.max_width='360px'\n",
    "#rfp.right_container.children[0].children[2].selector.layout.max_width='600px'\n",
    "rfp.right_container.children[0].children[2].selector"
   ]
  }
 ],
 "metadata": {
  "kernelspec": {
   "display_name": "Python 3 (ipykernel)",
   "language": "python",
   "name": "python3"
  },
  "language_info": {
   "codemirror_mode": {
    "name": "ipython",
    "version": 3
   },
   "file_extension": ".py",
   "mimetype": "text/x-python",
   "name": "python",
   "nbconvert_exporter": "python",
   "pygments_lexer": "ipython3",
   "version": "3.8.13"
  }
 },
 "nbformat": 4,
 "nbformat_minor": 5
}
