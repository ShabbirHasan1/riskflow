{
 "cells": [
  {
   "cell_type": "code",
   "execution_count": 1,
   "id": "635bde78",
   "metadata": {},
   "outputs": [],
   "source": [
    "import os\n",
    "import logging\n",
    "import numpy as np\n",
    "import pandas as pd\n",
    "\n",
    "import riskflow_jupyter"
   ]
  },
  {
   "cell_type": "code",
   "execution_count": 2,
   "id": "2f8a92f6",
   "metadata": {},
   "outputs": [
    {
     "data": {
      "text/plain": [
       "<module 'riskflow_jupyter' from 'C:\\\\Users\\\\shuaib.osman\\\\PycharmProjects\\\\riskflow\\\\riskflow_jupyter.py'>"
      ]
     },
     "execution_count": 2,
     "metadata": {},
     "output_type": "execute_result"
    }
   ],
   "source": [
    "import importlib\n",
    "importlib.reload(riskflow_jupyter)"
   ]
  },
  {
   "cell_type": "code",
   "execution_count": 3,
   "id": "50ae1cfe",
   "metadata": {
    "scrolled": false
   },
   "outputs": [
    {
     "data": {
      "application/vnd.jupyter.widget-view+json": {
       "model_id": "a6e421f11d624c489bec7c77de4bd08d",
       "version_major": 2,
       "version_minor": 0
      },
      "text/plain": [
       "VBox(children=(Tab(children=(VBox(children=(VBox(children=(VBox(children=(VBox(children=(Text(value='\\\\\\\\ICMJH…"
      ]
     },
     "metadata": {},
     "output_type": "display_data"
    }
   ],
   "source": [
    "rundate = '2022-07-07'\n",
    "if os.name=='nt':\n",
    "    path = os.path.join('U:\\\\CVA_JSON', rundate)\n",
    "    path_transform={\n",
    "        '\\\\\\\\ICMJHBMVDROPPRD\\\\AdaptiveAnalytics\\\\Inbound\\\\MarketData':\n",
    "        '\\\\\\\\ICMJHBMVDROPUAT\\\\AdaptiveAnalytics\\\\Inbound\\\\MarketData'}\n",
    "else:\n",
    "    path = os.path.join('/media/vretiel/3EFA4BCDFA4B7FDF/Media/Data/crstal/CVA_JSON', rundate)\n",
    "    path_transform={\n",
    "            '//ICMJHBMVDROPPRD/AdaptiveAnalytics/Inbound/MarketData': \n",
    "            '/media/vretiel/3EFA4BCDFA4B7FDF/Media/Data/crstal/CVA_JSON'}\n",
    "    \n",
    "w=riskflow_jupyter.Workbench(\n",
    "    path=path, \n",
    "    path_transform=path_transform,\n",
    "    file_transform={\n",
    "    'CVAMarketData_Calibrated.dat': 'CVAMarketData_Calibrated_New.json',\n",
    "    'MarketData.dat': 'MarketData.json'})\n",
    "\n"
   ]
  },
  {
   "cell_type": "code",
   "execution_count": null,
   "id": "17518157",
   "metadata": {},
   "outputs": [],
   "source": [
    "%debug"
   ]
  },
  {
   "cell_type": "code",
   "execution_count": null,
   "id": "ae936316",
   "metadata": {},
   "outputs": [],
   "source": [
    "w.factors.data['CommodityPriceVol.SILVER']\n"
   ]
  },
  {
   "cell_type": "code",
   "execution_count": null,
   "id": "54d2c106",
   "metadata": {},
   "outputs": [],
   "source": [
    "# riskflow_jupyter.rf.fields.mapping['Factor']['types']\n",
    "p=riskflow_jupyter.RiskFactorsPage(w.context)"
   ]
  },
  {
   "cell_type": "code",
   "execution_count": null,
   "id": "2ceb6945",
   "metadata": {
    "scrolled": false
   },
   "outputs": [],
   "source": [
    "p.main_container"
   ]
  },
  {
   "cell_type": "code",
   "execution_count": null,
   "id": "1f80f26d",
   "metadata": {},
   "outputs": [],
   "source": [
    "p.data['CommodityPriceVol.SILVER']"
   ]
  },
  {
   "cell_type": "code",
   "execution_count": null,
   "id": "5f3611e6",
   "metadata": {},
   "outputs": [],
   "source": [
    "w.context.current_cfg.deals['Calculation']"
   ]
  },
  {
   "cell_type": "code",
   "execution_count": null,
   "id": "dc8966a2",
   "metadata": {},
   "outputs": [],
   "source": [
    "w.context.current_cfg.deals['Deals']['Children'][0]['Children'][0]['Instrument'].field"
   ]
  },
  {
   "cell_type": "code",
   "execution_count": null,
   "id": "ba1b6de5",
   "metadata": {},
   "outputs": [],
   "source": [
    "rundate = '2022-07-07'\n",
    "if os.name=='nt':\n",
    "    path = os.path.join('U:\\\\CVA_JSON', rundate)\n",
    "    path_transform={\n",
    "        '\\\\\\\\ICMJHBMVDROPPRD\\\\AdaptiveAnalytics\\\\Inbound\\\\MarketData':\n",
    "        '\\\\\\\\ICMJHBMVDROPUAT\\\\AdaptiveAnalytics\\\\Inbound\\\\MarketData'}\n",
    "else:\n",
    "    path = os.path.join('/media/vretiel/3EFA4BCDFA4B7FDF/Media/Data/crstal/CVA_JSON', rundate)\n",
    "    path_transform={\n",
    "            '//ICMJHBMVDROPPRD/AdaptiveAnalytics/Inbound/MarketData': \n",
    "            '/media/vretiel/3EFA4BCDFA4B7FDF/Media/Data/crstal/CVA_JSON'}\n",
    "    \n",
    "cx = riskflow_jupyter.rf.Context(\n",
    "    path_transform=path_transform,\n",
    "    file_transform={\n",
    "        'CVAMarketData_Calibrated.dat': 'CVAMarketData_Calibrated_New.json',\n",
    "        'MarketData.dat': 'MarketData.json'\n",
    "    })"
   ]
  },
  {
   "cell_type": "code",
   "execution_count": null,
   "id": "cbc25052",
   "metadata": {},
   "outputs": [],
   "source": [
    "# cx.load_json(os.path.join(path, 'InputAAJ_CrB_Russellstone_Treasury_ISDA.json'))\n",
    "# cx.load_json(os.path.join(path, 'InputAAJ_CrB_BNP_Paribas__Paris__ISDA.json'))\n",
    "# cx.load_json(os.path.join(path, 'InputAAJ_CrB_Citibank_NA_NY_ISDA.json'))\n",
    "cx.load_json(os.path.join(path, 'InputAAJ_CrB_JPMorgan_Chase_NYK_ISDA.json'))\n",
    "\n",
    "# cx.load_json(os.path.join(path, 'InputAAJ_CrB_Natixis_ISDA.json'))\n",
    "\n"
   ]
  },
  {
   "cell_type": "code",
   "execution_count": null,
   "id": "28bdec70",
   "metadata": {},
   "outputs": [],
   "source": [
    "path"
   ]
  },
  {
   "cell_type": "code",
   "execution_count": null,
   "id": "2e43ca20",
   "metadata": {},
   "outputs": [],
   "source": [
    "calc, output = cx.run_job()"
   ]
  }
 ],
 "metadata": {
  "kernelspec": {
   "display_name": "Python 3",
   "language": "python",
   "name": "python3"
  },
  "language_info": {
   "codemirror_mode": {
    "name": "ipython",
    "version": 3
   },
   "file_extension": ".py",
   "mimetype": "text/x-python",
   "name": "python",
   "nbconvert_exporter": "python",
   "pygments_lexer": "ipython3",
   "version": "3.8.5"
  }
 },
 "nbformat": 4,
 "nbformat_minor": 5
}
