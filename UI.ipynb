{
 "cells": [
  {
   "cell_type": "code",
   "execution_count": 1,
   "id": "9d38a794",
   "metadata": {},
   "outputs": [],
   "source": [
    "import os\n",
    "import numpy as np\n",
    "import pandas as pd\n",
    "\n",
    "import riskflow_jupyter"
   ]
  },
  {
   "cell_type": "code",
   "execution_count": 2,
   "id": "5014d617",
   "metadata": {},
   "outputs": [],
   "source": [
    "rundate = '2022-07-07'\n",
    "if os.name=='nt':\n",
    "    path = os.path.join('U:\\\\CVA_JSON', rundate)\n",
    "    path_transform={\n",
    "        '\\\\\\\\ICMJHBMVDROPPRD\\\\AdaptiveAnalytics\\\\Inbound\\\\MarketData':\n",
    "        '\\\\\\\\ICMJHBMVDROPUAT\\\\AdaptiveAnalytics\\\\Inbound\\\\MarketData'}\n",
    "else:\n",
    "    path = os.path.join('/media/vretiel/3EFA4BCDFA4B7FDF/Media/Data/crstal/CVA_JSON', rundate)\n",
    "    path_transform={\n",
    "            '//ICMJHBMVDROPPRD/AdaptiveAnalytics/Inbound/MarketData': \n",
    "            '/media/vretiel/3EFA4BCDFA4B7FDF/Media/Data/crstal/CVA_JSON'}\n",
    "    \n",
    "cx = riskflow_jupyter.rf.Context(\n",
    "    path_transform=path_transform,\n",
    "    file_transform={\n",
    "        'CVAMarketData_Calibrated.dat': 'CVAMarketData_Calibrated_New.json',\n",
    "        'MarketData.dat': 'MarketData.json'\n",
    "    })"
   ]
  },
  {
   "cell_type": "code",
   "execution_count": 3,
   "id": "e15187c7",
   "metadata": {},
   "outputs": [],
   "source": [
    "from ipywidgets import Label, HBox, VBox\n",
    "from riskflow_widgets import Table"
   ]
  },
  {
   "cell_type": "code",
   "execution_count": 4,
   "id": "4a6c6323",
   "metadata": {},
   "outputs": [
    {
     "data": {
      "text/plain": [
       "<riskflow.Context at 0x7f5142f2b460>"
      ]
     },
     "execution_count": 4,
     "metadata": {},
     "output_type": "execute_result"
    }
   ],
   "source": [
    "# cx.load_json(os.path.join(path, 'InputAAJ_CrB_Russellstone_Treasury_ISDA.json'))\n",
    "cx.load_json(os.path.join(path, 'InputAAJ_CrB_BNP_Paribas__Paris__ISDA.json'))\n"
   ]
  },
  {
   "cell_type": "code",
   "execution_count": null,
   "id": "2960b0b0",
   "metadata": {},
   "outputs": [],
   "source": [
    "import ipywidgets\n",
    "dir(ipywidgets)"
   ]
  },
  {
   "cell_type": "code",
   "execution_count": null,
   "id": "3230eff2",
   "metadata": {},
   "outputs": [],
   "source": [
    "factor = riskflow_jupyter.rf.utils.Factor('FXVol',('GBP','ZAR'))\n",
    "vol = riskflow_jupyter.rf.riskfactors.construct_factor( factor,\n",
    "    cx.current_cfg.params['Price Factors'],\n",
    "    cx.current_cfg.params['Price Factor Interpolation']\n",
    ")"
   ]
  },
  {
   "cell_type": "code",
   "execution_count": null,
   "id": "07cdc8d5",
   "metadata": {},
   "outputs": [],
   "source": [
    "import k3d\n",
    "import json\n",
    "\n",
    "\n",
    "def to_json(string):\n",
    "    \"\"\"converts a string to json - skips the whitespace for a smaller output\"\"\"\n",
    "    return json.dumps(string, separators=(',', ':'))\n",
    "\n",
    "\n",
    "def load_table_from_vol(vol):\n",
    "    sparse_matrix = {}\n",
    "    for k in vol.param['Surface'].array:\n",
    "        sparse_matrix.setdefault(k[0], {}).setdefault(k[1], k[2])\n",
    "\n",
    "    df = pd.DataFrame(sparse_matrix).sort_index(0, 1)\n",
    "\n",
    "    table = np.vstack([[0.0]+df.columns.values.round(5).tolist(), \n",
    "               np.hstack([df.index.values.round(5).reshape(-1,1).tolist(),\n",
    "                          df.round(5).replace({np.nan:None})])]).tolist()\n",
    "    \n",
    "    return table\n",
    "\n",
    "\n",
    "class Three(HBox):\n",
    "    def __init__(self, description):\n",
    "        self.description = Label(value=description)        \n",
    "        self.plot = k3d.plot(\n",
    "            axes=['log(moneyness)', 'expiry','vol(\\%)'],\n",
    "            #menu_visibility=False,\n",
    "            camera_rotate_speed=3.0\n",
    "            )\n",
    "        self.mesh = None\n",
    "        self.data = Table(description='', settings=to_json({\n",
    "            'width':500, 'height':300, 'contextMenu':True, 'minSpareRows':1, 'minSpareCols':1\n",
    "        }))                \n",
    "        \n",
    "        super().__init__(\n",
    "            children=[\n",
    "                self.description,\n",
    "                VBox(children=[self.plot, self.data])\n",
    "            ]\n",
    "        )\n",
    "        \n",
    "    def observe(self, handler, prop, type='change'):\n",
    "        def make_func():\n",
    "            def handle_draw(change):\n",
    "                handler(change)\n",
    "                self.update_plot(json.loads(change['new']))\n",
    "            return handle_draw\n",
    "        \n",
    "        if self.children:\n",
    "            self.data.observe(make_func(), prop, type)\n",
    "        else:\n",
    "            super().observe(handler, prop, type)\n",
    "        \n",
    "    @staticmethod\n",
    "    def make_faces_vectorized1(Nr,Nc):\n",
    "\n",
    "        out = np.empty((Nr-1,Nc-1,2,3),dtype=int)\n",
    "\n",
    "        r = np.arange(Nr*Nc).reshape(Nr,Nc)\n",
    "\n",
    "        out[:,:, 0,0] = r[:-1,:-1]\n",
    "        out[:,:, 1,0] = r[:-1,1:]\n",
    "        out[:,:, 0,1] = r[:-1,1:]\n",
    "\n",
    "        out[:,:, 1,1] = r[1:,1:]\n",
    "        out[:,:, :,2] = r[1:,:-1,None]\n",
    "\n",
    "        out.shape =(-1,3)\n",
    "        return out\n",
    "    \n",
    "    def update_plot(self, json_list):\n",
    "        e, moneyness, vol = Three.interpolate_surface(json_list)\n",
    "        scale = 2/np.log(2)\n",
    "        m = scale*np.log(moneyness)\n",
    "        v = vol*100\n",
    "        \n",
    "        U, V = np.meshgrid(m, e)\n",
    "        vertices = np.dstack([U, V, v]).reshape(-1,3)\n",
    "        indices = Three.make_faces_vectorized1(*v.shape)\n",
    "        if self.mesh is None:\n",
    "            self.mesh = k3d.mesh(\n",
    "                vertices.astype(np.float32), indices.astype(np.uint32), flat_shading=False, attribute=v,\n",
    "                side='double', color_map=k3d.basic_color_maps.Reds, color_range=[v.min(), v.max()]\n",
    "            )\n",
    "            self.plot+=self.mesh\n",
    "        else:\n",
    "            self.mesh.vertices = vertices\n",
    "            self.mesh.indices = indices\n",
    "        \n",
    "    @staticmethod\n",
    "    def interpolate_surface(json_list):\n",
    "        moneyness = json_list[0][1:]\n",
    "        e = []\n",
    "        for p in json_list[1:]:\n",
    "            e.extend([[m, p[0], v] for m,v in zip(moneyness, p[1:]) if v is not None])\n",
    "\n",
    "        surface = np.array(e)\n",
    "        expiry = [p[0] for p in json_list[1:]]\n",
    "        return expiry, moneyness, np.array([np.interp(\n",
    "            moneyness, surface[surface[:, 1] == x][:, 0], surface[surface[:, 1] == x][:, 2]) for x in expiry])\n",
    "\n",
    "    \n",
    "    @property\n",
    "    def value(self):        \n",
    "        return self.data.value\n",
    "    \n",
    "    # a setter function\n",
    "    @value.setter\n",
    "    def value(self, json_list):\n",
    "        self.data.value = to_json(json_list)\n",
    "        self.update_plot(json_list)\n",
    "        "
   ]
  },
  {
   "cell_type": "code",
   "execution_count": null,
   "id": "3e688033",
   "metadata": {},
   "outputs": [],
   "source": [
    "j=load_table_from_vol(vol)\n",
    "j\n",
    "#np.isnan(None)"
   ]
  },
  {
   "cell_type": "code",
   "execution_count": null,
   "id": "05462d56",
   "metadata": {},
   "outputs": [],
   "source": [
    "# g = np.vstack([x[0], heights]).tolist()\n",
    "t = Three(description='Test' )\n",
    "t.observe(lambda x:x['new'], 'value')\n"
   ]
  },
  {
   "cell_type": "code",
   "execution_count": null,
   "id": "25638b27",
   "metadata": {},
   "outputs": [],
   "source": [
    "# t.data.col_headers = ['x/y']+x[0].tolist()\n",
    "t.value = j"
   ]
  },
  {
   "cell_type": "code",
   "execution_count": null,
   "id": "61a23f02",
   "metadata": {
    "scrolled": false
   },
   "outputs": [],
   "source": [
    "t.data.settings"
   ]
  },
  {
   "cell_type": "code",
   "execution_count": null,
   "id": "e9719ea3",
   "metadata": {},
   "outputs": [],
   "source": [
    "t"
   ]
  },
  {
   "cell_type": "code",
   "execution_count": null,
   "id": "220a0abe",
   "metadata": {},
   "outputs": [],
   "source": [
    "t.mesh.attribute"
   ]
  },
  {
   "cell_type": "code",
   "execution_count": null,
   "id": "61f1e222",
   "metadata": {},
   "outputs": [],
   "source": [
    "from ipyfilechooser import FileChooser\n",
    "\n",
    "# Create and display a FileChooser widget\n",
    "fc = FileChooser('/home/vretiel/miniconda3/')\n",
    "display(fc)"
   ]
  },
  {
   "cell_type": "code",
   "execution_count": null,
   "id": "3906e971",
   "metadata": {},
   "outputs": [],
   "source": [
    "fc.selected_filename"
   ]
  },
  {
   "cell_type": "code",
   "execution_count": null,
   "id": "ede37afd",
   "metadata": {},
   "outputs": [],
   "source": [
    "cx"
   ]
  },
  {
   "cell_type": "code",
   "execution_count": 5,
   "id": "a2a7beb2",
   "metadata": {},
   "outputs": [],
   "source": [
    "pp = riskflow_jupyter.PortfolioPage(cx.current_cfg)"
   ]
  },
  {
   "cell_type": "code",
   "execution_count": 6,
   "id": "50011ea0",
   "metadata": {},
   "outputs": [
    {
     "data": {
      "application/vnd.jupyter.widget-view+json": {
       "model_id": "6eafd790b2964f77a5400fd4f28fd3f0",
       "version_major": 2,
       "version_minor": 0
      },
      "text/plain": [
       "HBox(children=(Tree(plugins=['contextmenu', 'sort', 'types', 'search', 'unique'], selected=[''], settings='{\"c…"
      ]
     },
     "metadata": {},
     "output_type": "display_data"
    }
   ],
   "source": [
    "pp.main_container"
   ]
  },
  {
   "cell_type": "code",
   "execution_count": 7,
   "id": "6b99f9a4",
   "metadata": {},
   "outputs": [],
   "source": [
    "rfp = riskflow_jupyter.RiskFactorsPage(cx.current_cfg)"
   ]
  },
  {
   "cell_type": "code",
   "execution_count": 8,
   "id": "f718e574",
   "metadata": {
    "scrolled": false
   },
   "outputs": [
    {
     "data": {
      "application/vnd.jupyter.widget-view+json": {
       "model_id": "d1abec78662c4e989471a76e67b21d21",
       "version_major": 2,
       "version_minor": 0
      },
      "text/plain": [
       "HBox(children=(Tree(plugins=['contextmenu', 'sort', 'unique', 'types', 'search', 'checkbox'], selected=[''], s…"
      ]
     },
     "metadata": {},
     "output_type": "display_data"
    },
    {
     "name": "stderr",
     "output_type": "stream",
     "text": [
      "/home/vretiel/miniconda3/lib/python3.8/site-packages/traittypes/traittypes.py:97: UserWarning: Given trait value dtype \"float64\" does not match required type \"float32\". A coerced copy has been created.\n",
      "  warnings.warn(\n"
     ]
    },
    {
     "ename": "KeyError",
     "evalue": "0",
     "output_type": "error",
     "traceback": [
      "\u001b[0;31m---------------------------------------------------------------------------\u001b[0m",
      "\u001b[0;31mKeyError\u001b[0m                                  Traceback (most recent call last)",
      "File \u001b[0;32m~/miniconda3/lib/python3.8/site-packages/ipywidgets/widgets/widget.py:676\u001b[0m, in \u001b[0;36mWidget._handle_msg\u001b[0;34m(self, msg)\u001b[0m\n\u001b[1;32m    674\u001b[0m         \u001b[38;5;28;01mif\u001b[39;00m \u001b[38;5;124m'\u001b[39m\u001b[38;5;124mbuffer_paths\u001b[39m\u001b[38;5;124m'\u001b[39m \u001b[38;5;129;01min\u001b[39;00m data:\n\u001b[1;32m    675\u001b[0m             _put_buffers(state, data[\u001b[38;5;124m'\u001b[39m\u001b[38;5;124mbuffer_paths\u001b[39m\u001b[38;5;124m'\u001b[39m], msg[\u001b[38;5;124m'\u001b[39m\u001b[38;5;124mbuffers\u001b[39m\u001b[38;5;124m'\u001b[39m])\n\u001b[0;32m--> 676\u001b[0m         \u001b[38;5;28;43mself\u001b[39;49m\u001b[38;5;241;43m.\u001b[39;49m\u001b[43mset_state\u001b[49m\u001b[43m(\u001b[49m\u001b[43mstate\u001b[49m\u001b[43m)\u001b[49m\n\u001b[1;32m    678\u001b[0m \u001b[38;5;66;03m# Handle a state request.\u001b[39;00m\n\u001b[1;32m    679\u001b[0m \u001b[38;5;28;01melif\u001b[39;00m method \u001b[38;5;241m==\u001b[39m \u001b[38;5;124m'\u001b[39m\u001b[38;5;124mrequest_state\u001b[39m\u001b[38;5;124m'\u001b[39m:\n",
      "File \u001b[0;32m~/miniconda3/lib/python3.8/site-packages/ipywidgets/widgets/widget.py:545\u001b[0m, in \u001b[0;36mWidget.set_state\u001b[0;34m(self, sync_data)\u001b[0m\n\u001b[1;32m    542\u001b[0m \u001b[38;5;28;01mif\u001b[39;00m name \u001b[38;5;129;01min\u001b[39;00m \u001b[38;5;28mself\u001b[39m\u001b[38;5;241m.\u001b[39mkeys:\n\u001b[1;32m    543\u001b[0m     from_json \u001b[38;5;241m=\u001b[39m \u001b[38;5;28mself\u001b[39m\u001b[38;5;241m.\u001b[39mtrait_metadata(name, \u001b[38;5;124m'\u001b[39m\u001b[38;5;124mfrom_json\u001b[39m\u001b[38;5;124m'\u001b[39m,\n\u001b[1;32m    544\u001b[0m                                     \u001b[38;5;28mself\u001b[39m\u001b[38;5;241m.\u001b[39m_trait_from_json)\n\u001b[0;32m--> 545\u001b[0m     \u001b[38;5;28mself\u001b[39m\u001b[38;5;241m.\u001b[39mset_trait(name, from_json(sync_data[name], \u001b[38;5;28mself\u001b[39m))\n",
      "File \u001b[0;32m~/miniconda3/lib/python3.8/contextlib.py:120\u001b[0m, in \u001b[0;36m_GeneratorContextManager.__exit__\u001b[0;34m(self, type, value, traceback)\u001b[0m\n\u001b[1;32m    118\u001b[0m \u001b[38;5;28;01mif\u001b[39;00m \u001b[38;5;28mtype\u001b[39m \u001b[38;5;129;01mis\u001b[39;00m \u001b[38;5;28;01mNone\u001b[39;00m:\n\u001b[1;32m    119\u001b[0m     \u001b[38;5;28;01mtry\u001b[39;00m:\n\u001b[0;32m--> 120\u001b[0m         \u001b[38;5;28;43mnext\u001b[39;49m\u001b[43m(\u001b[49m\u001b[38;5;28;43mself\u001b[39;49m\u001b[38;5;241;43m.\u001b[39;49m\u001b[43mgen\u001b[49m\u001b[43m)\u001b[49m\n\u001b[1;32m    121\u001b[0m     \u001b[38;5;28;01mexcept\u001b[39;00m \u001b[38;5;167;01mStopIteration\u001b[39;00m:\n\u001b[1;32m    122\u001b[0m         \u001b[38;5;28;01mreturn\u001b[39;00m \u001b[38;5;28;01mFalse\u001b[39;00m\n",
      "File \u001b[0;32m~/miniconda3/lib/python3.8/site-packages/traitlets/traitlets.py:1216\u001b[0m, in \u001b[0;36mHasTraits.hold_trait_notifications\u001b[0;34m(self)\u001b[0m\n\u001b[1;32m   1214\u001b[0m \u001b[38;5;28;01mfor\u001b[39;00m changes \u001b[38;5;129;01min\u001b[39;00m cache\u001b[38;5;241m.\u001b[39mvalues():\n\u001b[1;32m   1215\u001b[0m     \u001b[38;5;28;01mfor\u001b[39;00m change \u001b[38;5;129;01min\u001b[39;00m changes:\n\u001b[0;32m-> 1216\u001b[0m         \u001b[38;5;28;43mself\u001b[39;49m\u001b[38;5;241;43m.\u001b[39;49m\u001b[43mnotify_change\u001b[49m\u001b[43m(\u001b[49m\u001b[43mchange\u001b[49m\u001b[43m)\u001b[49m\n",
      "File \u001b[0;32m~/miniconda3/lib/python3.8/site-packages/ipywidgets/widgets/widget.py:606\u001b[0m, in \u001b[0;36mWidget.notify_change\u001b[0;34m(self, change)\u001b[0m\n\u001b[1;32m    603\u001b[0m     \u001b[38;5;28;01mif\u001b[39;00m name \u001b[38;5;129;01min\u001b[39;00m \u001b[38;5;28mself\u001b[39m\u001b[38;5;241m.\u001b[39mkeys \u001b[38;5;129;01mand\u001b[39;00m \u001b[38;5;28mself\u001b[39m\u001b[38;5;241m.\u001b[39m_should_send_property(name, \u001b[38;5;28mgetattr\u001b[39m(\u001b[38;5;28mself\u001b[39m, name)):\n\u001b[1;32m    604\u001b[0m         \u001b[38;5;66;03m# Send new state to front-end\u001b[39;00m\n\u001b[1;32m    605\u001b[0m         \u001b[38;5;28mself\u001b[39m\u001b[38;5;241m.\u001b[39msend_state(key\u001b[38;5;241m=\u001b[39mname)\n\u001b[0;32m--> 606\u001b[0m \u001b[38;5;28;43msuper\u001b[39;49m\u001b[43m(\u001b[49m\u001b[43mWidget\u001b[49m\u001b[43m,\u001b[49m\u001b[43m \u001b[49m\u001b[38;5;28;43mself\u001b[39;49m\u001b[43m)\u001b[49m\u001b[38;5;241;43m.\u001b[39;49m\u001b[43mnotify_change\u001b[49m\u001b[43m(\u001b[49m\u001b[43mchange\u001b[49m\u001b[43m)\u001b[49m\n",
      "File \u001b[0;32m~/miniconda3/lib/python3.8/site-packages/traitlets/traitlets.py:1229\u001b[0m, in \u001b[0;36mHasTraits.notify_change\u001b[0;34m(self, change)\u001b[0m\n\u001b[1;32m   1227\u001b[0m \u001b[38;5;28;01mdef\u001b[39;00m \u001b[38;5;21mnotify_change\u001b[39m(\u001b[38;5;28mself\u001b[39m, change):\n\u001b[1;32m   1228\u001b[0m     \u001b[38;5;124;03m\"\"\"Notify observers of a change event\"\"\"\u001b[39;00m\n\u001b[0;32m-> 1229\u001b[0m     \u001b[38;5;28;01mreturn\u001b[39;00m \u001b[38;5;28;43mself\u001b[39;49m\u001b[38;5;241;43m.\u001b[39;49m\u001b[43m_notify_observers\u001b[49m\u001b[43m(\u001b[49m\u001b[43mchange\u001b[49m\u001b[43m)\u001b[49m\n",
      "File \u001b[0;32m~/miniconda3/lib/python3.8/site-packages/traitlets/traitlets.py:1266\u001b[0m, in \u001b[0;36mHasTraits._notify_observers\u001b[0;34m(self, event)\u001b[0m\n\u001b[1;32m   1263\u001b[0m \u001b[38;5;28;01melif\u001b[39;00m \u001b[38;5;28misinstance\u001b[39m(c, EventHandler) \u001b[38;5;129;01mand\u001b[39;00m c\u001b[38;5;241m.\u001b[39mname \u001b[38;5;129;01mis\u001b[39;00m \u001b[38;5;129;01mnot\u001b[39;00m \u001b[38;5;28;01mNone\u001b[39;00m:\n\u001b[1;32m   1264\u001b[0m     c \u001b[38;5;241m=\u001b[39m \u001b[38;5;28mgetattr\u001b[39m(\u001b[38;5;28mself\u001b[39m, c\u001b[38;5;241m.\u001b[39mname)\n\u001b[0;32m-> 1266\u001b[0m \u001b[43mc\u001b[49m\u001b[43m(\u001b[49m\u001b[43mevent\u001b[49m\u001b[43m)\u001b[49m\n",
      "File \u001b[0;32m~/PycharmProjects/riskflow/riskflow_jupyter.py:340\u001b[0m, in \u001b[0;36mTreePanel._on_selected_changed\u001b[0;34m(self, change)\u001b[0m\n\u001b[1;32m    337\u001b[0m \u001b[38;5;66;03m# set the value of all widgets in the frame . . .\u001b[39;00m\n\u001b[1;32m    338\u001b[0m \u001b[38;5;66;03m# need to do this last in case all widgets haven't fully rendered in the DOM\u001b[39;00m\n\u001b[1;32m    339\u001b[0m \u001b[38;5;28;01mfor\u001b[39;00m container, value \u001b[38;5;129;01min\u001b[39;00m frames:\n\u001b[0;32m--> 340\u001b[0m     \u001b[43mupdate_frame\u001b[49m\u001b[43m(\u001b[49m\u001b[43mcontainer\u001b[49m\u001b[43m,\u001b[49m\u001b[43m \u001b[49m\u001b[43mvalue\u001b[49m\u001b[43m)\u001b[49m\n",
      "File \u001b[0;32m~/PycharmProjects/riskflow/riskflow_jupyter.py:333\u001b[0m, in \u001b[0;36mTreePanel._on_selected_changed.<locals>.update_frame\u001b[0;34m(frame, values)\u001b[0m\n\u001b[1;32m    331\u001b[0m     update_frame(child, values[index])\n\u001b[1;32m    332\u001b[0m \u001b[38;5;28;01melse\u001b[39;00m:\n\u001b[0;32m--> 333\u001b[0m     child\u001b[38;5;241m.\u001b[39mvalue \u001b[38;5;241m=\u001b[39m values[index]\n",
      "File \u001b[0;32m~/PycharmProjects/riskflow_widgets/riskflow_widgets/widgets.py:188\u001b[0m, in \u001b[0;36mThree.value\u001b[0;34m(self, json_string)\u001b[0m\n\u001b[1;32m    186\u001b[0m \u001b[38;5;129m@value\u001b[39m\u001b[38;5;241m.\u001b[39msetter\n\u001b[1;32m    187\u001b[0m \u001b[38;5;28;01mdef\u001b[39;00m \u001b[38;5;21mvalue\u001b[39m(\u001b[38;5;28mself\u001b[39m, json_string):\n\u001b[0;32m--> 188\u001b[0m     \u001b[38;5;28mself\u001b[39m\u001b[38;5;241m.\u001b[39mdata\u001b[38;5;241m.\u001b[39mvalue \u001b[38;5;241m=\u001b[39m json_string\n\u001b[1;32m    189\u001b[0m     \u001b[38;5;28mself\u001b[39m\u001b[38;5;241m.\u001b[39mupdate_plot(json\u001b[38;5;241m.\u001b[39mloads(json_string))\n",
      "File \u001b[0;32m~/miniconda3/lib/python3.8/site-packages/traitlets/traitlets.py:606\u001b[0m, in \u001b[0;36mTraitType.__set__\u001b[0;34m(self, obj, value)\u001b[0m\n\u001b[1;32m    604\u001b[0m     \u001b[38;5;28;01mraise\u001b[39;00m TraitError(\u001b[38;5;124m'\u001b[39m\u001b[38;5;124mThe \u001b[39m\u001b[38;5;124m\"\u001b[39m\u001b[38;5;132;01m%s\u001b[39;00m\u001b[38;5;124m\"\u001b[39m\u001b[38;5;124m trait is read-only.\u001b[39m\u001b[38;5;124m'\u001b[39m \u001b[38;5;241m%\u001b[39m \u001b[38;5;28mself\u001b[39m\u001b[38;5;241m.\u001b[39mname)\n\u001b[1;32m    605\u001b[0m \u001b[38;5;28;01melse\u001b[39;00m:\n\u001b[0;32m--> 606\u001b[0m     \u001b[38;5;28;43mself\u001b[39;49m\u001b[38;5;241;43m.\u001b[39;49m\u001b[43mset\u001b[49m\u001b[43m(\u001b[49m\u001b[43mobj\u001b[49m\u001b[43m,\u001b[49m\u001b[43m \u001b[49m\u001b[43mvalue\u001b[49m\u001b[43m)\u001b[49m\n",
      "File \u001b[0;32m~/miniconda3/lib/python3.8/site-packages/traitlets/traitlets.py:595\u001b[0m, in \u001b[0;36mTraitType.set\u001b[0;34m(self, obj, value)\u001b[0m\n\u001b[1;32m    591\u001b[0m     silent \u001b[38;5;241m=\u001b[39m \u001b[38;5;28;01mFalse\u001b[39;00m\n\u001b[1;32m    592\u001b[0m \u001b[38;5;28;01mif\u001b[39;00m silent \u001b[38;5;129;01mis\u001b[39;00m \u001b[38;5;129;01mnot\u001b[39;00m \u001b[38;5;28;01mTrue\u001b[39;00m:\n\u001b[1;32m    593\u001b[0m     \u001b[38;5;66;03m# we explicitly compare silent to True just in case the equality\u001b[39;00m\n\u001b[1;32m    594\u001b[0m     \u001b[38;5;66;03m# comparison above returns something other than True/False\u001b[39;00m\n\u001b[0;32m--> 595\u001b[0m     \u001b[43mobj\u001b[49m\u001b[38;5;241;43m.\u001b[39;49m\u001b[43m_notify_trait\u001b[49m\u001b[43m(\u001b[49m\u001b[38;5;28;43mself\u001b[39;49m\u001b[38;5;241;43m.\u001b[39;49m\u001b[43mname\u001b[49m\u001b[43m,\u001b[49m\u001b[43m \u001b[49m\u001b[43mold_value\u001b[49m\u001b[43m,\u001b[49m\u001b[43m \u001b[49m\u001b[43mnew_value\u001b[49m\u001b[43m)\u001b[49m\n",
      "File \u001b[0;32m~/miniconda3/lib/python3.8/site-packages/traitlets/traitlets.py:1219\u001b[0m, in \u001b[0;36mHasTraits._notify_trait\u001b[0;34m(self, name, old_value, new_value)\u001b[0m\n\u001b[1;32m   1218\u001b[0m \u001b[38;5;28;01mdef\u001b[39;00m \u001b[38;5;21m_notify_trait\u001b[39m(\u001b[38;5;28mself\u001b[39m, name, old_value, new_value):\n\u001b[0;32m-> 1219\u001b[0m     \u001b[38;5;28;43mself\u001b[39;49m\u001b[38;5;241;43m.\u001b[39;49m\u001b[43mnotify_change\u001b[49m\u001b[43m(\u001b[49m\u001b[43mBunch\u001b[49m\u001b[43m(\u001b[49m\n\u001b[1;32m   1220\u001b[0m \u001b[43m        \u001b[49m\u001b[43mname\u001b[49m\u001b[38;5;241;43m=\u001b[39;49m\u001b[43mname\u001b[49m\u001b[43m,\u001b[49m\n\u001b[1;32m   1221\u001b[0m \u001b[43m        \u001b[49m\u001b[43mold\u001b[49m\u001b[38;5;241;43m=\u001b[39;49m\u001b[43mold_value\u001b[49m\u001b[43m,\u001b[49m\n\u001b[1;32m   1222\u001b[0m \u001b[43m        \u001b[49m\u001b[43mnew\u001b[49m\u001b[38;5;241;43m=\u001b[39;49m\u001b[43mnew_value\u001b[49m\u001b[43m,\u001b[49m\n\u001b[1;32m   1223\u001b[0m \u001b[43m        \u001b[49m\u001b[43mowner\u001b[49m\u001b[38;5;241;43m=\u001b[39;49m\u001b[38;5;28;43mself\u001b[39;49m\u001b[43m,\u001b[49m\n\u001b[1;32m   1224\u001b[0m \u001b[43m        \u001b[49m\u001b[38;5;28;43mtype\u001b[39;49m\u001b[38;5;241;43m=\u001b[39;49m\u001b[38;5;124;43m'\u001b[39;49m\u001b[38;5;124;43mchange\u001b[39;49m\u001b[38;5;124;43m'\u001b[39;49m\u001b[43m,\u001b[49m\n\u001b[1;32m   1225\u001b[0m \u001b[43m    \u001b[49m\u001b[43m)\u001b[49m\u001b[43m)\u001b[49m\n",
      "File \u001b[0;32m~/miniconda3/lib/python3.8/site-packages/ipywidgets/widgets/widget.py:606\u001b[0m, in \u001b[0;36mWidget.notify_change\u001b[0;34m(self, change)\u001b[0m\n\u001b[1;32m    603\u001b[0m     \u001b[38;5;28;01mif\u001b[39;00m name \u001b[38;5;129;01min\u001b[39;00m \u001b[38;5;28mself\u001b[39m\u001b[38;5;241m.\u001b[39mkeys \u001b[38;5;129;01mand\u001b[39;00m \u001b[38;5;28mself\u001b[39m\u001b[38;5;241m.\u001b[39m_should_send_property(name, \u001b[38;5;28mgetattr\u001b[39m(\u001b[38;5;28mself\u001b[39m, name)):\n\u001b[1;32m    604\u001b[0m         \u001b[38;5;66;03m# Send new state to front-end\u001b[39;00m\n\u001b[1;32m    605\u001b[0m         \u001b[38;5;28mself\u001b[39m\u001b[38;5;241m.\u001b[39msend_state(key\u001b[38;5;241m=\u001b[39mname)\n\u001b[0;32m--> 606\u001b[0m \u001b[38;5;28;43msuper\u001b[39;49m\u001b[43m(\u001b[49m\u001b[43mWidget\u001b[49m\u001b[43m,\u001b[49m\u001b[43m \u001b[49m\u001b[38;5;28;43mself\u001b[39;49m\u001b[43m)\u001b[49m\u001b[38;5;241;43m.\u001b[39;49m\u001b[43mnotify_change\u001b[49m\u001b[43m(\u001b[49m\u001b[43mchange\u001b[49m\u001b[43m)\u001b[49m\n",
      "File \u001b[0;32m~/miniconda3/lib/python3.8/site-packages/traitlets/traitlets.py:1229\u001b[0m, in \u001b[0;36mHasTraits.notify_change\u001b[0;34m(self, change)\u001b[0m\n\u001b[1;32m   1227\u001b[0m \u001b[38;5;28;01mdef\u001b[39;00m \u001b[38;5;21mnotify_change\u001b[39m(\u001b[38;5;28mself\u001b[39m, change):\n\u001b[1;32m   1228\u001b[0m     \u001b[38;5;124;03m\"\"\"Notify observers of a change event\"\"\"\u001b[39;00m\n\u001b[0;32m-> 1229\u001b[0m     \u001b[38;5;28;01mreturn\u001b[39;00m \u001b[38;5;28;43mself\u001b[39;49m\u001b[38;5;241;43m.\u001b[39;49m\u001b[43m_notify_observers\u001b[49m\u001b[43m(\u001b[49m\u001b[43mchange\u001b[49m\u001b[43m)\u001b[49m\n",
      "File \u001b[0;32m~/miniconda3/lib/python3.8/site-packages/traitlets/traitlets.py:1266\u001b[0m, in \u001b[0;36mHasTraits._notify_observers\u001b[0;34m(self, event)\u001b[0m\n\u001b[1;32m   1263\u001b[0m \u001b[38;5;28;01melif\u001b[39;00m \u001b[38;5;28misinstance\u001b[39m(c, EventHandler) \u001b[38;5;129;01mand\u001b[39;00m c\u001b[38;5;241m.\u001b[39mname \u001b[38;5;129;01mis\u001b[39;00m \u001b[38;5;129;01mnot\u001b[39;00m \u001b[38;5;28;01mNone\u001b[39;00m:\n\u001b[1;32m   1264\u001b[0m     c \u001b[38;5;241m=\u001b[39m \u001b[38;5;28mgetattr\u001b[39m(\u001b[38;5;28mself\u001b[39m, c\u001b[38;5;241m.\u001b[39mname)\n\u001b[0;32m-> 1266\u001b[0m \u001b[43mc\u001b[49m\u001b[43m(\u001b[49m\u001b[43mevent\u001b[49m\u001b[43m)\u001b[49m\n",
      "File \u001b[0;32m~/PycharmProjects/riskflow_widgets/riskflow_widgets/widgets.py:122\u001b[0m, in \u001b[0;36mThree.observe.<locals>.make_plot_fn.<locals>.update_plot\u001b[0;34m(change)\u001b[0m\n\u001b[1;32m    120\u001b[0m handler(change)\n\u001b[1;32m    121\u001b[0m \u001b[38;5;66;03m# now update the plot with the new data\u001b[39;00m\n\u001b[0;32m--> 122\u001b[0m \u001b[38;5;28;43mself\u001b[39;49m\u001b[38;5;241;43m.\u001b[39;49m\u001b[43mupdate_plot\u001b[49m\u001b[43m(\u001b[49m\u001b[43mjson\u001b[49m\u001b[38;5;241;43m.\u001b[39;49m\u001b[43mloads\u001b[49m\u001b[43m(\u001b[49m\u001b[43mchange\u001b[49m\u001b[43m[\u001b[49m\u001b[38;5;124;43m'\u001b[39;49m\u001b[38;5;124;43mnew\u001b[39;49m\u001b[38;5;124;43m'\u001b[39;49m\u001b[43m]\u001b[49m\u001b[43m)\u001b[49m\u001b[43m)\u001b[49m\n",
      "File \u001b[0;32m~/PycharmProjects/riskflow_widgets/riskflow_widgets/widgets.py:162\u001b[0m, in \u001b[0;36mThree.update_plot\u001b[0;34m(self, json_list)\u001b[0m\n\u001b[1;32m    161\u001b[0m \u001b[38;5;28;01mdef\u001b[39;00m \u001b[38;5;21mupdate_plot\u001b[39m(\u001b[38;5;28mself\u001b[39m, json_list):\n\u001b[0;32m--> 162\u001b[0m     e, moneyness, vol \u001b[38;5;241m=\u001b[39m \u001b[43mThree\u001b[49m\u001b[38;5;241;43m.\u001b[39;49m\u001b[43minterpolate_surface\u001b[49m\u001b[43m(\u001b[49m\u001b[43mjson_list\u001b[49m\u001b[43m)\u001b[49m\n\u001b[1;32m    163\u001b[0m     scale \u001b[38;5;241m=\u001b[39m \u001b[38;5;241m2\u001b[39m \u001b[38;5;241m/\u001b[39m np\u001b[38;5;241m.\u001b[39mlog(\u001b[38;5;241m2\u001b[39m)\n\u001b[1;32m    164\u001b[0m     m \u001b[38;5;241m=\u001b[39m scale \u001b[38;5;241m*\u001b[39m np\u001b[38;5;241m.\u001b[39mlog(moneyness)\n",
      "File \u001b[0;32m~/PycharmProjects/riskflow_widgets/riskflow_widgets/widgets.py:151\u001b[0m, in \u001b[0;36mThree.interpolate_surface\u001b[0;34m(json_list)\u001b[0m\n\u001b[1;32m    149\u001b[0m \u001b[38;5;129m@staticmethod\u001b[39m\n\u001b[1;32m    150\u001b[0m \u001b[38;5;28;01mdef\u001b[39;00m \u001b[38;5;21minterpolate_surface\u001b[39m(json_list):\n\u001b[0;32m--> 151\u001b[0m     moneyness \u001b[38;5;241m=\u001b[39m \u001b[43mjson_list\u001b[49m\u001b[43m[\u001b[49m\u001b[38;5;241;43m0\u001b[39;49m\u001b[43m]\u001b[49m[\u001b[38;5;241m1\u001b[39m:]\n\u001b[1;32m    152\u001b[0m     e \u001b[38;5;241m=\u001b[39m []\n\u001b[1;32m    153\u001b[0m     \u001b[38;5;28;01mfor\u001b[39;00m p \u001b[38;5;129;01min\u001b[39;00m json_list[\u001b[38;5;241m1\u001b[39m:]:\n",
      "\u001b[0;31mKeyError\u001b[0m: 0"
     ]
    }
   ],
   "source": [
    "rfp.main_container\n"
   ]
  },
  {
   "cell_type": "code",
   "execution_count": null,
   "id": "2bb4dfd7",
   "metadata": {},
   "outputs": [],
   "source": [
    "rfp.tree.checked\n"
   ]
  },
  {
   "cell_type": "code",
   "execution_count": null,
   "id": "455e1ec1",
   "metadata": {},
   "outputs": [],
   "source": [
    "a='InterestYieldVol.CAD_SMILE_ICE'\n",
    "\n",
    "c= getattr(riskflow_jupyter.rf.riskfactors, riskflow_jupyter.rf.utils.check_rate_name(a)[0])"
   ]
  },
  {
   "cell_type": "code",
   "execution_count": null,
   "id": "8a507a51",
   "metadata": {},
   "outputs": [],
   "source": [
    "c"
   ]
  },
  {
   "cell_type": "code",
   "execution_count": null,
   "id": "e95b329e",
   "metadata": {},
   "outputs": [],
   "source": [
    "riskflow_jupyter.CalculationPage(cx.current_cfg)"
   ]
  },
  {
   "cell_type": "code",
   "execution_count": null,
   "id": "cef4fec8",
   "metadata": {},
   "outputs": [
    {
     "name": "stdout",
     "output_type": "stream",
     "text": [
      "> \u001b[0;32m/home/vretiel/PycharmProjects/riskflow_widgets/riskflow_widgets/widgets.py\u001b[0m(151)\u001b[0;36minterpolate_surface\u001b[0;34m()\u001b[0m\n",
      "\u001b[0;32m    149 \u001b[0;31m    \u001b[0;34m@\u001b[0m\u001b[0mstaticmethod\u001b[0m\u001b[0;34m\u001b[0m\u001b[0;34m\u001b[0m\u001b[0m\n",
      "\u001b[0m\u001b[0;32m    150 \u001b[0;31m    \u001b[0;32mdef\u001b[0m \u001b[0minterpolate_surface\u001b[0m\u001b[0;34m(\u001b[0m\u001b[0mjson_list\u001b[0m\u001b[0;34m)\u001b[0m\u001b[0;34m:\u001b[0m\u001b[0;34m\u001b[0m\u001b[0;34m\u001b[0m\u001b[0m\n",
      "\u001b[0m\u001b[0;32m--> 151 \u001b[0;31m        \u001b[0mmoneyness\u001b[0m \u001b[0;34m=\u001b[0m \u001b[0mjson_list\u001b[0m\u001b[0;34m[\u001b[0m\u001b[0;36m0\u001b[0m\u001b[0;34m]\u001b[0m\u001b[0;34m[\u001b[0m\u001b[0;36m1\u001b[0m\u001b[0;34m:\u001b[0m\u001b[0;34m]\u001b[0m\u001b[0;34m\u001b[0m\u001b[0;34m\u001b[0m\u001b[0m\n",
      "\u001b[0m\u001b[0;32m    152 \u001b[0;31m        \u001b[0me\u001b[0m \u001b[0;34m=\u001b[0m \u001b[0;34m[\u001b[0m\u001b[0;34m]\u001b[0m\u001b[0;34m\u001b[0m\u001b[0;34m\u001b[0m\u001b[0m\n",
      "\u001b[0m\u001b[0;32m    153 \u001b[0;31m        \u001b[0;32mfor\u001b[0m \u001b[0mp\u001b[0m \u001b[0;32min\u001b[0m \u001b[0mjson_list\u001b[0m\u001b[0;34m[\u001b[0m\u001b[0;36m1\u001b[0m\u001b[0;34m:\u001b[0m\u001b[0;34m]\u001b[0m\u001b[0;34m:\u001b[0m\u001b[0;34m\u001b[0m\u001b[0;34m\u001b[0m\u001b[0m\n",
      "\u001b[0m\n",
      "ipdb> u\n",
      "> \u001b[0;32m/home/vretiel/PycharmProjects/riskflow_widgets/riskflow_widgets/widgets.py\u001b[0m(162)\u001b[0;36mupdate_plot\u001b[0;34m()\u001b[0m\n",
      "\u001b[0;32m    160 \u001b[0;31m\u001b[0;34m\u001b[0m\u001b[0m\n",
      "\u001b[0m\u001b[0;32m    161 \u001b[0;31m    \u001b[0;32mdef\u001b[0m \u001b[0mupdate_plot\u001b[0m\u001b[0;34m(\u001b[0m\u001b[0mself\u001b[0m\u001b[0;34m,\u001b[0m \u001b[0mjson_list\u001b[0m\u001b[0;34m)\u001b[0m\u001b[0;34m:\u001b[0m\u001b[0;34m\u001b[0m\u001b[0;34m\u001b[0m\u001b[0m\n",
      "\u001b[0m\u001b[0;32m--> 162 \u001b[0;31m        \u001b[0me\u001b[0m\u001b[0;34m,\u001b[0m \u001b[0mmoneyness\u001b[0m\u001b[0;34m,\u001b[0m \u001b[0mvol\u001b[0m \u001b[0;34m=\u001b[0m \u001b[0mThree\u001b[0m\u001b[0;34m.\u001b[0m\u001b[0minterpolate_surface\u001b[0m\u001b[0;34m(\u001b[0m\u001b[0mjson_list\u001b[0m\u001b[0;34m)\u001b[0m\u001b[0;34m\u001b[0m\u001b[0;34m\u001b[0m\u001b[0m\n",
      "\u001b[0m\u001b[0;32m    163 \u001b[0;31m        \u001b[0mscale\u001b[0m \u001b[0;34m=\u001b[0m \u001b[0;36m2\u001b[0m \u001b[0;34m/\u001b[0m \u001b[0mnp\u001b[0m\u001b[0;34m.\u001b[0m\u001b[0mlog\u001b[0m\u001b[0;34m(\u001b[0m\u001b[0;36m2\u001b[0m\u001b[0;34m)\u001b[0m\u001b[0;34m\u001b[0m\u001b[0;34m\u001b[0m\u001b[0m\n",
      "\u001b[0m\u001b[0;32m    164 \u001b[0;31m        \u001b[0mm\u001b[0m \u001b[0;34m=\u001b[0m \u001b[0mscale\u001b[0m \u001b[0;34m*\u001b[0m \u001b[0mnp\u001b[0m\u001b[0;34m.\u001b[0m\u001b[0mlog\u001b[0m\u001b[0;34m(\u001b[0m\u001b[0mmoneyness\u001b[0m\u001b[0;34m)\u001b[0m\u001b[0;34m\u001b[0m\u001b[0;34m\u001b[0m\u001b[0m\n",
      "\u001b[0m\n",
      "ipdb> json_list\n",
      "{'1.0': [[0.0, -0.025, -0.02, -0.015, -0.01, -0.0075, -0.0025, -0.0, 0.0025, 0.0075, 0.01, 0.015, 0.02, 0.025], [0.01918, 0.45417, 0.42918, 0.41331, 0.39677, 0.3885, 0.37316, 0.36694, 0.3626, 0.36321, 0.36998, 0.43102, 0.63267, 0.88848], [0.03836, 0.44123, 0.42635, 0.41046, 0.3939, 0.38562, 0.37024, 0.364, 0.35962, 0.36007, 0.3667, 0.39532, 0.44223, 0.61989], [0.08493, 0.43436, 0.41943, 0.40351, 0.3869, 0.3786, 0.36314, 0.35683, 0.35235, 0.35243, 0.35872, 0.38622, 0.43417, 0.50449], [0.16986, 0.41899, 0.40515, 0.39048, 0.37533, 0.36784, 0.35413, 0.34871, 0.34505, 0.34615, 0.35242, 0.37859, 0.42358, 0.48892], [0.25205, 0.40438, 0.39159, 0.37813, 0.36437, 0.35764, 0.34558, 0.341, 0.33809, 0.34011, 0.34637, 0.37135, 0.41362, 0.47451], [0.50411, 0.3908, 0.37823, 0.36528, 0.35249, 0.34646, 0.33632, 0.33292, 0.33129, 0.33548, 0.34224, 0.36636, 0.40504, 0.4594], [0.75068, 0.37335, 0.36385, 0.35388, 0.34382, 0.33901, 0.3308, 0.32802, 0.3267, 0.3306, 0.33686, 0.35965, 0.39671, 0.4481], [1.0, 0.3678, 0.35872, 0.3496, 0.34095, 0.33708, 0.33116, 0.32964, 0.32953, 0.33509, 0.34148, 0.36281, 0.39666, 0.44474], [1.50411, 0.35219, 0.3444, 0.33662, 0.32933, 0.32613, 0.32152, 0.32062, 0.32108, 0.32761, 0.3344, 0.35649, 0.39127, 0.44088], [2.00274, 0.32959, 0.32307, 0.3166, 0.31063, 0.30809, 0.30469, 0.30431, 0.30521, 0.31226, 0.31911, 0.34089, 0.3749, 0.4234], [3.00274, 0.3062, 0.29957, 0.29296, 0.28682, 0.28419, 0.2807, 0.28036, 0.28139, 0.28907, 0.29642, 0.31944, 0.35483, 0.40488], [4.00274, 0.24679, 0.24002, 0.23318, 0.22668, 0.22378, 0.21946, 0.21848, 0.21866, 0.22363, 0.22888, 0.24549, 0.27037, 0.30384], [5.00274, 0.22855, 0.22211, 0.21563, 0.20951, 0.2068, 0.20289, 0.20212, 0.20251, 0.20783, 0.21317, 0.22964, 0.25388, 0.28618], [10.00822, 0.16944, 0.1646, 0.16012, 0.15659, 0.15548, 0.15542, 0.15687, 0.15954, 0.16898, 0.1758, 0.19349, 0.21649, 0.24518], [20.0137, 0.18325, 0.17662, 0.17052, 0.16613, 0.16524, 0.16812, 0.17272, 0.17976, 0.20118, 0.21538, 0.25073, 0.29707, 0.36018], [30.02192, 0.19117, 0.18136, 0.17116, 0.16163, 0.15801, 0.15714, 0.16218, 0.17181, 0.20381, 0.22541, 0.28043, 0.3586, 0.49087]], '2.0': [[0.0, -0.025, -0.02, -0.015, -0.01, -0.0075, -0.0025, -0.0, 0.0025, 0.0075, 0.01, 0.015, 0.02, 0.025], [0.01918, 0.43734, 0.40113, 0.38738, 0.37315, 0.3661, 0.35317, 0.34805, 0.34457, 0.34565, 0.35175, 0.40634, 0.59237, 0.82354], [0.03836, 0.41308, 0.40009, 0.38631, 0.37204, 0.36498, 0.35201, 0.34686, 0.34336, 0.34436, 0.35041, 0.37603, 0.41683, 0.57909], [0.08493, 0.41045, 0.39741, 0.38356, 0.36922, 0.36211, 0.34904, 0.34384, 0.34026, 0.34108, 0.34699, 0.37219, 0.41614, 0.48056], [0.16986, 0.39914, 0.38678, 0.37374, 0.36042, 0.35391, 0.34225, 0.33782, 0.33505, 0.33724, 0.34354, 0.36863, 0.41128, 0.47315], [0.25205, 0.38779, 0.3761, 0.3639, 0.35159, 0.34567, 0.33536, 0.33168, 0.32966, 0.33307, 0.33969, 0.36457, 0.40584, 0.46512], [0.50411, 0.3768, 0.36663, 0.3561, 0.34562, 0.34066, 0.33229, 0.32952, 0.3283, 0.33276, 0.33953, 0.3641, 0.40467, 0.46331], [0.75068, 0.35902, 0.35125, 0.34308, 0.33488, 0.331, 0.32452, 0.32248, 0.32176, 0.32631, 0.33261, 0.35519, 0.39228, 0.44473], [1.0, 0.35477, 0.34788, 0.34101, 0.3346, 0.33181, 0.32786, 0.32716, 0.32772, 0.33406, 0.34057, 0.3619, 0.39592, 0.44496], [1.50411, 0.33743, 0.33182, 0.32628, 0.32122, 0.31911, 0.31647, 0.31638, 0.3175, 0.32477, 0.33166, 0.35363, 0.38843, 0.43885], [2.00274, 0.31289, 0.3084, 0.304, 0.3001, 0.29854, 0.29693, 0.29728, 0.29876, 0.30643, 0.31333, 0.33492, 0.36892, 0.41828], [3.00274, 0.26842, 0.26353, 0.25868, 0.25423, 0.25237, 0.25002, 0.24994, 0.25092, 0.25725, 0.26318, 0.28173, 0.31031, 0.35047], [4.00274, 0.23216, 0.22732, 0.22252, 0.2181, 0.21622, 0.21378, 0.21357, 0.21434, 0.21978, 0.2249, 0.2407, 0.26445, 0.29685], [5.00274, 0.21431, 0.20992, 0.20563, 0.20179, 0.20024, 0.19851, 0.19867, 0.19981, 0.20588, 0.2112, 0.22703, 0.25024, 0.28152], [10.00822, 0.15837, 0.15591, 0.15389, 0.15278, 0.15276, 0.15442, 0.15637, 0.15924, 0.16821, 0.17447, 0.19076, 0.21239, 0.2401], [20.0137, 0.16321, 0.16118, 0.15978, 0.15981, 0.16076, 0.16569, 0.17024, 0.17656, 0.19542, 0.20835, 0.24241, 0.29076, 0.3631], [30.02192, 0.16379, 0.15999, 0.15635, 0.15371, 0.15332, 0.15646, 0.16119, 0.16882, 0.19438, 0.21285, 0.26371, 0.34342, 0.49984]], '3.0': [[0.0, -0.025, -0.02, -0.015, -0.01, -0.0075, -0.0025, -0.0, 0.0025, 0.0075, 0.01, 0.015, 0.02, 0.025], [0.01918, 0.43334, 0.38394, 0.37115, 0.35842, 0.35226, 0.34147, 0.33758, 0.33542, 0.339, 0.34604, 0.40062, 0.58312, 0.80886], [0.03836, 0.3951, 0.38312, 0.37054, 0.35779, 0.35162, 0.34078, 0.33688, 0.33469, 0.33822, 0.34523, 0.37172, 0.41109, 0.56999], [0.08493, 0.3937, 0.38166, 0.36902, 0.35619, 0.34997, 0.33905, 0.33509, 0.33285, 0.33626, 0.34319, 0.36945, 0.41314, 0.47617], [0.16986, 0.38402, 0.37258, 0.36068, 0.34874, 0.34304, 0.33329, 0.32997, 0.32836, 0.33281, 0.34001, 0.36615, 0.40884, 0.46999], [0.25205, 0.37427, 0.36346, 0.35229, 0.34124, 0.33606, 0.32745, 0.32475, 0.32374, 0.32913, 0.33655, 0.36248, 0.40408, 0.46327], [0.50411, 0.36093, 0.35138, 0.34159, 0.33207, 0.32769, 0.32076, 0.31886, 0.31859, 0.32502, 0.33269, 0.35857, 0.3997, 0.45833], [0.75068, 0.34696, 0.34009, 0.33301, 0.32611, 0.32298, 0.31825, 0.3172, 0.31753, 0.32417, 0.3314, 0.35541, 0.39341, 0.44656], [1.0, 0.33454, 0.32863, 0.32281, 0.31753, 0.31534, 0.31262, 0.31256, 0.31375, 0.32128, 0.32833, 0.35051, 0.38515, 0.43474], [1.50411, 0.31087, 0.30597, 0.30121, 0.29702, 0.29535, 0.29361, 0.29395, 0.29544, 0.30312, 0.30995, 0.33104, 0.36364, 0.41016], [2.00274, 0.28297, 0.27894, 0.27507, 0.27175, 0.2705, 0.26946, 0.27002, 0.27162, 0.279, 0.28534, 0.30458, 0.33404, 0.37582], [3.00274, 0.24854, 0.24438, 0.24035, 0.23683, 0.23546, 0.23411, 0.23448, 0.23583, 0.24248, 0.24824, 0.26561, 0.29171, 0.32787], [4.00274, 0.22003, 0.21605, 0.21222, 0.20889, 0.2076, 0.20636, 0.20672, 0.208, 0.21411, 0.21933, 0.23476, 0.25747, 0.28827], [5.00274, 0.20348, 0.19999, 0.19672, 0.19401, 0.19305, 0.19249, 0.19318, 0.19476, 0.2013, 0.20658, 0.22176, 0.24362, 0.27298], [10.00822, 0.15054, 0.14891, 0.14785, 0.1478, 0.14834, 0.15104, 0.15341, 0.1566, 0.16577, 0.17188, 0.18741, 0.20774, 0.23369], [20.0137, 0.15594, 0.15542, 0.15572, 0.15754, 0.15935, 0.16568, 0.17062, 0.17705, 0.19526, 0.2075, 0.23984, 0.28661, 0.35919], [30.02192, 0.15149, 0.14939, 0.14777, 0.14745, 0.14823, 0.15326, 0.15832, 0.16565, 0.18862, 0.20496, 0.2503, 0.32272, 0.46914]], '5.0': [[0.0, -0.025, -0.02, -0.015, -0.01, -0.0075, -0.0025, -0.0, 0.0025, 0.0075, 0.01, 0.015, 0.02, 0.025], [0.01918, 0.41193, 0.34219, 0.32657, 0.3166, 0.31205, 0.3049, 0.30299, 0.30278, 0.30942, 0.31709, 0.37099, 0.53572, 0.7349], [0.03836, 0.34667, 0.33658, 0.32629, 0.3163, 0.31173, 0.30456, 0.30263, 0.30241, 0.30902, 0.31668, 0.3418, 0.37818, 0.51868], [0.08493, 0.34606, 0.33592, 0.32557, 0.31552, 0.31092, 0.30368, 0.30172, 0.30146, 0.30801, 0.31564, 0.34067, 0.37922, 0.43255], [0.16986, 0.33912, 0.32954, 0.31981, 0.31049, 0.30629, 0.29987, 0.29832, 0.29841, 0.30537, 0.31299, 0.33755, 0.37509, 0.42692], [0.25205, 0.33211, 0.32307, 0.31399, 0.3054, 0.30159, 0.296, 0.29483, 0.29526, 0.30259, 0.31018, 0.33423, 0.37071, 0.42096], [0.50411, 0.31376, 0.30567, 0.29765, 0.29025, 0.28708, 0.28277, 0.28219, 0.28311, 0.29086, 0.29829, 0.32112, 0.35522, 0.40186], [0.75068, 0.29407, 0.28834, 0.28262, 0.27736, 0.27513, 0.27231, 0.27218, 0.27329, 0.28054, 0.28728, 0.30802, 0.33909, 0.38113], [1.0, 0.27897, 0.27462, 0.27046, 0.26689, 0.26553, 0.26433, 0.26486, 0.26644, 0.27377, 0.28003, 0.29881, 0.32703, 0.36619], [1.50411, 0.25839, 0.25479, 0.25144, 0.24873, 0.24782, 0.24746, 0.24834, 0.25019, 0.25768, 0.26375, 0.28148, 0.30771, 0.34387], [2.00274, 0.24066, 0.23796, 0.2356, 0.23395, 0.23357, 0.23422, 0.23552, 0.2377, 0.24538, 0.25124, 0.26786, 0.29198, 0.32504], [3.00274, 0.21684, 0.21428, 0.21206, 0.21053, 0.2102, 0.21088, 0.21215, 0.21424, 0.22151, 0.22701, 0.24238, 0.26438, 0.29415], [4.00274, 0.19571, 0.19345, 0.19154, 0.19032, 0.19012, 0.191, 0.1923, 0.19434, 0.20119, 0.20626, 0.2202, 0.23985, 0.26609], [5.00274, 0.18162, 0.17989, 0.17854, 0.17792, 0.17802, 0.17947, 0.181, 0.18324, 0.19024, 0.19524, 0.20869, 0.22734, 0.25209], [10.00822, 0.13195, 0.13184, 0.13243, 0.13403, 0.13533, 0.13922, 0.14191, 0.14518, 0.15362, 0.15888, 0.1717, 0.188, 0.20852], [20.0137, 0.13688, 0.13886, 0.14179, 0.1461, 0.14896, 0.15652, 0.16146, 0.16732, 0.18249, 0.19218, 0.21719, 0.25304, 0.3085], [30.02192, 0.12718, 0.12809, 0.12986, 0.13304, 0.13542, 0.14242, 0.14738, 0.15358, 0.17062, 0.18203, 0.21292, 0.26088, 0.34845]], '10.0': [[0.0, -0.025, -0.02, -0.015, -0.01, -0.0075, -0.0025, -0.0, 0.0025, 0.0075, 0.01, 0.015, 0.02, 0.025], [0.01918, 0.39637, 0.32884, 0.27991, 0.27269, 0.26951, 0.26486, 0.26394, 0.26442, 0.27113, 0.27802, 0.3504, 0.5033, 0.68543], [0.03836, 0.29496, 0.28735, 0.27976, 0.27256, 0.26937, 0.2647, 0.26377, 0.26425, 0.27094, 0.27783, 0.29969, 0.35557, 0.4842], [0.08493, 0.29466, 0.2871, 0.27948, 0.27224, 0.26902, 0.26431, 0.26336, 0.26381, 0.27046, 0.27733, 0.29915, 0.33231, 0.37786], [0.16986, 0.29036, 0.28338, 0.27641, 0.26992, 0.26711, 0.26322, 0.26265, 0.26343, 0.27042, 0.27726, 0.2986, 0.33084, 0.37515], [0.25205, 0.28602, 0.27962, 0.27332, 0.26758, 0.26517, 0.26209, 0.2619, 0.26299, 0.27031, 0.27711, 0.29797, 0.32929, 0.37233], [0.50411, 0.26532, 0.25994, 0.25481, 0.25042, 0.24876, 0.24727, 0.24787, 0.24971, 0.25816, 0.26522, 0.28583, 0.31582, 0.35649], [0.75068, 0.25272, 0.24805, 0.24369, 0.24013, 0.2389, 0.23829, 0.2393, 0.24147, 0.25017, 0.25703, 0.2763, 0.30331, 0.3385], [1.0, 0.24114, 0.23744, 0.23411, 0.23163, 0.23093, 0.23121, 0.23252, 0.23485, 0.24332, 0.24977, 0.26776, 0.29316, 0.32703], [1.50411, 0.22498, 0.22225, 0.21994, 0.21846, 0.21823, 0.21931, 0.2209, 0.22338, 0.2317, 0.23783, 0.25462, 0.27818, 0.30964], [2.00274, 0.20965, 0.20795, 0.20671, 0.20631, 0.20658, 0.20853, 0.21043, 0.21311, 0.22135, 0.22717, 0.24281, 0.26455, 0.29356], [3.00274, 0.18913, 0.18815, 0.18768, 0.18803, 0.18866, 0.19118, 0.19327, 0.19603, 0.20403, 0.20947, 0.22375, 0.24325, 0.26907], [4.00274, 0.17046, 0.17029, 0.17066, 0.17183, 0.17283, 0.17596, 0.17823, 0.18107, 0.18877, 0.19381, 0.20667, 0.22389, 0.24648], [5.00274, 0.15701, 0.15785, 0.15925, 0.16145, 0.16293, 0.16689, 0.16948, 0.17253, 0.18034, 0.18521, 0.19731, 0.21316, 0.23378], [10.00822, 0.12992, 0.13127, 0.13334, 0.13636, 0.13831, 0.14329, 0.1464, 0.14998, 0.15874, 0.16402, 0.17669, 0.19273, 0.21318], [20.0137, 0.1341, 0.13725, 0.14151, 0.14725, 0.15083, 0.15972, 0.16522, 0.17155, 0.18726, 0.197, 0.22166, 0.25674, 0.31196], [30.02192, 0.11758, 0.11948, 0.12244, 0.12693, 0.12993, 0.13789, 0.14305, 0.14918, 0.1649, 0.17492, 0.20095, 0.23955, 0.30564]], '20.0': [[0.0, -0.025, -0.02, -0.015, -0.01, -0.0075, -0.0025, -0.0, 0.0025, 0.0075, 0.01, 0.015, 0.02, 0.025], [0.01918, 0.39838, 0.33057, 0.25909, 0.25905, 0.25536, 0.25007, 0.24908, 0.24969, 0.25707, 0.26434, 0.35303, 0.50741, 0.69166], [0.03836, 0.28165, 0.27636, 0.26744, 0.25903, 0.25534, 0.25004, 0.24904, 0.24964, 0.25703, 0.26431, 0.28642, 0.35869, 0.48893], [0.08493, 0.28534, 0.27642, 0.26746, 0.25901, 0.2553, 0.24996, 0.24895, 0.24954, 0.25694, 0.26422, 0.28637, 0.31861, 0.36161], [0.16986, 0.27998, 0.27161, 0.26328, 0.25555, 0.25222, 0.24766, 0.24701, 0.2479, 0.25557, 0.26282, 0.28453, 0.31599, 0.35796], [0.25205, 0.2746, 0.2668, 0.25912, 0.25211, 0.24917, 0.24537, 0.24507, 0.24623, 0.25417, 0.26136, 0.28262, 0.31328, 0.35418], [0.50411, 0.25682, 0.2501, 0.24367, 0.23814, 0.23601, 0.23398, 0.23455, 0.23655, 0.24575, 0.25327, 0.27453, 0.30436, 0.34372], [0.75068, 0.24243, 0.23723, 0.23225, 0.228, 0.22641, 0.22515, 0.22593, 0.22797, 0.2368, 0.24394, 0.2641, 0.29224, 0.32867], [1.0, 0.23261, 0.22788, 0.22356, 0.22019, 0.21911, 0.21891, 0.22014, 0.22253, 0.23145, 0.23824, 0.25692, 0.28279, 0.31678], [1.50411, 0.21695, 0.21312, 0.20979, 0.20744, 0.20687, 0.20758, 0.20917, 0.2118, 0.22076, 0.22732, 0.24501, 0.26926, 0.30106], [2.00274, 0.20187, 0.19901, 0.19671, 0.19542, 0.19536, 0.19695, 0.19886, 0.20168, 0.21056, 0.21681, 0.23335, 0.25579, 0.28519], [3.00274, 0.18488, 0.1829, 0.18157, 0.18134, 0.18182, 0.18443, 0.18677, 0.18994, 0.19913, 0.20532, 0.22121, 0.24235, 0.26978], [4.00274, 0.16961, 0.16861, 0.16834, 0.16919, 0.1702, 0.17372, 0.1764, 0.1798, 0.18901, 0.19496, 0.20987, 0.22934, 0.25443], [5.00274, 0.15821, 0.15831, 0.15918, 0.16116, 0.16268, 0.16706, 0.17003, 0.1736, 0.18277, 0.18848, 0.20248, 0.22052, 0.24371], [10.00822, 0.13401, 0.13577, 0.13825, 0.14175, 0.14399, 0.14973, 0.15336, 0.1576, 0.16826, 0.17488, 0.19139, 0.21355, 0.24405], [20.0137, 0.12458, 0.12754, 0.13146, 0.1367, 0.13995, 0.14808, 0.15314, 0.15902, 0.17384, 0.1832, 0.20746, 0.24335, 0.30372], [30.02192, 0.10591, 0.10755, 0.11001, 0.11368, 0.11613, 0.12268, 0.12698, 0.13214, 0.14562, 0.15437, 0.17751, 0.21266, 0.2747]], '30.0': [[0.0, -0.025, -0.02, -0.015, -0.01, -0.0075, -0.0025, -0.0, 0.0025, 0.0075, 0.01, 0.015, 0.02, 0.025], [0.01918, 0.42332, 0.35198, 0.27507, 0.26776, 0.26381, 0.25832, 0.25751, 0.25854, 0.2677, 0.27632, 0.38656, 0.56052, 0.77334], [0.03836, 0.29932, 0.28653, 0.27686, 0.26778, 0.26382, 0.25832, 0.2575, 0.25853, 0.2677, 0.27633, 0.30203, 0.39631, 0.54678], [0.08493, 0.29634, 0.28667, 0.27696, 0.26784, 0.26386, 0.25832, 0.25749, 0.25852, 0.2677, 0.27635, 0.30212, 0.33927, 0.38919], [0.16986, 0.28874, 0.27958, 0.27045, 0.26198, 0.25835, 0.25353, 0.25302, 0.25433, 0.26379, 0.2724, 0.29774, 0.3341, 0.38289], [0.25205, 0.28112, 0.27248, 0.26393, 0.25612, 0.25284, 0.24873, 0.24854, 0.25011, 0.2598, 0.26835, 0.29322, 0.32873, 0.37634], [0.50411, 0.26058, 0.25298, 0.24565, 0.23926, 0.23678, 0.23441, 0.23511, 0.23751, 0.24845, 0.2573, 0.28205, 0.31654, 0.36235], [0.75068, 0.24469, 0.23905, 0.23353, 0.22869, 0.22683, 0.22522, 0.22602, 0.22833, 0.2386, 0.24698, 0.27065, 0.30365, 0.3463], [1.0, 0.23376, 0.22853, 0.22364, 0.21969, 0.21836, 0.21786, 0.21916, 0.22181, 0.23206, 0.23998, 0.26184, 0.29233, 0.33295], [1.50411, 0.21819, 0.21376, 0.2098, 0.20689, 0.2061, 0.20667, 0.20841, 0.21139, 0.22179, 0.22946, 0.25016, 0.27864, 0.31642], [2.00274, 0.20362, 0.20012, 0.19719, 0.1954, 0.19518, 0.19676, 0.19888, 0.20209, 0.21237, 0.21965, 0.23888, 0.26502, 0.29963], [3.00274, 0.18763, 0.18511, 0.1833, 0.18273, 0.18314, 0.18593, 0.18856, 0.19218, 0.20281, 0.21, 0.22848, 0.25317, 0.28566], [4.00274, 0.17153, 0.17004, 0.16936, 0.16996, 0.17094, 0.17472, 0.17771, 0.18156, 0.19214, 0.19901, 0.21631, 0.23907, 0.26887], [5.00274, 0.15833, 0.15795, 0.15844, 0.16021, 0.16173, 0.16636, 0.16962, 0.17359, 0.18395, 0.19047, 0.20655, 0.22748, 0.25489], [10.00822, 0.12981, 0.13126, 0.13345, 0.13669, 0.13883, 0.14451, 0.1482, 0.15258, 0.16384, 0.17097, 0.18907, 0.21399, 0.24953], [20.0137, 0.11389, 0.1159, 0.11882, 0.12301, 0.12573, 0.13276, 0.13724, 0.14251, 0.15594, 0.16444, 0.18639, 0.21844, 0.27111], [30.02192, 0.09143, 0.09181, 0.0929, 0.09511, 0.09682, 0.1019, 0.10548, 0.10989, 0.12172, 0.12944, 0.14967, 0.17956, 0.22961]]}\n"
     ]
    },
    {
     "name": "stdout",
     "output_type": "stream",
     "text": [
      "ipdb> json_list.keys()\n",
      "dict_keys(['1.0', '2.0', '3.0', '5.0', '10.0', '20.0', '30.0'])\n"
     ]
    }
   ],
   "source": [
    "%debug"
   ]
  },
  {
   "cell_type": "code",
   "execution_count": null,
   "id": "9f329f3d",
   "metadata": {},
   "outputs": [],
   "source": []
  }
 ],
 "metadata": {
  "kernelspec": {
   "display_name": "Python 3 (ipykernel)",
   "language": "python",
   "name": "python3"
  },
  "language_info": {
   "codemirror_mode": {
    "name": "ipython",
    "version": 3
   },
   "file_extension": ".py",
   "mimetype": "text/x-python",
   "name": "python",
   "nbconvert_exporter": "python",
   "pygments_lexer": "ipython3",
   "version": "3.8.13"
  }
 },
 "nbformat": 4,
 "nbformat_minor": 5
}
