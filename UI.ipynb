{
 "cells": [
  {
   "cell_type": "code",
   "execution_count": 1,
   "id": "fb8cc5a1",
   "metadata": {},
   "outputs": [],
   "source": [
    "import os\n",
    "import numpy as np\n",
    "import pandas as pd\n",
    "\n",
    "import riskflow_jupyter"
   ]
  },
  {
   "cell_type": "code",
   "execution_count": 2,
   "id": "18761f21",
   "metadata": {},
   "outputs": [],
   "source": [
    "rundate = '2022-07-07'\n",
    "if os.name=='nt':\n",
    "    path = os.path.join('U:\\\\CVA_JSON', rundate)\n",
    "    path_transform={\n",
    "        '\\\\\\\\ICMJHBMVDROPPRD\\\\AdaptiveAnalytics\\\\Inbound\\\\MarketData':\n",
    "        '\\\\\\\\ICMJHBMVDROPUAT\\\\AdaptiveAnalytics\\\\Inbound\\\\MarketData'}\n",
    "else:\n",
    "    path = os.path.join('/media/vretiel/3EFA4BCDFA4B7FDF/Media/Data/crstal/CVA_JSON', rundate)\n",
    "    path_transform={\n",
    "            '//ICMJHBMVDROPPRD/AdaptiveAnalytics/Inbound/MarketData': \n",
    "            '/media/vretiel/3EFA4BCDFA4B7FDF/Media/Data/crstal/CVA_JSON'}\n",
    "    \n",
    "cx = riskflow_jupyter.rf.Context(\n",
    "    path_transform=path_transform,\n",
    "    file_transform={\n",
    "        'CVAMarketData_Calibrated.dat': 'CVAMarketData_Calibrated_New.json',\n",
    "        'MarketData.dat': 'MarketData.json'\n",
    "    })"
   ]
  },
  {
   "cell_type": "code",
   "execution_count": 3,
   "id": "b6644bb6",
   "metadata": {},
   "outputs": [],
   "source": [
    "from riskflow_widgets import Table, Three, to_json"
   ]
  },
  {
   "cell_type": "code",
   "execution_count": 4,
   "id": "f699d974",
   "metadata": {},
   "outputs": [
    {
     "data": {
      "text/plain": [
       "<riskflow.Context at 0x1ddc5fc2700>"
      ]
     },
     "execution_count": 4,
     "metadata": {},
     "output_type": "execute_result"
    }
   ],
   "source": [
    "# cx.load_json(os.path.join(path, 'InputAAJ_CrB_Russellstone_Treasury_ISDA.json'))\n",
    "cx.load_json(os.path.join(path, 'InputAAJ_CrB_BNP_Paribas__Paris__ISDA.json'))\n"
   ]
  },
  {
   "cell_type": "code",
   "execution_count": null,
   "id": "9c510715",
   "metadata": {},
   "outputs": [],
   "source": [
    "import ipywidgets as widgets\n"
   ]
  },
  {
   "cell_type": "code",
   "execution_count": null,
   "id": "9cabc1d9",
   "metadata": {},
   "outputs": [],
   "source": [
    "factor = riskflow_jupyter.rf.utils.Factor('FXVol',('GBP','ZAR'))\n",
    "# factor = riskflow_jupyter.rf.utils.Factor('InterestYieldVol',('CAD_SMILE_ICE',))\n",
    "\n",
    "vol = riskflow_jupyter.rf.riskfactors.construct_factor( factor,\n",
    "    cx.current_cfg.params['Price Factors'],\n",
    "    cx.current_cfg.params['Price Factor Interpolation']\n",
    ")"
   ]
  },
  {
   "cell_type": "code",
   "execution_count": null,
   "id": "db848304",
   "metadata": {},
   "outputs": [],
   "source": [
    "j=riskflow_jupyter.load_table_from_vol(vol)\n",
    "#to_json(j)\n",
    "#np.isnan(None)"
   ]
  },
  {
   "cell_type": "code",
   "execution_count": null,
   "id": "f58abac7",
   "metadata": {},
   "outputs": [],
   "source": [
    "# g = np.vstack([x[0], heights]).tolist()\n",
    "t = Three(description='Test')\n",
    "t.observe(lambda x:x['new'], 'value')\n",
    "t.value = to_json(j)"
   ]
  },
  {
   "cell_type": "code",
   "execution_count": null,
   "id": "17a86c80",
   "metadata": {},
   "outputs": [],
   "source": [
    "t"
   ]
  },
  {
   "cell_type": "code",
   "execution_count": null,
   "id": "1ea8ba9f",
   "metadata": {},
   "outputs": [],
   "source": [
    "%debug"
   ]
  },
  {
   "cell_type": "code",
   "execution_count": null,
   "id": "cc761720",
   "metadata": {},
   "outputs": [],
   "source": [
    "data"
   ]
  },
  {
   "cell_type": "code",
   "execution_count": null,
   "id": "41a91d3c",
   "metadata": {},
   "outputs": [],
   "source": [
    "t.value"
   ]
  },
  {
   "cell_type": "code",
   "execution_count": null,
   "id": "44ec37d2",
   "metadata": {},
   "outputs": [],
   "source": [
    "plt_text1.visible=False"
   ]
  },
  {
   "cell_type": "code",
   "execution_count": null,
   "id": "fd19ebd7",
   "metadata": {},
   "outputs": [],
   "source": [
    "from ipyfilechooser import FileChooser\n",
    "\n",
    "# Create and display a FileChooser widget\n",
    "fc = FileChooser('/home/vretiel/miniconda3/')\n",
    "display(fc)"
   ]
  },
  {
   "cell_type": "code",
   "execution_count": null,
   "id": "3b2c143c",
   "metadata": {},
   "outputs": [],
   "source": [
    "cx"
   ]
  },
  {
   "cell_type": "code",
   "execution_count": 5,
   "id": "b83586d4",
   "metadata": {},
   "outputs": [],
   "source": [
    "pp = riskflow_jupyter.PortfolioPage(cx)"
   ]
  },
  {
   "cell_type": "code",
   "execution_count": null,
   "id": "2c457fdb",
   "metadata": {},
   "outputs": [],
   "source": [
    "pp.main_container"
   ]
  },
  {
   "cell_type": "code",
   "execution_count": null,
   "id": "2e27d251",
   "metadata": {},
   "outputs": [],
   "source": [
    "rfp = riskflow_jupyter.RiskFactorsPage(cx)"
   ]
  },
  {
   "cell_type": "code",
   "execution_count": null,
   "id": "db34b376",
   "metadata": {
    "scrolled": false
   },
   "outputs": [],
   "source": [
    "rfp.main_container\n"
   ]
  },
  {
   "cell_type": "code",
   "execution_count": 6,
   "id": "8cd4c346",
   "metadata": {},
   "outputs": [
    {
     "data": {
      "text/plain": [
       "<module 'riskflow_jupyter' from 'C:\\\\Users\\\\shuaib.osman\\\\PycharmProjects\\\\riskflow\\\\riskflow_jupyter.py'>"
      ]
     },
     "execution_count": 6,
     "metadata": {},
     "output_type": "execute_result"
    }
   ],
   "source": [
    "import importlib\n",
    "importlib.reload(riskflow_jupyter)"
   ]
  },
  {
   "cell_type": "code",
   "execution_count": 7,
   "id": "d21150a7",
   "metadata": {
    "scrolled": false
   },
   "outputs": [
    {
     "data": {
      "application/vnd.jupyter.widget-view+json": {
       "model_id": "3550631af07344bfa0c547568f177ed8",
       "version_major": 2,
       "version_minor": 0
      },
      "text/plain": [
       "HBox(children=(Tree(plugins=['contextmenu', 'sort', 'unique', 'types', 'search'], selected=[''], settings='{\"c…"
      ]
     },
     "metadata": {},
     "output_type": "display_data"
    },
    {
     "name": "stdout",
     "output_type": "stream",
     "text": [
      "dict_keys(['frames', 'calc', 'output'])\n"
     ]
    },
    {
     "name": "stderr",
     "output_type": "stream",
     "text": [
      "WARNING:root:Price Factor 'DiscountRate.ZAR-SWAP.ZAR-USD-BASIS' not found in market data\n",
      "WARNING:root:Price Factor 'DiscountRate.USD-MASTER' not found in market data\n",
      "WARNING:root:Price Factor 'DiscountRate.ZAR-SWAP' not found in market data\n",
      "WARNING:root:Price Factor 'DiscountRate.CHF-OIS.CHF-USD-BASIS' not found in market data\n",
      "WARNING:root:Price Factor 'DiscountRate.AUD-BBSW-6M.AUD-BBSW-3M.AUD-USD-BASIS' not found in market data\n",
      "WARNING:root:Price Factor 'DiscountRate.USD-MASTER.USD-MASTER+240BP' not found in market data\n",
      "WARNING:root:Price Factor 'DiscountRate.USD-MASTER.USD-MASTER+265BP' not found in market data\n",
      "WARNING:root:Price Factor 'DiscountRate.USD-MASTER.USD-MASTER+235BP' not found in market data\n",
      "WARNING:root:Price Factor 'DiscountRate.USD-MASTER.USD-MASTER+225BP' not found in market data\n",
      "WARNING:root:Price Factor 'DiscountRate.EUR-MASTER' not found in market data\n",
      "WARNING:root:Price Factor 'DiscountRate.ZAR-SWAP.ZAR-SWAP+115BP' not found in market data\n",
      "WARNING:root:Price Factor 'DiscountRate.ZAR-SWAP.ZAR-SWAP+145BP' not found in market data\n",
      "WARNING:root:Price Factor 'DiscountRate.ZAR-SWAP.ZAR-SWAP+110BP' not found in market data\n"
     ]
    },
    {
     "name": "stdout",
     "output_type": "stream",
     "text": [
      "{'Base_Date': Timestamp('2022-07-07 00:00:00'), 'Currency': 'EUR', 'Base_time_grid': '0d 2d 1w(1w) 3m(1m) 2y(3m)', 'Simulation_Batches': 1, 'Batch_Size': 1024, 'Random_Seed': 1, 'Calc_Scenarios': 'No', 'Generate_Cashflows': 'Yes', 'Credit_Valuation_Adjustment': {'Calculate': 'Yes', 'First_To_Default_Adjustment': None, 'Counterparty': 'BNP Paribas (Paris)', 'Bank': 'Investec Limited', 'Deflate_Stochastically': 'Yes', 'Stochastic_Hazard_Rates': 'No', 'CDS_Tenors': '', 'Counterparty_Bank_Correlation': 0.0}, 'Collateral_Valuation_Adjustment': {'Calculate': 'No', 'Gradient': 'No'}, 'calc_name': 'CreditMonteCarlo.CrB_BNP_Paribas__Paris__ISDA', 'Object': 'CreditMonteCarlo'}\n"
     ]
    },
    {
     "name": "stderr",
     "output_type": "stream",
     "text": [
      "ERROR:root:Risk Factor InterestRate.USD-MASTER.USD-MASTER+240BP using stochastic process HullWhite2FactorImpliedInterestRateModel missing in Price Models section\n",
      "ERROR:root:Risk Factor InterestRate.USD-MASTER.USD-MASTER+265BP using stochastic process HullWhite2FactorImpliedInterestRateModel missing in Price Models section\n",
      "ERROR:root:Risk Factor InterestRate.USD-MASTER.USD-MASTER+235BP using stochastic process HullWhite2FactorImpliedInterestRateModel missing in Price Models section\n",
      "ERROR:root:Risk Factor InterestRate.USD-MASTER.USD-MASTER+225BP using stochastic process HullWhite2FactorImpliedInterestRateModel missing in Price Models section\n",
      "ERROR:root:Risk Factor InterestRate.ZAR-SWAP.ZAR-SWAP+115BP using stochastic process HullWhite2FactorImpliedInterestRateModel missing in Price Models section\n",
      "ERROR:root:Risk Factor InterestRate.ZAR-SWAP.ZAR-SWAP+145BP using stochastic process HullWhite2FactorImpliedInterestRateModel missing in Price Models section\n",
      "ERROR:root:Risk Factor InterestRate.ZAR-SWAP.ZAR-SWAP+110BP using stochastic process HullWhite2FactorImpliedInterestRateModel missing in Price Models section\n",
      "ERROR:root:Risk Factor InterestRate.CNH-USD-FX using stochastic process PCAInterestRateModel missing in Price Models section\n",
      "WARNING:root:Price Factor ('InterestYieldVol.ZAR_CAPFLOOR_SMILE_ICE/+7.150000',) missing in market data file - skipping\n"
     ]
    }
   ],
   "source": [
    "cp = riskflow_jupyter.CalculationPage(cx)\n",
    "cp.main_container"
   ]
  },
  {
   "cell_type": "code",
   "execution_count": null,
   "id": "7b4ee334",
   "metadata": {},
   "outputs": [],
   "source": [
    "%debug\n"
   ]
  },
  {
   "cell_type": "code",
   "execution_count": null,
   "id": "f3799625",
   "metadata": {},
   "outputs": [],
   "source": [
    "cp.data['CreditMonteCarlo.asdsad']"
   ]
  },
  {
   "cell_type": "code",
   "execution_count": null,
   "id": "9ec7c7cc",
   "metadata": {},
   "outputs": [],
   "source": [
    "#pp.tree_data\n",
    "rfp.tree_data[-1]"
   ]
  },
  {
   "cell_type": "code",
   "execution_count": null,
   "id": "5ae758f2",
   "metadata": {},
   "outputs": [],
   "source": [
    "#rfp.right_container.children[0].children[4].plot.layout.max_width='600px'\n",
    "dir(rfp.right_container.children[0].children[2])"
   ]
  },
  {
   "cell_type": "code",
   "execution_count": null,
   "id": "35cc4941",
   "metadata": {},
   "outputs": [],
   "source": [
    "rfp.right_container.children[0].children[2].dropdown.layout.max_width='360px'\n",
    "#rfp.right_container.children[0].children[2].selector.layout.max_width='600px'\n",
    "rfp.right_container.children[0].children[2].selector"
   ]
  }
 ],
 "metadata": {
  "kernelspec": {
   "display_name": "Python 3",
   "language": "python",
   "name": "python3"
  },
  "language_info": {
   "codemirror_mode": {
    "name": "ipython",
    "version": 3
   },
   "file_extension": ".py",
   "mimetype": "text/x-python",
   "name": "python",
   "nbconvert_exporter": "python",
   "pygments_lexer": "ipython3",
   "version": "3.8.5"
  }
 },
 "nbformat": 4,
 "nbformat_minor": 5
}
