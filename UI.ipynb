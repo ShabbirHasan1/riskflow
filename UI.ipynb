{
 "cells": [
  {
   "cell_type": "code",
   "execution_count": 1,
   "id": "dbea8689",
   "metadata": {},
   "outputs": [],
   "source": [
    "import os\n",
    "import numpy as np\n",
    "import pandas as pd\n",
    "\n",
    "import riskflow_jupyter"
   ]
  },
  {
   "cell_type": "code",
   "execution_count": 2,
   "id": "1821c63a",
   "metadata": {},
   "outputs": [],
   "source": [
    "rundate = '2022-07-07'\n",
    "if os.name=='nt':\n",
    "    path = os.path.join('U:\\\\CVA_JSON', rundate)\n",
    "    path_transform={\n",
    "        '\\\\\\\\ICMJHBMVDROPPRD\\\\AdaptiveAnalytics\\\\Inbound\\\\MarketData':\n",
    "        '\\\\\\\\ICMJHBMVDROPUAT\\\\AdaptiveAnalytics\\\\Inbound\\\\MarketData'}\n",
    "else:\n",
    "    path = os.path.join('/media/vretiel/3EFA4BCDFA4B7FDF/Media/Data/crstal/CVA_JSON', rundate)\n",
    "    path_transform={\n",
    "            '//ICMJHBMVDROPPRD/AdaptiveAnalytics/Inbound/MarketData': \n",
    "            '/media/vretiel/3EFA4BCDFA4B7FDF/Media/Data/crstal/CVA_JSON'}\n",
    "    \n",
    "cx = riskflow_jupyter.rf.Context(\n",
    "    path_transform=path_transform,\n",
    "    file_transform={\n",
    "        'CVAMarketData_Calibrated.dat': 'CVAMarketData_Calibrated_New.json',\n",
    "        'MarketData.dat': 'MarketData.json'\n",
    "    })"
   ]
  },
  {
   "cell_type": "code",
   "execution_count": 3,
   "id": "04d64784",
   "metadata": {},
   "outputs": [],
   "source": [
    "from riskflow_widgets import Table, Three, to_json"
   ]
  },
  {
   "cell_type": "code",
   "execution_count": 4,
   "id": "6385b6c8",
   "metadata": {},
   "outputs": [
    {
     "data": {
      "text/plain": [
       "<riskflow.Context at 0x7f9682fa8760>"
      ]
     },
     "execution_count": 4,
     "metadata": {},
     "output_type": "execute_result"
    }
   ],
   "source": [
    "# cx.load_json(os.path.join(path, 'InputAAJ_CrB_Russellstone_Treasury_ISDA.json'))\n",
    "cx.load_json(os.path.join(path, 'InputAAJ_CrB_BNP_Paribas__Paris__ISDA.json'))\n"
   ]
  },
  {
   "cell_type": "code",
   "execution_count": null,
   "id": "a2c31a0d",
   "metadata": {},
   "outputs": [],
   "source": [
    "import ipywidgets as widgets\n"
   ]
  },
  {
   "cell_type": "code",
   "execution_count": null,
   "id": "a8877416",
   "metadata": {},
   "outputs": [],
   "source": [
    "factor = riskflow_jupyter.rf.utils.Factor('FXVol',('GBP','ZAR'))\n",
    "# factor = riskflow_jupyter.rf.utils.Factor('InterestYieldVol',('CAD_SMILE_ICE',))\n",
    "\n",
    "vol = riskflow_jupyter.rf.riskfactors.construct_factor( factor,\n",
    "    cx.current_cfg.params['Price Factors'],\n",
    "    cx.current_cfg.params['Price Factor Interpolation']\n",
    ")"
   ]
  },
  {
   "cell_type": "code",
   "execution_count": null,
   "id": "ac4ab937",
   "metadata": {},
   "outputs": [],
   "source": [
    "j=riskflow_jupyter.load_table_from_vol(vol)\n",
    "#to_json(j)\n",
    "#np.isnan(None)"
   ]
  },
  {
   "cell_type": "code",
   "execution_count": null,
   "id": "cb04adfd",
   "metadata": {},
   "outputs": [],
   "source": [
    "# g = np.vstack([x[0], heights]).tolist()\n",
    "t = Three(description='Test')\n",
    "t.observe(lambda x:x['new'], 'value')\n",
    "t.value = to_json(j)"
   ]
  },
  {
   "cell_type": "code",
   "execution_count": null,
   "id": "4bae1ba2",
   "metadata": {},
   "outputs": [],
   "source": [
    "t"
   ]
  },
  {
   "cell_type": "code",
   "execution_count": null,
   "id": "5b50ab1e",
   "metadata": {},
   "outputs": [],
   "source": [
    "%debug"
   ]
  },
  {
   "cell_type": "code",
   "execution_count": null,
   "id": "637cbcab",
   "metadata": {},
   "outputs": [],
   "source": [
    "data"
   ]
  },
  {
   "cell_type": "code",
   "execution_count": null,
   "id": "66d2522f",
   "metadata": {},
   "outputs": [],
   "source": [
    "t.value"
   ]
  },
  {
   "cell_type": "code",
   "execution_count": null,
   "id": "61dae0c9",
   "metadata": {},
   "outputs": [],
   "source": [
    "plt_text1.visible=False"
   ]
  },
  {
   "cell_type": "code",
   "execution_count": null,
   "id": "2bd1f0f8",
   "metadata": {},
   "outputs": [],
   "source": [
    "from ipyfilechooser import FileChooser\n",
    "\n",
    "# Create and display a FileChooser widget\n",
    "fc = FileChooser('/home/vretiel/miniconda3/')\n",
    "display(fc)"
   ]
  },
  {
   "cell_type": "code",
   "execution_count": 5,
   "id": "7d847465",
   "metadata": {},
   "outputs": [
    {
     "data": {
      "text/plain": [
       "<riskflow.Context at 0x7f9682fa8760>"
      ]
     },
     "execution_count": 5,
     "metadata": {},
     "output_type": "execute_result"
    }
   ],
   "source": [
    "cx"
   ]
  },
  {
   "cell_type": "code",
   "execution_count": 7,
   "id": "b00f25a8",
   "metadata": {},
   "outputs": [],
   "source": [
    "pp = riskflow_jupyter.PortfolioPage(cx)"
   ]
  },
  {
   "cell_type": "code",
   "execution_count": 8,
   "id": "d21fc70b",
   "metadata": {},
   "outputs": [
    {
     "data": {
      "application/vnd.jupyter.widget-view+json": {
       "model_id": "30620e5be34c4bbb95565ed0df0d1c0f",
       "version_major": 2,
       "version_minor": 0
      },
      "text/plain": [
       "HBox(children=(Tree(plugins=['contextmenu', 'sort', 'types', 'search', 'unique'], selected=[''], settings='{\"c…"
      ]
     },
     "metadata": {},
     "output_type": "display_data"
    }
   ],
   "source": [
    "pp.main_container"
   ]
  },
  {
   "cell_type": "code",
   "execution_count": 9,
   "id": "2cb98b41",
   "metadata": {},
   "outputs": [],
   "source": [
    "rfp = riskflow_jupyter.RiskFactorsPage(cx)"
   ]
  },
  {
   "cell_type": "code",
   "execution_count": 10,
   "id": "5fbc8089",
   "metadata": {
    "scrolled": false
   },
   "outputs": [
    {
     "data": {
      "application/vnd.jupyter.widget-view+json": {
       "model_id": "fd0d6b3f42b24a05a4e86ad60bdc56de",
       "version_major": 2,
       "version_minor": 0
      },
      "text/plain": [
       "HBox(children=(Tree(plugins=['contextmenu', 'sort', 'unique', 'types', 'search', 'checkbox'], selected=[''], s…"
      ]
     },
     "metadata": {},
     "output_type": "display_data"
    }
   ],
   "source": [
    "rfp.main_container\n"
   ]
  },
  {
   "cell_type": "code",
   "execution_count": 11,
   "id": "4a6510d2",
   "metadata": {},
   "outputs": [
    {
     "data": {
      "text/plain": [
       "<module 'riskflow_jupyter' from '/home/vretiel/PycharmProjects/riskflow/riskflow_jupyter.py'>"
      ]
     },
     "execution_count": 11,
     "metadata": {},
     "output_type": "execute_result"
    }
   ],
   "source": [
    "import importlib\n",
    "importlib.reload(riskflow_jupyter)"
   ]
  },
  {
   "cell_type": "code",
   "execution_count": 12,
   "id": "47bd67b6",
   "metadata": {},
   "outputs": [
    {
     "data": {
      "application/vnd.jupyter.widget-view+json": {
       "model_id": "c6bae0005f7245baa440776a23825f8d",
       "version_major": 2,
       "version_minor": 0
      },
      "text/plain": [
       "HBox(children=(Tree(plugins=['contextmenu', 'sort', 'unique', 'types', 'search'], selected=[''], settings='{\"c…"
      ]
     },
     "metadata": {},
     "output_type": "display_data"
    },
    {
     "name": "stderr",
     "output_type": "stream",
     "text": [
      "/home/vretiel/miniconda3/lib/python3.8/site-packages/jupyter_client/session.py:716: UserWarning: Message serialization failed with:\n",
      "Out of range float values are not JSON compliant\n",
      "Supporting this message is deprecated in jupyter-client 7, please make sure your message is JSON-compliant\n",
      "  content = self.pack(content)\n"
     ]
    }
   ],
   "source": [
    "cp = riskflow_jupyter.CalculationPage(cx)\n",
    "cp.main_container"
   ]
  },
  {
   "cell_type": "code",
   "execution_count": 13,
   "id": "5ce96171",
   "metadata": {},
   "outputs": [
    {
     "data": {
      "text/plain": [
       "{'Object': 'CreditMonteCarlo',\n",
       " 'Base_Date': Timestamp('2022-07-07 00:00:00'),\n",
       " 'Collateral_Algorithm': 'Do Nothing Collateral Algorithm',\n",
       " 'Currency': 'EUR',\n",
       " 'Adjust_To_External_MtM': 'No',\n",
       " 'Base_Time_Grid': <riskflow.utils.Offsets at 0x7f9682f4bc70>,\n",
       " 'Sub_Calculations': [{'Name': 'Bank',\n",
       "   'Filter': '',\n",
       "   'Tags': '',\n",
       "   'Aggregation_Mode': 'Auto',\n",
       "   'Exposure_View': 'Bank',\n",
       "   'Settlement_Adjustment': 0,\n",
       "   'Liquidation_Adjustment': 0},\n",
       "  {'Name': 'Counterparty',\n",
       "   'Filter': '',\n",
       "   'Tags': '',\n",
       "   'Aggregation_Mode': 'Auto',\n",
       "   'Exposure_View': 'Counterparty',\n",
       "   'Settlement_Adjustment': 0,\n",
       "   'Liquidation_Adjustment': 0}],\n",
       " 'Scenarios': 100,\n",
       " 'Antithetic': 'No',\n",
       " 'Sampling': 'Unstratified',\n",
       " 'Random_Seed': '1',\n",
       " 'Output_Detail': 'Quantiles',\n",
       " 'Use_Dynamic_Dates': 'Yes',\n",
       " 'Scenario_Time_Grid': <riskflow.utils.Offsets at 0x7f9682f93f40>,\n",
       " 'Max_Horizon': '',\n",
       " 'Deflation_Interest_Rate': 'EUR-MASTER',\n",
       " 'Deterministic_Scenarios': {'Deterministic_Scenarios': 'Off',\n",
       "  'Scenario_Path': '',\n",
       "  'Database_Name': ''},\n",
       " 'Default_Conditioning': {'Calculate': 'No', 'Counterparty': ''},\n",
       " 'Exclude_Paid_Today': 'No',\n",
       " 'Credit_Valuation_Adjustment': {'Calculate': 'Yes',\n",
       "  'First_To_Default_Adjustment': None,\n",
       "  'Counterparty': 'BNP Paribas (Paris)',\n",
       "  'Bank': 'Investec Limited',\n",
       "  'Deflate_Stochastically': 'Yes',\n",
       "  'Stochastic_Hazard_Rates': 'No',\n",
       "  'CDS_Tenors': '',\n",
       "  'Counterparty_Bank_Correlation': 0.0}}"
      ]
     },
     "execution_count": 13,
     "metadata": {},
     "output_type": "execute_result"
    }
   ],
   "source": [
    "cp.config.deals['Calculation']\n"
   ]
  },
  {
   "cell_type": "code",
   "execution_count": null,
   "id": "6e9ddec2",
   "metadata": {},
   "outputs": [],
   "source": [
    "#pp.tree_data\n",
    "rfp.tree_data[-1]"
   ]
  },
  {
   "cell_type": "code",
   "execution_count": null,
   "id": "c8629f5e",
   "metadata": {},
   "outputs": [],
   "source": [
    "#rfp.right_container.children[0].children[4].plot.layout.max_width='600px'\n",
    "dir(rfp.right_container.children[0].children[2])"
   ]
  },
  {
   "cell_type": "code",
   "execution_count": null,
   "id": "a0b0582d",
   "metadata": {},
   "outputs": [],
   "source": [
    "rfp.right_container.children[0].children[2].dropdown.layout.max_width='360px'\n",
    "#rfp.right_container.children[0].children[2].selector.layout.max_width='600px'\n",
    "rfp.right_container.children[0].children[2].selector"
   ]
  },
  {
   "cell_type": "code",
   "execution_count": null,
   "id": "ae47897a",
   "metadata": {},
   "outputs": [],
   "source": [
    "a='InterestYieldVol.CAD_SMILE_ICE'\n",
    "\n",
    "c= getattr(riskflow_jupyter.rf.riskfactors, riskflow_jupyter.rf.utils.check_rate_name(a)[0])"
   ]
  },
  {
   "cell_type": "code",
   "execution_count": null,
   "id": "c6629c26",
   "metadata": {},
   "outputs": [],
   "source": [
    "c"
   ]
  },
  {
   "cell_type": "code",
   "execution_count": null,
   "id": "6c2740df",
   "metadata": {},
   "outputs": [],
   "source": [
    "riskflow_jupyter.CalculationPage(cx.current_cfg)"
   ]
  },
  {
   "cell_type": "code",
   "execution_count": null,
   "id": "84f1ec16",
   "metadata": {},
   "outputs": [],
   "source": [
    "%debug"
   ]
  },
  {
   "cell_type": "code",
   "execution_count": null,
   "id": "505fd59c",
   "metadata": {},
   "outputs": [],
   "source": [
    "l=widgets.Layout(visibility='visible', max_width='600px')\n"
   ]
  },
  {
   "cell_type": "code",
   "execution_count": null,
   "id": "b4a5d4bf",
   "metadata": {},
   "outputs": [],
   "source": [
    "cx.current_cfg.params['Price Models']['HullWhite1FactorInterestRateModel.HKD-OIS']['Quanto_FX_Volatility']=None\n"
   ]
  },
  {
   "cell_type": "code",
   "execution_count": null,
   "id": "2cac120e",
   "metadata": {},
   "outputs": [],
   "source": [
    "cx.current_cfg.params['Price Models']['HullWhite1FactorInterestRateModel.HKD-OIS']"
   ]
  },
  {
   "cell_type": "code",
   "execution_count": null,
   "id": "b6199406",
   "metadata": {},
   "outputs": [],
   "source": []
  }
 ],
 "metadata": {
  "kernelspec": {
   "display_name": "Python 3 (ipykernel)",
   "language": "python",
   "name": "python3"
  },
  "language_info": {
   "codemirror_mode": {
    "name": "ipython",
    "version": 3
   },
   "file_extension": ".py",
   "mimetype": "text/x-python",
   "name": "python",
   "nbconvert_exporter": "python",
   "pygments_lexer": "ipython3",
   "version": "3.8.13"
  }
 },
 "nbformat": 4,
 "nbformat_minor": 5
}
