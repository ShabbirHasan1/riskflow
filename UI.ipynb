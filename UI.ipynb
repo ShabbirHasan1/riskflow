{
 "cells": [
  {
   "cell_type": "code",
   "execution_count": 39,
   "id": "d42ed45f",
   "metadata": {},
   "outputs": [],
   "source": [
    "import os\n",
    "import logging\n",
    "import numpy as np\n",
    "import pandas as pd\n",
    "\n",
    "import riskflow_jupyter"
   ]
  },
  {
   "cell_type": "code",
   "execution_count": 40,
   "id": "9d62ea17",
   "metadata": {},
   "outputs": [
    {
     "data": {
      "text/plain": [
       "<module 'riskflow_jupyter' from '/home/vretiel/PycharmProjects/riskflow/riskflow_jupyter.py'>"
      ]
     },
     "execution_count": 40,
     "metadata": {},
     "output_type": "execute_result"
    }
   ],
   "source": [
    "import importlib\n",
    "importlib.reload(riskflow_jupyter)"
   ]
  },
  {
   "cell_type": "code",
   "execution_count": 41,
   "id": "b880beae",
   "metadata": {
    "scrolled": false
   },
   "outputs": [
    {
     "data": {
      "application/vnd.jupyter.widget-view+json": {
       "model_id": "0f41ddadbada4d938341d4133609b7ad",
       "version_major": 2,
       "version_minor": 0
      },
      "text/plain": [
       "VBox(children=(Tab(children=(VBox(children=(VBox(children=(VBox(children=(VBox(children=(Text(value='//ICMJHBM…"
      ]
     },
     "metadata": {},
     "output_type": "display_data"
    },
    {
     "name": "stdout",
     "output_type": "stream",
     "text": [
      "Unexpected exception formatting exception. Falling back to standard exception\n"
     ]
    },
    {
     "name": "stderr",
     "output_type": "stream",
     "text": [
      "Traceback (most recent call last):\n",
      "  File \"/home/vretiel/miniconda3/lib/python3.8/site-packages/ipywidgets/widgets/widget.py\", line 217, in m\n",
      "    return(method(self, *args, **kwargs))\n",
      "  File \"/home/vretiel/miniconda3/lib/python3.8/site-packages/ipywidgets/widgets/widget.py\", line 676, in _handle_msg\n",
      "    self.set_state(state)\n",
      "  File \"/home/vretiel/miniconda3/lib/python3.8/site-packages/ipywidgets/widgets/widget.py\", line 545, in set_state\n",
      "    self.set_trait(name, from_json(sync_data[name], self))\n",
      "  File \"/home/vretiel/miniconda3/lib/python3.8/contextlib.py\", line 120, in __exit__\n",
      "    next(self.gen)\n",
      "  File \"/home/vretiel/miniconda3/lib/python3.8/site-packages/traitlets/traitlets.py\", line 1216, in hold_trait_notifications\n",
      "    self.notify_change(change)\n",
      "  File \"/home/vretiel/miniconda3/lib/python3.8/site-packages/ipywidgets/widgets/widget.py\", line 606, in notify_change\n",
      "    super(Widget, self).notify_change(change)\n",
      "  File \"/home/vretiel/miniconda3/lib/python3.8/site-packages/traitlets/traitlets.py\", line 1229, in notify_change\n",
      "    return self._notify_observers(change)\n",
      "  File \"/home/vretiel/miniconda3/lib/python3.8/site-packages/traitlets/traitlets.py\", line 1266, in _notify_observers\n",
      "    c(event)\n",
      "  File \"/home/vretiel/PycharmProjects/riskflow/riskflow_jupyter.py\", line 345, in _on_selected_changed\n",
      "    self.right_container.children = self.calc_frames(change['new'])\n",
      "  File \"/home/vretiel/PycharmProjects/riskflow/riskflow_jupyter.py\", line 982, in calc_frames\n",
      "    self.define_input(\n",
      "  File \"/home/vretiel/PycharmProjects/riskflow/riskflow_jupyter.py\", line 272, in define_input\n",
      "    w = Flot(description=element['description'],\n",
      "  File \"/home/vretiel/miniconda3/lib/python3.8/site-packages/ipywidgets/widgets/widget.py\", line 412, in __init__\n",
      "    super(Widget, self).__init__(**kwargs)\n",
      "  File \"/home/vretiel/miniconda3/lib/python3.8/site-packages/traitlets/traitlets.py\", line 1079, in __init__\n",
      "    setattr(self, key, value)\n",
      "  File \"/home/vretiel/miniconda3/lib/python3.8/site-packages/traitlets/traitlets.py\", line 606, in __set__\n",
      "    self.set(obj, value)\n",
      "  File \"/home/vretiel/miniconda3/lib/python3.8/site-packages/traitlets/traitlets.py\", line 580, in set\n",
      "    new_value = self._validate(obj, value)\n",
      "  File \"/home/vretiel/miniconda3/lib/python3.8/site-packages/traitlets/traitlets.py\", line 612, in _validate\n",
      "    value = self.validate(obj, value)\n",
      "  File \"/home/vretiel/miniconda3/lib/python3.8/site-packages/traitlets/traitlets.py\", line 2190, in validate\n",
      "    self.error(obj, value)\n",
      "  File \"/home/vretiel/miniconda3/lib/python3.8/site-packages/traitlets/traitlets.py\", line 692, in error\n",
      "    raise TraitError(e)\n",
      "traitlets.traitlets.TraitError: The 'value' trait of a Flot instance expected a unicode string, not the float 0.0.\n",
      "\n",
      "During handling of the above exception, another exception occurred:\n",
      "\n",
      "Traceback (most recent call last):\n",
      "  File \"/home/vretiel/miniconda3/lib/python3.8/site-packages/IPython/core/interactiveshell.py\", line 1993, in showtraceback\n",
      "    stb = self.InteractiveTB.structured_traceback(\n",
      "  File \"/home/vretiel/miniconda3/lib/python3.8/site-packages/IPython/core/ultratb.py\", line 1118, in structured_traceback\n",
      "    return FormattedTB.structured_traceback(\n",
      "  File \"/home/vretiel/miniconda3/lib/python3.8/site-packages/IPython/core/ultratb.py\", line 1012, in structured_traceback\n",
      "    return VerboseTB.structured_traceback(\n",
      "  File \"/home/vretiel/miniconda3/lib/python3.8/site-packages/IPython/core/ultratb.py\", line 865, in structured_traceback\n",
      "    formatted_exception = self.format_exception_as_a_whole(etype, evalue, etb, number_of_lines_of_context,\n",
      "  File \"/home/vretiel/miniconda3/lib/python3.8/site-packages/IPython/core/ultratb.py\", line 818, in format_exception_as_a_whole\n",
      "    frames.append(self.format_record(r))\n",
      "  File \"/home/vretiel/miniconda3/lib/python3.8/site-packages/IPython/core/ultratb.py\", line 736, in format_record\n",
      "    result += ''.join(_format_traceback_lines(frame_info.lines, Colors, self.has_colors, lvals))\n",
      "  File \"/home/vretiel/miniconda3/lib/python3.8/site-packages/stack_data/utils.py\", line 145, in cached_property_wrapper\n",
      "    value = obj.__dict__[self.func.__name__] = self.func(obj)\n",
      "  File \"/home/vretiel/miniconda3/lib/python3.8/site-packages/stack_data/core.py\", line 698, in lines\n",
      "    pieces = self.included_pieces\n",
      "  File \"/home/vretiel/miniconda3/lib/python3.8/site-packages/stack_data/utils.py\", line 145, in cached_property_wrapper\n",
      "    value = obj.__dict__[self.func.__name__] = self.func(obj)\n",
      "  File \"/home/vretiel/miniconda3/lib/python3.8/site-packages/stack_data/core.py\", line 649, in included_pieces\n",
      "    pos = scope_pieces.index(self.executing_piece)\n",
      "  File \"/home/vretiel/miniconda3/lib/python3.8/site-packages/stack_data/utils.py\", line 145, in cached_property_wrapper\n",
      "    value = obj.__dict__[self.func.__name__] = self.func(obj)\n",
      "  File \"/home/vretiel/miniconda3/lib/python3.8/site-packages/stack_data/core.py\", line 628, in executing_piece\n",
      "    return only(\n",
      "  File \"/home/vretiel/miniconda3/lib/python3.8/site-packages/executing/executing.py\", line 164, in only\n",
      "    raise NotOneValueFound('Expected one value, found 0')\n",
      "executing.executing.NotOneValueFound: Expected one value, found 0\n"
     ]
    }
   ],
   "source": [
    "rundate = '2022-07-07'\n",
    "if os.name=='nt':\n",
    "    path = os.path.join('U:\\\\CVA_JSON', rundate)\n",
    "    path_transform={\n",
    "        '\\\\\\\\ICMJHBMVDROPPRD\\\\AdaptiveAnalytics\\\\Inbound\\\\MarketData':\n",
    "        '\\\\\\\\ICMJHBMVDROPUAT\\\\AdaptiveAnalytics\\\\Inbound\\\\MarketData'}\n",
    "else:\n",
    "    path = os.path.join('/media/vretiel/3EFA4BCDFA4B7FDF/Media/Data/crstal/CVA_JSON', rundate)\n",
    "    path_transform={\n",
    "            '//ICMJHBMVDROPPRD/AdaptiveAnalytics/Inbound/MarketData': \n",
    "            '/media/vretiel/3EFA4BCDFA4B7FDF/Media/Data/crstal/CVA_JSON'}\n",
    "    \n",
    "w=riskflow_jupyter.Workbench(\n",
    "    path=path, \n",
    "    path_transform=path_transform,\n",
    "    file_transform={\n",
    "    'CVAMarketData_Calibrated.dat': 'CVAMarketData_Calibrated_New.json',\n",
    "    'MarketData.dat': 'MarketData.json'})\n",
    "\n"
   ]
  },
  {
   "cell_type": "code",
   "execution_count": 42,
   "id": "d1c04430",
   "metadata": {},
   "outputs": [
    {
     "data": {
      "text/plain": [
       "{'Object': 'CreditMonteCarlo',\n",
       " 'Base_Date': Timestamp('2022-07-07 00:00:00'),\n",
       " 'Collateral_Algorithm': 'Do Nothing Collateral Algorithm',\n",
       " 'Currency': 'ZAR',\n",
       " 'Adjust_To_External_MtM': 'No',\n",
       " 'Base_Time_Grid': <riskflow.utils.Offsets at 0x7f7898623880>,\n",
       " 'Sub_Calculations': [{'Name': 'Bank',\n",
       "   'Filter': '',\n",
       "   'Tags': '',\n",
       "   'Aggregation_Mode': 'Auto',\n",
       "   'Exposure_View': 'Bank',\n",
       "   'Settlement_Adjustment': 0,\n",
       "   'Liquidation_Adjustment': 0},\n",
       "  {'Name': 'Counterparty',\n",
       "   'Filter': '',\n",
       "   'Tags': '',\n",
       "   'Aggregation_Mode': 'Auto',\n",
       "   'Exposure_View': 'Counterparty',\n",
       "   'Settlement_Adjustment': 0,\n",
       "   'Liquidation_Adjustment': 0}],\n",
       " 'Scenarios': 100,\n",
       " 'Antithetic': 'No',\n",
       " 'Sampling': 'Unstratified',\n",
       " 'Random_Seed': '1',\n",
       " 'Output_Detail': 'Quantiles',\n",
       " 'Use_Dynamic_Dates': 'Yes',\n",
       " 'Scenario_Time_Grid': <riskflow.utils.Offsets at 0x7f7898623370>,\n",
       " 'Max_Horizon': '',\n",
       " 'Deflation_Interest_Rate': 'ZAR-SWAP',\n",
       " 'Deterministic_Scenarios': {'Deterministic_Scenarios': 'Off',\n",
       "  'Scenario_Path': '',\n",
       "  'Database_Name': ''},\n",
       " 'Default_Conditioning': {'Calculate': 'No', 'Counterparty': ''},\n",
       " 'Exclude_Paid_Today': 'No',\n",
       " 'Credit_Valuation_Adjustment': {'Calculate': 'Yes',\n",
       "  'First_To_Default_Adjustment': None,\n",
       "  'Counterparty': 'ACWA Power SolarReserve Redstone So',\n",
       "  'Bank': 'Investec Limited',\n",
       "  'Deflate_Stochastically': 'Yes',\n",
       "  'Stochastic_Hazard_Rates': 'No',\n",
       "  'CDS_Tenors': '',\n",
       "  'Counterparty_Bank_Correlation': 0.0}}"
      ]
     },
     "execution_count": 42,
     "metadata": {},
     "output_type": "execute_result"
    }
   ],
   "source": [
    "w.context.current_cfg.deals['Calculation']"
   ]
  },
  {
   "cell_type": "code",
   "execution_count": 3,
   "id": "0aafbf77",
   "metadata": {},
   "outputs": [
    {
     "ename": "IndexError",
     "evalue": "list index out of range",
     "output_type": "error",
     "traceback": [
      "\u001b[0;31m---------------------------------------------------------------------------\u001b[0m",
      "\u001b[0;31mIndexError\u001b[0m                                Traceback (most recent call last)",
      "Input \u001b[0;32mIn [3]\u001b[0m, in \u001b[0;36m<cell line: 1>\u001b[0;34m()\u001b[0m\n\u001b[0;32m----> 1\u001b[0m \u001b[43mw\u001b[49m\u001b[38;5;241;43m.\u001b[39;49m\u001b[43mcontext\u001b[49m\u001b[38;5;241;43m.\u001b[39;49m\u001b[43mcurrent_cfg\u001b[49m\u001b[38;5;241;43m.\u001b[39;49m\u001b[43mdeals\u001b[49m\u001b[43m[\u001b[49m\u001b[38;5;124;43m'\u001b[39;49m\u001b[38;5;124;43mDeals\u001b[39;49m\u001b[38;5;124;43m'\u001b[39;49m\u001b[43m]\u001b[49m\u001b[43m[\u001b[49m\u001b[38;5;124;43m'\u001b[39;49m\u001b[38;5;124;43mChildren\u001b[39;49m\u001b[38;5;124;43m'\u001b[39;49m\u001b[43m]\u001b[49m\u001b[43m[\u001b[49m\u001b[38;5;241;43m0\u001b[39;49m\u001b[43m]\u001b[49m[\u001b[38;5;124m'\u001b[39m\u001b[38;5;124mChildren\u001b[39m\u001b[38;5;124m'\u001b[39m][\u001b[38;5;241m0\u001b[39m][\u001b[38;5;124m'\u001b[39m\u001b[38;5;124mInstrument\u001b[39m\u001b[38;5;124m'\u001b[39m]\u001b[38;5;241m.\u001b[39mfield\n",
      "\u001b[0;31mIndexError\u001b[0m: list index out of range"
     ]
    }
   ],
   "source": [
    "w.context.current_cfg.deals['Deals']['Children'][0]['Children'][0]['Instrument'].field"
   ]
  },
  {
   "cell_type": "code",
   "execution_count": null,
   "id": "77fe0362",
   "metadata": {},
   "outputs": [],
   "source": [
    "rundate = '2022-07-07'\n",
    "if os.name=='nt':\n",
    "    path = os.path.join('U:\\\\CVA_JSON', rundate)\n",
    "    path_transform={\n",
    "        '\\\\\\\\ICMJHBMVDROPPRD\\\\AdaptiveAnalytics\\\\Inbound\\\\MarketData':\n",
    "        '\\\\\\\\ICMJHBMVDROPUAT\\\\AdaptiveAnalytics\\\\Inbound\\\\MarketData'}\n",
    "else:\n",
    "    path = os.path.join('/media/vretiel/3EFA4BCDFA4B7FDF/Media/Data/crstal/CVA_JSON', rundate)\n",
    "    path_transform={\n",
    "            '//ICMJHBMVDROPPRD/AdaptiveAnalytics/Inbound/MarketData': \n",
    "            '/media/vretiel/3EFA4BCDFA4B7FDF/Media/Data/crstal/CVA_JSON'}\n",
    "    \n",
    "cx = riskflow_jupyter.rf.Context(\n",
    "    path_transform=path_transform,\n",
    "    file_transform={\n",
    "        'CVAMarketData_Calibrated.dat': 'CVAMarketData_Calibrated_New.json',\n",
    "        'MarketData.dat': 'MarketData.json'\n",
    "    })"
   ]
  },
  {
   "cell_type": "code",
   "execution_count": null,
   "id": "cef0f5f0",
   "metadata": {},
   "outputs": [],
   "source": [
    "# cx.load_json(os.path.join(path, 'InputAAJ_CrB_Russellstone_Treasury_ISDA.json'))\n",
    "# cx.load_json(os.path.join(path, 'InputAAJ_CrB_BNP_Paribas__Paris__ISDA.json'))\n",
    "cx.load_json(os.path.join(path, 'InputAAJ_CrB_Citibank_NA_NY_ISDA.json'))\n",
    "# cx.load_json(os.path.join(path, 'InputAAJ_CrB_Natixis_ISDA.json'))\n",
    "\n"
   ]
  },
  {
   "cell_type": "code",
   "execution_count": null,
   "id": "e8cb1d8d",
   "metadata": {},
   "outputs": [],
   "source": [
    "calc, output = cx.run_job()"
   ]
  }
 ],
 "metadata": {
  "kernelspec": {
   "display_name": "Python 3 (ipykernel)",
   "language": "python",
   "name": "python3"
  },
  "language_info": {
   "codemirror_mode": {
    "name": "ipython",
    "version": 3
   },
   "file_extension": ".py",
   "mimetype": "text/x-python",
   "name": "python",
   "nbconvert_exporter": "python",
   "pygments_lexer": "ipython3",
   "version": "3.8.13"
  }
 },
 "nbformat": 4,
 "nbformat_minor": 5
}
