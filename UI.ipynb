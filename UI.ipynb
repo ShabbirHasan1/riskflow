{
 "cells": [
  {
   "cell_type": "code",
   "execution_count": null,
   "id": "d40fd302",
   "metadata": {},
   "outputs": [],
   "source": [
    "import os\n",
    "import numpy as np\n",
    "import pandas as pd\n",
    "\n",
    "import riskflow_jupyter"
   ]
  },
  {
   "cell_type": "code",
   "execution_count": null,
   "id": "051b8fd5",
   "metadata": {},
   "outputs": [],
   "source": [
    "rundate = '2022-07-07'\n",
    "if os.name=='nt':\n",
    "    path = os.path.join('U:\\\\CVA_JSON', rundate)\n",
    "    path_transform={\n",
    "        '\\\\\\\\ICMJHBMVDROPPRD\\\\AdaptiveAnalytics\\\\Inbound\\\\MarketData':\n",
    "        '\\\\\\\\ICMJHBMVDROPUAT\\\\AdaptiveAnalytics\\\\Inbound\\\\MarketData'}\n",
    "else:\n",
    "    path = os.path.join('/media/vretiel/3EFA4BCDFA4B7FDF/Media/Data/crstal/CVA_JSON', rundate)\n",
    "    path_transform={\n",
    "            '//ICMJHBMVDROPPRD/AdaptiveAnalytics/Inbound/MarketData': \n",
    "            '/media/vretiel/3EFA4BCDFA4B7FDF/Media/Data/crstal/CVA_JSON'}\n",
    "    \n",
    "cx = riskflow_jupyter.rf.Context(\n",
    "    path_transform=path_transform,\n",
    "    file_transform={\n",
    "        'CVAMarketData_Calibrated.dat': 'CVAMarketData_Calibrated_New.json',\n",
    "        'MarketData.dat': 'MarketData.json'\n",
    "    })"
   ]
  },
  {
   "cell_type": "code",
   "execution_count": null,
   "id": "eb5d49eb",
   "metadata": {},
   "outputs": [],
   "source": [
    "from riskflow_widgets import Table"
   ]
  },
  {
   "cell_type": "code",
   "execution_count": null,
   "id": "3a4dc93f",
   "metadata": {},
   "outputs": [],
   "source": [
    "d=Table(description='', settings=to_json({\n",
    "    'width':600, 'height':300, 'contextMenu':True, 'startRows':3, 'startCols':3, 'minSpareRows':1, 'minSpareCols':1}\n",
    "))\n",
    "d"
   ]
  },
  {
   "cell_type": "code",
   "execution_count": null,
   "id": "1fdb5f89",
   "metadata": {},
   "outputs": [],
   "source": [
    "d.value"
   ]
  },
  {
   "cell_type": "code",
   "execution_count": null,
   "id": "214f7cc6",
   "metadata": {},
   "outputs": [],
   "source": [
    "# cx.load_json(os.path.join(path, 'InputAAJ_CrB_Russellstone_Treasury_ISDA.json'))\n",
    "cx.load_json(os.path.join(path, 'InputAAJ_CrB_BNP_Paribas__Paris__ISDA.json'))\n"
   ]
  },
  {
   "cell_type": "code",
   "execution_count": null,
   "id": "f2b8772f",
   "metadata": {},
   "outputs": [],
   "source": [
    "import ipywidgets as widgets\n"
   ]
  },
  {
   "cell_type": "code",
   "execution_count": null,
   "id": "922da6a3",
   "metadata": {},
   "outputs": [],
   "source": [
    "# factor = riskflow_jupyter.rf.utils.Factor('FXVol',('GBP','ZAR'))\n",
    "factor = riskflow_jupyter.rf.utils.Factor('InterestYieldVol',('CAD_SMILE_ICE',))\n",
    "\n",
    "vol = riskflow_jupyter.rf.riskfactors.construct_factor( factor,\n",
    "    cx.current_cfg.params['Price Factors'],\n",
    "    cx.current_cfg.params['Price Factor Interpolation']\n",
    ")"
   ]
  },
  {
   "cell_type": "code",
   "execution_count": null,
   "id": "ccb343a2",
   "metadata": {},
   "outputs": [],
   "source": [
    "import k3d\n",
    "import json\n",
    "\n",
    "\n",
    "def to_json(string):\n",
    "    \"\"\"converts a string to json - skips the whitespace for a smaller output\"\"\"\n",
    "    return json.dumps(string, separators=(',', ':'))\n",
    "\n",
    "\n",
    "def load_table_from_vol(vol):\n",
    "    '''\n",
    "    :param vol: a riskfactor representing an array of 2d or 3d surfaces in the\n",
    "                'param' dict (usually stored as the 'Surface' key)\n",
    "    :return: a list of lists representing the columns and rows (expiry and moneyness) where\n",
    "            the vols are in the right cell.\n",
    "    '''\n",
    "\n",
    "    def make_table(array, index1=0, index2=1, index3=2):\n",
    "        sparse_matrix = {}\n",
    "        for k in array:\n",
    "            sparse_matrix.setdefault(k[index1], {}).setdefault(k[index2], k[index3])\n",
    "\n",
    "        df = pd.DataFrame(sparse_matrix).sort_index(level=[0, 1])\n",
    "\n",
    "        return np.vstack([\n",
    "            [0.0] + df.columns.values.round(5).tolist(),\n",
    "            np.hstack(\n",
    "                [df.index.values.round(5).reshape(-1, 1).tolist(),\n",
    "                 df.round(5).replace({np.nan: None})]\n",
    "            )]\n",
    "        ).tolist()\n",
    "\n",
    "    if vol.__class__.__name__ in riskflow_jupyter.rf.utils.TwoDimensionalFactors:\n",
    "        return make_table(vol.param['Surface'].array)\n",
    "    elif vol.__class__.__name__ in riskflow_jupyter.rf.utils.ThreeDimensionalFactors:\n",
    "        vol_space = {}\n",
    "        for t in vol.get_tenor():\n",
    "            surface = vol.param['Surface'].array\n",
    "            vol_space.setdefault(\n",
    "                t, make_table(\n",
    "                    surface[surface[:, vol.TENOR_INDEX] == t],\n",
    "                    index1=vol.MONEYNESS_INDEX, index2=vol.EXPIRY_INDEX, index3=3)\n",
    "            )\n",
    "        return vol_space\n",
    "\n",
    "\n",
    "class Three(widgets.HBox):\n",
    "    def __init__(self, description):\n",
    "        self.description = widgets.Label(value=description)        \n",
    "        self.plot = k3d.plot(\n",
    "            axes=['log(moneyness)', 'expiry','vol(\\%)'],\n",
    "            #menu_visibility=False,\n",
    "            camera_rotate_speed=3.0\n",
    "            )\n",
    "\n",
    "        self.mesh = None\n",
    "        self.plot_label = None\n",
    "        self.data = Table(description='', settings=to_json({\n",
    "            'width':600, 'height':300, 'contextMenu':True, 'minSpareRows':1, 'minSpareCols':1\n",
    "        }))\n",
    "        \n",
    "        self.add_button = widgets.Button(\n",
    "            description='Add Tenor', tooltip='Add a new vol surface for a new tenor')\n",
    "        self.del_button = widgets.Button(\n",
    "            description='Remove Tenor', tooltip='Delete vol surface for this tenor')\n",
    "        self.dropdown = widgets.Combobox(\n",
    "            description='Tenor:', placeholder='Choose Tenor', options=[], \n",
    "            ensure_option=False)\n",
    "        # self.dropdown.layout.min_width='auto'\n",
    "        self.tenor = None\n",
    "\n",
    "        self.selector = widgets.HBox(children=[self.add_button, self.del_button, self.dropdown])\n",
    "        self.selector.layout.visibility='hidden'\n",
    "        \n",
    "        self.add_button.on_click(self.add_button_clicked)\n",
    "        self.del_button.on_click(self.del_button_clicked)\n",
    "        self.dropdown.observe(self.change_selection, 'value')\n",
    "        self.obj = None\n",
    "        \n",
    "        super().__init__(\n",
    "            children=[\n",
    "                self.description,\n",
    "                widgets.VBox(children=[self.selector, self.plot, self.data])\n",
    "            ]\n",
    "        )\n",
    "\n",
    "    def change_selection(self, change):\n",
    "        if change.new in self.obj:\n",
    "            matrix = self.obj[change.new]\n",
    "            self.data.value = to_json(matrix)\n",
    "            self.update_plot(matrix)\n",
    "            self.tenor = self.dropdown.value\n",
    "            self.plot_label.text = 'Tenor: {}'.format(self.tenor)\n",
    "            self.dropdown.unobserve(self.change_selection, 'value')\n",
    "            self.dropdown.value=''\n",
    "            self.dropdown.observe(self.change_selection, 'value')\n",
    "    \n",
    "    def add_button_clicked(self, b):\n",
    "        val = self.dropdown.value\n",
    "        if val:\n",
    "            try:\n",
    "                val = self.dropdown.value\n",
    "                self.dropdown.options = tuple([str(x) for x in sorted(\n",
    "                    [float(x) for x in (self.dropdown.options + (val,))])])\n",
    "                self.tenor = val\n",
    "                self.plot_label.text = 'Tenor: {}'.format(self.tenor)\n",
    "                self.obj[val] = json.loads(riskflow_jupyter.rf.fields.default['Surface'])\n",
    "                matrix = self.obj[val]\n",
    "                self.data.value = to_json(matrix)\n",
    "                self.update_plot(matrix)\n",
    "            except:\n",
    "                print('could not cast value to float')\n",
    "            \n",
    "        \n",
    "    def del_button_clicked(self, b):\n",
    "        val = self.dropdown.value if self.dropdown.value else self.tenor\n",
    "        if val in self.dropdown.options:\n",
    "            self.dropdown.options = tuple([x for x in self.dropdown.options if x!=val])\n",
    "            print('inside - about to del', self.obj.keys())\n",
    "            del self.obj[val]\n",
    "            print('inside - about to del', self.obj.keys())\n",
    "            if self.dropdown.options:\n",
    "                self.tenor = self.dropdown.options[0]\n",
    "                matrix = self.obj[self.tenor]\n",
    "            else:\n",
    "                self.tenor = ''\n",
    "                matrix = [[]]\n",
    "                \n",
    "            self.dropdown.value = self.tenor\n",
    "            print('inside - after del', self.obj.keys())\n",
    "            self.data.value = to_json(matrix)\n",
    "            self.update_plot(matrix)\n",
    "        print(\"del Button clicked.\", val)\n",
    "\n",
    "    def observe(self, handler, prop, type='change'):\n",
    "\n",
    "        def make_plot_fn():\n",
    "            def update_plot(change):\n",
    "                # call the original handler first\n",
    "                handler(change)\n",
    "                # now update the plot with the new data\n",
    "                table_obj = json.loads(change.new)\n",
    "                # store the result if this is a 3d obj\n",
    "                if self.tenor is not None:\n",
    "                    self.obj[self.tenor]=table_obj    \n",
    "                # check if we have a valid table obj\n",
    "                if np.all([len(x)>1 for x in table_obj[1:]]):\n",
    "                    self.update_plot(table_obj)\n",
    "\n",
    "            return update_plot\n",
    "\n",
    "        if self.children:\n",
    "            # link the observable function to the table widget (self.data)\n",
    "            self.data.observe(make_plot_fn(), prop, type)\n",
    "        else:\n",
    "            super().observe(handler, prop, type)\n",
    "\n",
    "    @staticmethod\n",
    "    def make_faces_vectorized1(Nr, Nc):\n",
    "\n",
    "        out = np.empty((Nr - 1, Nc - 1, 2, 3), dtype=int)\n",
    "\n",
    "        r = np.arange(Nr * Nc).reshape(Nr, Nc)\n",
    "\n",
    "        out[:, :, 0, 0] = r[:-1, :-1]\n",
    "        out[:, :, 1, 0] = r[:-1, 1:]\n",
    "        out[:, :, 0, 1] = r[:-1, 1:]\n",
    "\n",
    "        out[:, :, 1, 1] = r[1:, 1:]\n",
    "        out[:, :, :, 2] = r[1:, :-1, None]\n",
    "\n",
    "        out.shape = (-1, 3)\n",
    "        return out\n",
    "\n",
    "    @staticmethod\n",
    "    def interpolate_surface(json_list):\n",
    "        moneyness = json_list[0][1:]\n",
    "        e = []\n",
    "        for p in json_list[1:]:\n",
    "            e.extend([[m, p[0], v] for m, v in zip(moneyness, p[1:]) if v is not None])\n",
    "\n",
    "        surface = np.array(e)\n",
    "        expiry = [p[0] for p in json_list[1:]]\n",
    "        return expiry, moneyness, np.array([np.interp(\n",
    "            moneyness, surface[surface[:, 1] == x][:, 0], surface[surface[:, 1] == x][:, 2]) for x in expiry])\n",
    "\n",
    "    def update_plot(self, json_list):\n",
    "        e, moneyness, vol = Three.interpolate_surface(json_list)\n",
    "        \n",
    "        if min(moneyness)>0:\n",
    "            scale = 2 / np.log(2)\n",
    "            m = scale * np.log(moneyness)            \n",
    "        else:\n",
    "            m = np.array(moneyness)*100.0\n",
    "            self.plot.axes=['moneyness (bps)', 'expiry','vol(\\%)']\n",
    "            \n",
    "        v = vol * 100\n",
    "\n",
    "        U, V = np.meshgrid(m, e)\n",
    "        vertices = np.dstack([U, V, v]).astype(np.float32).reshape(-1, 3)\n",
    "        indices = Three.make_faces_vectorized1(*v.shape).astype(np.uint32)\n",
    "        if self.mesh is None:\n",
    "            self.mesh = k3d.mesh(\n",
    "                vertices, indices, flat_shading=False, attribute=v,\n",
    "                side='double', color_map=k3d.basic_color_maps.Reds, color_range=[v.min(), v.max()]\n",
    "            )\n",
    "            self.plot_label = k3d.text2d('', position=(0, 0))\n",
    "            # add the plots\n",
    "            self.plot += self.mesh\n",
    "            self.plot += self.plot_label\n",
    "        else:\n",
    "            self.mesh.attribute = v\n",
    "            self.mesh.color_range = [v.min(), v.max()]\n",
    "            self.mesh.vertices = vertices\n",
    "            self.mesh.indices = indices\n",
    "\n",
    "    @property\n",
    "    def value(self):\n",
    "        return to_json(self.obj)\n",
    "\n",
    "    @value.setter\n",
    "    def value(self, json_string):\n",
    "        as_python = json.loads(json_string)\n",
    "        self.obj = as_python\n",
    "        if isinstance(as_python, dict):\n",
    "            self.selector.layout.visibility='visible'\n",
    "            self.dropdown.options = tuple(as_python.keys())\n",
    "            selection = self.dropdown.options[0]\n",
    "            self.dropdown.value = selection\n",
    "            matrix = as_python[selection]\n",
    "            data_value  = to_json(matrix)\n",
    "        else:\n",
    "            self.selector.layout.visibility='hidden'\n",
    "            data_value = json_string\n",
    "            matrix     = as_python\n",
    "            \n",
    "        self.data.value = data_value\n",
    "        self.update_plot(matrix)"
   ]
  },
  {
   "cell_type": "code",
   "execution_count": null,
   "id": "e4f20840",
   "metadata": {},
   "outputs": [],
   "source": [
    "riskflow_jupyter.rf.fields.default"
   ]
  },
  {
   "cell_type": "code",
   "execution_count": null,
   "id": "b8903ce1",
   "metadata": {},
   "outputs": [],
   "source": [
    "j=load_table_from_vol(vol)\n",
    "#to_json(j)\n",
    "#np.isnan(None)"
   ]
  },
  {
   "cell_type": "code",
   "execution_count": null,
   "id": "edba764c",
   "metadata": {},
   "outputs": [],
   "source": [
    "# g = np.vstack([x[0], heights]).tolist()\n",
    "t = Three(description='Test')\n",
    "t.observe(lambda x:x['new'], 'value')\n",
    "t.value = to_json(j)"
   ]
  },
  {
   "cell_type": "code",
   "execution_count": null,
   "id": "fec2e591",
   "metadata": {},
   "outputs": [],
   "source": [
    "t"
   ]
  },
  {
   "cell_type": "code",
   "execution_count": null,
   "id": "da6b2a1e",
   "metadata": {},
   "outputs": [],
   "source": [
    "t.data.value\n"
   ]
  },
  {
   "cell_type": "code",
   "execution_count": null,
   "id": "ffd8476d",
   "metadata": {},
   "outputs": [],
   "source": [
    "data"
   ]
  },
  {
   "cell_type": "code",
   "execution_count": null,
   "id": "7aeba82a",
   "metadata": {},
   "outputs": [],
   "source": [
    "data.value"
   ]
  },
  {
   "cell_type": "code",
   "execution_count": null,
   "id": "bd00440a",
   "metadata": {},
   "outputs": [],
   "source": [
    "plt_text1.visible=False"
   ]
  },
  {
   "cell_type": "code",
   "execution_count": null,
   "id": "7eea9b5e",
   "metadata": {},
   "outputs": [],
   "source": [
    "t.dropdown.layout.max_width='250px'"
   ]
  },
  {
   "cell_type": "code",
   "execution_count": null,
   "id": "5f6ed1e8",
   "metadata": {},
   "outputs": [],
   "source": [
    "# t.selector.layout.visibility = 'hidden'\n",
    "t.value"
   ]
  },
  {
   "cell_type": "code",
   "execution_count": null,
   "id": "f612dde5",
   "metadata": {},
   "outputs": [],
   "source": [
    "from ipyfilechooser import FileChooser\n",
    "\n",
    "# Create and display a FileChooser widget\n",
    "fc = FileChooser('/home/vretiel/miniconda3/')\n",
    "display(fc)"
   ]
  },
  {
   "cell_type": "code",
   "execution_count": null,
   "id": "cac429ee",
   "metadata": {},
   "outputs": [],
   "source": [
    "fc.selected_filename"
   ]
  },
  {
   "cell_type": "code",
   "execution_count": null,
   "id": "d9a1a9b5",
   "metadata": {},
   "outputs": [],
   "source": [
    "cx"
   ]
  },
  {
   "cell_type": "code",
   "execution_count": null,
   "id": "fe6d09e7",
   "metadata": {},
   "outputs": [],
   "source": [
    "pp = riskflow_jupyter.PortfolioPage(cx.current_cfg)"
   ]
  },
  {
   "cell_type": "code",
   "execution_count": null,
   "id": "157dbad7",
   "metadata": {},
   "outputs": [],
   "source": [
    "pp.main_container"
   ]
  },
  {
   "cell_type": "code",
   "execution_count": null,
   "id": "f97d59d8",
   "metadata": {},
   "outputs": [],
   "source": [
    "rfp = riskflow_jupyter.RiskFactorsPage(cx.current_cfg)"
   ]
  },
  {
   "cell_type": "code",
   "execution_count": null,
   "id": "c192426c",
   "metadata": {
    "scrolled": false
   },
   "outputs": [],
   "source": [
    "#rfp.main_container\n"
   ]
  },
  {
   "cell_type": "code",
   "execution_count": null,
   "id": "a689ee35",
   "metadata": {},
   "outputs": [],
   "source": [
    "rfp.tree.checked\n"
   ]
  },
  {
   "cell_type": "code",
   "execution_count": null,
   "id": "8917f78e",
   "metadata": {},
   "outputs": [],
   "source": [
    "a='InterestYieldVol.CAD_SMILE_ICE'\n",
    "\n",
    "c= getattr(riskflow_jupyter.rf.riskfactors, riskflow_jupyter.rf.utils.check_rate_name(a)[0])"
   ]
  },
  {
   "cell_type": "code",
   "execution_count": null,
   "id": "d6501c74",
   "metadata": {},
   "outputs": [],
   "source": [
    "c"
   ]
  },
  {
   "cell_type": "code",
   "execution_count": null,
   "id": "94b55af4",
   "metadata": {},
   "outputs": [],
   "source": [
    "riskflow_jupyter.CalculationPage(cx.current_cfg)"
   ]
  },
  {
   "cell_type": "code",
   "execution_count": null,
   "id": "34c86cf1",
   "metadata": {},
   "outputs": [],
   "source": [
    "%debug"
   ]
  },
  {
   "cell_type": "code",
   "execution_count": null,
   "id": "9d4a3949",
   "metadata": {},
   "outputs": [],
   "source": []
  }
 ],
 "metadata": {
  "kernelspec": {
   "display_name": "Python 3 (ipykernel)",
   "language": "python",
   "name": "python3"
  },
  "language_info": {
   "codemirror_mode": {
    "name": "ipython",
    "version": 3
   },
   "file_extension": ".py",
   "mimetype": "text/x-python",
   "name": "python",
   "nbconvert_exporter": "python",
   "pygments_lexer": "ipython3",
   "version": "3.8.13"
  }
 },
 "nbformat": 4,
 "nbformat_minor": 5
}
