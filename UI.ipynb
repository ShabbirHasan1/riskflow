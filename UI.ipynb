{
 "cells": [
  {
   "cell_type": "code",
   "execution_count": null,
   "id": "f4e61a0d",
   "metadata": {},
   "outputs": [],
   "source": [
    "import os\n",
    "import numpy as np\n",
    "import pandas as pd\n",
    "\n",
    "import riskflow_jupyter"
   ]
  },
  {
   "cell_type": "code",
   "execution_count": null,
   "id": "10cfe495",
   "metadata": {},
   "outputs": [],
   "source": [
    "rundate = '2022-07-07'\n",
    "if os.name=='nt':\n",
    "    path = os.path.join('U:\\\\CVA_JSON', rundate)\n",
    "    path_transform={\n",
    "        '\\\\\\\\ICMJHBMVDROPPRD\\\\AdaptiveAnalytics\\\\Inbound\\\\MarketData':\n",
    "        '\\\\\\\\ICMJHBMVDROPUAT\\\\AdaptiveAnalytics\\\\Inbound\\\\MarketData'}\n",
    "else:\n",
    "    path = os.path.join('/media/vretiel/3EFA4BCDFA4B7FDF/Media/Data/crstal/CVA_JSON', rundate)\n",
    "    path_transform={\n",
    "            '//ICMJHBMVDROPPRD/AdaptiveAnalytics/Inbound/MarketData': \n",
    "            '/media/vretiel/3EFA4BCDFA4B7FDF/Media/Data/crstal/CVA_JSON'}\n",
    "    \n",
    "cx = riskflow_jupyter.rf.Context(\n",
    "    path_transform=path_transform,\n",
    "    file_transform={\n",
    "        'CVAMarketData_Calibrated.dat': 'CVAMarketData_Calibrated_New.json',\n",
    "        'MarketData.dat': 'MarketData.json'\n",
    "    })"
   ]
  },
  {
   "cell_type": "code",
   "execution_count": null,
   "id": "30369bc8",
   "metadata": {},
   "outputs": [],
   "source": [
    "from ipywidgets import Label, HBox, VBox\n",
    "from riskflow_widgets import Table"
   ]
  },
  {
   "cell_type": "code",
   "execution_count": null,
   "id": "81401a40",
   "metadata": {},
   "outputs": [],
   "source": [
    "# cx.load_json(os.path.join(path, 'InputAAJ_CrB_Russellstone_Treasury_ISDA.json'))\n",
    "cx.load_json(os.path.join(path, 'InputAAJ_CrB_BNP_Paribas__Paris__ISDA.json'))\n"
   ]
  },
  {
   "cell_type": "code",
   "execution_count": null,
   "id": "21ce114f",
   "metadata": {},
   "outputs": [],
   "source": [
    "import ipywidgets\n",
    "dir(ipywidgets)"
   ]
  },
  {
   "cell_type": "code",
   "execution_count": null,
   "id": "404c41ff",
   "metadata": {},
   "outputs": [],
   "source": [
    "factor = riskflow_jupyter.rf.utils.Factor('FXVol',('GBP','ZAR'))\n",
    "vol = riskflow_jupyter.rf.riskfactors.construct_factor(factor,\n",
    "    cx.current_cfg.params['Price Factors'],\n",
    "    cx.current_cfg.params['Price Factor Interpolation']\n",
    ")"
   ]
  },
  {
   "cell_type": "code",
   "execution_count": null,
   "id": "191e078d",
   "metadata": {},
   "outputs": [],
   "source": [
    "import k3d\n",
    "import json\n",
    "\n",
    "\n",
    "def to_json(string):\n",
    "    \"\"\"converts a string to json - skips the whitespace for a smaller output\"\"\"\n",
    "    return json.dumps(string, separators=(',', ':'))\n",
    "\n",
    "\n",
    "def load_table_from_vol(vol):\n",
    "    sparse_matrix = {}\n",
    "    for k in vol.param['Surface'].array:\n",
    "        sparse_matrix.setdefault(k[0], {}).setdefault(k[1], k[2])\n",
    "\n",
    "    df = pd.DataFrame(sparse_matrix).sort_index(0, 1)\n",
    "\n",
    "    table = np.vstack([[0.0]+df.columns.values.round(5).tolist(), \n",
    "               np.hstack([df.index.values.round(5).reshape(-1,1).tolist(),\n",
    "                          df.round(5).replace({np.nan:None})])]).tolist()\n",
    "    \n",
    "    return table\n",
    "\n",
    "\n",
    "class Three(HBox):\n",
    "    def __init__(self, description):\n",
    "        self.description = Label(value=description)        \n",
    "        self.plot = k3d.plot(\n",
    "            axes=['log(moneyness)', 'expiry','vol(\\%)'],\n",
    "            # menu_visibility=False,\n",
    "            camera_rotate_speed=3.0\n",
    "            )\n",
    "        self.mesh = None                        \n",
    "        self.data = Table(description='', settings=to_json({\n",
    "            'width':500, 'height':300, 'contextMenu':True, 'minSpareRows':1, 'minSpareCols':1\n",
    "        }))\n",
    "        \n",
    "        super().__init__(\n",
    "            children=[\n",
    "                self.description,\n",
    "                VBox(children=[self.plot, self.data])\n",
    "            ]\n",
    "        )\n",
    "\n",
    "    def observe(self, handler, prop, type='change'):\n",
    "        \n",
    "        def make_plot_fn(fn):\n",
    "            def update_plot(change):\n",
    "                fn(change)\n",
    "                self.update_plot(json.loads(change['new']))\n",
    "            return update_plot\n",
    "           \n",
    "        if self.children:\n",
    "            self.data.observe(make_plot_fn(handler), prop, type)\n",
    "        else:\n",
    "            return super().observe(handler, prop, type)\n",
    "        \n",
    "    @staticmethod\n",
    "    def make_faces_vectorized1(Nr,Nc):\n",
    "\n",
    "        out = np.empty((Nr-1,Nc-1,2,3),dtype=int)\n",
    "\n",
    "        r = np.arange(Nr*Nc).reshape(Nr,Nc)\n",
    "\n",
    "        out[:,:, 0,0] = r[:-1,:-1]\n",
    "        out[:,:, 1,0] = r[:-1,1:]\n",
    "        out[:,:, 0,1] = r[:-1,1:]\n",
    "\n",
    "        out[:,:, 1,1] = r[1:,1:]\n",
    "        out[:,:, :,2] = r[1:,:-1,None]\n",
    "\n",
    "        out.shape =(-1,3)\n",
    "        return out\n",
    "    \n",
    "    @staticmethod\n",
    "    def interpolate_surface(json_list):\n",
    "        moneyness = json_list[0][1:]\n",
    "        e = []\n",
    "        for p in json_list[1:]:\n",
    "            e.extend([[m, p[0], v] for m,v in zip(moneyness, p[1:]) if v is not None])\n",
    "\n",
    "        surface = np.array(e)\n",
    "        expiry = [p[0] for p in json_list[1:]]\n",
    "        return expiry, moneyness, np.array([np.interp(\n",
    "            moneyness, surface[surface[:, 1] == x][:, 0], surface[surface[:, 1] == x][:, 2]) for x in expiry])\n",
    "\n",
    "    def update_plot(self, json_list):\n",
    "        e, moneyness, vol = Three.interpolate_surface(json_list)\n",
    "        scale = 2/np.log(2)\n",
    "        m = scale*np.log(moneyness)\n",
    "        v = vol*100\n",
    "        \n",
    "        U, V = np.meshgrid(m, e)\n",
    "        vertices = np.dstack([U, V, v]).reshape(-1,3)\n",
    "        indices = Three.make_faces_vectorized1(*v.shape)\n",
    "        if self.mesh is not None:\n",
    "            self.plot-=self.mesh\n",
    "        self.mesh = k3d.mesh(\n",
    "            vertices.astype(np.float32), indices.astype(np.uint32), flat_shading=False, attribute=v,\n",
    "            side='double', color_map=k3d.basic_color_maps.Reds, color_range=[v.min(), v.max()]\n",
    "        )\n",
    "        self.plot +=self.mesh\n",
    "        \n",
    "    @property\n",
    "    def value(self):        \n",
    "        return self.data.value\n",
    "    \n",
    "    # a setter function\n",
    "    @value.setter\n",
    "    def value(self, json_list):\n",
    "        self.data.value = to_json(json_list)\n",
    "        self.update_plot(json_list)\n"
   ]
  },
  {
   "cell_type": "code",
   "execution_count": null,
   "id": "89fe7b0c",
   "metadata": {
    "scrolled": true
   },
   "outputs": [],
   "source": [
    "j = load_table_from_vol(vol)\n",
    "#np.isnan(None)"
   ]
  },
  {
   "cell_type": "code",
   "execution_count": null,
   "id": "52441170",
   "metadata": {},
   "outputs": [],
   "source": [
    "# g = np.vstack([x[0], heights]).tolist()\n",
    "t = Three(description='Test' )\n",
    "\n"
   ]
  },
  {
   "cell_type": "code",
   "execution_count": null,
   "id": "28bb0b42",
   "metadata": {},
   "outputs": [],
   "source": [
    "def handle(change):\n",
    "    print(change['new'])\n",
    "    \n",
    "    \n",
    "t.observe(handle, 'value')\n"
   ]
  },
  {
   "cell_type": "code",
   "execution_count": null,
   "id": "bc0c0094",
   "metadata": {},
   "outputs": [],
   "source": [
    "#pd.DataFrame(json.loads(t.data.value))\n",
    "t.value = j"
   ]
  },
  {
   "cell_type": "code",
   "execution_count": null,
   "id": "eacc64f8",
   "metadata": {},
   "outputs": [],
   "source": [
    "t.data.value"
   ]
  },
  {
   "cell_type": "code",
   "execution_count": null,
   "id": "7ca792c6",
   "metadata": {},
   "outputs": [],
   "source": [
    "from ipyfilechooser import FileChooser\n",
    "\n",
    "# Create and display a FileChooser widget\n",
    "fc = FileChooser('/home/vretiel/miniconda3/')\n",
    "display(fc)"
   ]
  },
  {
   "cell_type": "code",
   "execution_count": null,
   "id": "6d0cbaf3",
   "metadata": {},
   "outputs": [],
   "source": [
    "fc.selected_filename"
   ]
  },
  {
   "cell_type": "code",
   "execution_count": null,
   "id": "65beace7",
   "metadata": {},
   "outputs": [],
   "source": [
    "cx"
   ]
  },
  {
   "cell_type": "code",
   "execution_count": null,
   "id": "93ae9543",
   "metadata": {},
   "outputs": [],
   "source": [
    "pp = riskflow_jupyter.PortfolioPage(cx.current_cfg)"
   ]
  },
  {
   "cell_type": "code",
   "execution_count": null,
   "id": "38c45db9",
   "metadata": {},
   "outputs": [],
   "source": [
    "pp.main_container"
   ]
  },
  {
   "cell_type": "code",
   "execution_count": null,
   "id": "64835d73",
   "metadata": {},
   "outputs": [],
   "source": [
    "rfp = riskflow_jupyter.RiskFactorsPage(cx.current_cfg)"
   ]
  },
  {
   "cell_type": "code",
   "execution_count": null,
   "id": "fdf499de",
   "metadata": {
    "scrolled": false
   },
   "outputs": [],
   "source": [
    "rfp.main_container\n"
   ]
  },
  {
   "cell_type": "code",
   "execution_count": null,
   "id": "a491771f",
   "metadata": {},
   "outputs": [],
   "source": [
    "rfp.tree.observeserve??\n"
   ]
  },
  {
   "cell_type": "code",
   "execution_count": null,
   "id": "91b1c915",
   "metadata": {},
   "outputs": [],
   "source": [
    "%debug"
   ]
  },
  {
   "cell_type": "code",
   "execution_count": null,
   "id": "856bbc66",
   "metadata": {},
   "outputs": [],
   "source": [
    "t=rfp.data['FXVol.EUR.ZAR']['Factor']['Surface']['value']\n",
    "#rfp.data['FXVol.EUR.ZAR']['Factor']['Surface']\n",
    "#rfp.right_container.children[0].children[4].value=t\n",
    "rfp.right_container.children[0].children[4].data.observe(lambda x:print(x['new']), 'value')"
   ]
  },
  {
   "cell_type": "code",
   "execution_count": null,
   "id": "e5d109c2",
   "metadata": {},
   "outputs": [],
   "source": [
    "rfp.right_container.children[0].children[4].data"
   ]
  }
 ],
 "metadata": {
  "kernelspec": {
   "display_name": "Python 3",
   "language": "python",
   "name": "python3"
  },
  "language_info": {
   "codemirror_mode": {
    "name": "ipython",
    "version": 3
   },
   "file_extension": ".py",
   "mimetype": "text/x-python",
   "name": "python",
   "nbconvert_exporter": "python",
   "pygments_lexer": "ipython3",
   "version": "3.8.5"
  }
 },
 "nbformat": 4,
 "nbformat_minor": 5
}
