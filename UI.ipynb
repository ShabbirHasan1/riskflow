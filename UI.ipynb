{
 "cells": [
  {
   "cell_type": "code",
   "execution_count": 1,
   "id": "983b7b0c",
   "metadata": {},
   "outputs": [],
   "source": [
    "import os\n",
    "import riskflow_jupyter"
   ]
  },
  {
   "cell_type": "code",
   "execution_count": 2,
   "id": "9e6fd4b3",
   "metadata": {},
   "outputs": [],
   "source": [
    "rundate = '2022-07-07'\n",
    "if os.name=='nt':\n",
    "    path = os.path.join('U:\\\\CVA_JSON', rundate)\n",
    "    path_transform={\n",
    "        '\\\\\\\\ICMJHBMVDROPPRD\\\\AdaptiveAnalytics\\\\Inbound\\\\MarketData':\n",
    "        '\\\\\\\\ICMJHBMVDROPUAT\\\\AdaptiveAnalytics\\\\Inbound\\\\MarketData'}\n",
    "else:\n",
    "    path = os.path.join('/media/vretiel/3EFA4BCDFA4B7FDF/Media/Data/crstal/CVA_JSON', rundate)\n",
    "    path_transform={\n",
    "            '//ICMJHBMVDROPPRD/AdaptiveAnalytics/Inbound/MarketData': \n",
    "            '/media/vretiel/3EFA4BCDFA4B7FDF/Media/Data/crstal/CVA_JSON'}\n",
    "    \n",
    "cx = riskflow_jupyter.rf.Context(\n",
    "    path_transform=path_transform,\n",
    "    file_transform={\n",
    "        'CVAMarketData_Calibrated.dat': 'CVAMarketData_Calibrated_New.json',\n",
    "        'MarketData.dat': 'MarketData.json'\n",
    "    })"
   ]
  },
  {
   "cell_type": "code",
   "execution_count": 3,
   "id": "5f230f3d",
   "metadata": {},
   "outputs": [],
   "source": [
    "from ipywidgets import Label, HBox, VBox, ValueWidget\n",
    "from riskflow_widgets import Table"
   ]
  },
  {
   "cell_type": "code",
   "execution_count": 4,
   "id": "381b5a85",
   "metadata": {},
   "outputs": [
    {
     "data": {
      "text/plain": [
       "['Accordion',\n",
       " 'AppLayout',\n",
       " 'Audio',\n",
       " 'BoundedFloatText',\n",
       " 'BoundedIntText',\n",
       " 'Box',\n",
       " 'Button',\n",
       " 'ButtonStyle',\n",
       " 'CallbackDispatcher',\n",
       " 'Checkbox',\n",
       " 'Color',\n",
       " 'ColorPicker',\n",
       " 'Combobox',\n",
       " 'Controller',\n",
       " 'CoreWidget',\n",
       " 'DOMWidget',\n",
       " 'DatePicker',\n",
       " 'Datetime',\n",
       " 'Dropdown',\n",
       " 'FileUpload',\n",
       " 'FloatLogSlider',\n",
       " 'FloatProgress',\n",
       " 'FloatRangeSlider',\n",
       " 'FloatSlider',\n",
       " 'FloatText',\n",
       " 'GridBox',\n",
       " 'GridspecLayout',\n",
       " 'HBox',\n",
       " 'HTML',\n",
       " 'HTMLMath',\n",
       " 'Image',\n",
       " 'IntProgress',\n",
       " 'IntRangeSlider',\n",
       " 'IntSlider',\n",
       " 'IntText',\n",
       " 'Label',\n",
       " 'Layout',\n",
       " 'NumberFormat',\n",
       " 'Output',\n",
       " 'Password',\n",
       " 'Play',\n",
       " 'RadioButtons',\n",
       " 'Select',\n",
       " 'SelectMultiple',\n",
       " 'SelectionRangeSlider',\n",
       " 'SelectionSlider',\n",
       " 'SliderStyle',\n",
       " 'Style',\n",
       " 'Tab',\n",
       " 'Text',\n",
       " 'Textarea',\n",
       " 'ToggleButton',\n",
       " 'ToggleButtons',\n",
       " 'ToggleButtonsStyle',\n",
       " 'TwoByTwoLayout',\n",
       " 'VBox',\n",
       " 'Valid',\n",
       " 'ValueWidget',\n",
       " 'Video',\n",
       " 'Widget',\n",
       " '__builtins__',\n",
       " '__cached__',\n",
       " '__doc__',\n",
       " '__file__',\n",
       " '__jupyter_widgets_base_version__',\n",
       " '__jupyter_widgets_controls_version__',\n",
       " '__loader__',\n",
       " '__name__',\n",
       " '__package__',\n",
       " '__path__',\n",
       " '__protocol_version__',\n",
       " '__spec__',\n",
       " '__version__',\n",
       " '_handle_ipython',\n",
       " '_version',\n",
       " 'dlink',\n",
       " 'docutils',\n",
       " 'domwidget',\n",
       " 'fixed',\n",
       " 'get_ipython',\n",
       " 'handle_kernel',\n",
       " 'interact',\n",
       " 'interact_manual',\n",
       " 'interaction',\n",
       " 'interactive',\n",
       " 'interactive_output',\n",
       " 'jsdlink',\n",
       " 'jslink',\n",
       " 'link',\n",
       " 'load_ipython_extension',\n",
       " 'os',\n",
       " 'register',\n",
       " 'register_comm_target',\n",
       " 'trait_types',\n",
       " 'util',\n",
       " 'valuewidget',\n",
       " 'version_info',\n",
       " 'widget',\n",
       " 'widget_bool',\n",
       " 'widget_box',\n",
       " 'widget_button',\n",
       " 'widget_color',\n",
       " 'widget_controller',\n",
       " 'widget_core',\n",
       " 'widget_date',\n",
       " 'widget_description',\n",
       " 'widget_float',\n",
       " 'widget_int',\n",
       " 'widget_layout',\n",
       " 'widget_link',\n",
       " 'widget_media',\n",
       " 'widget_output',\n",
       " 'widget_selection',\n",
       " 'widget_selectioncontainer',\n",
       " 'widget_serialization',\n",
       " 'widget_string',\n",
       " 'widget_style',\n",
       " 'widget_templates',\n",
       " 'widget_upload',\n",
       " 'widgets']"
      ]
     },
     "execution_count": 4,
     "metadata": {},
     "output_type": "execute_result"
    }
   ],
   "source": [
    "import ipywidgets\n",
    "dir(ipywidgets)"
   ]
  },
  {
   "cell_type": "code",
   "execution_count": 6,
   "id": "83f71c93",
   "metadata": {},
   "outputs": [],
   "source": [
    "s = 1/2**0.5\n",
    "# 4 vertices for the tetrahedron\n",
    "x = np.array([1.,  -1, 0,  0])\n",
    "y = np.array([0,   0, 1., -1])\n",
    "z = np.array([-s, -s, s,  s])\n",
    "# and 4 surfaces (triangles), where the number refer to the vertex index\n",
    "triangles = [(0, 1, 2), (0, 1, 3), (0, 2, 3), (1,3,2)]"
   ]
  },
  {
   "cell_type": "code",
   "execution_count": 7,
   "id": "2dc0b41d",
   "metadata": {},
   "outputs": [
    {
     "ename": "NameError",
     "evalue": "name 'Z' is not defined",
     "output_type": "error",
     "traceback": [
      "\u001b[0;31m---------------------------------------------------------------------------\u001b[0m",
      "\u001b[0;31mNameError\u001b[0m                                 Traceback (most recent call last)",
      "Input \u001b[0;32mIn [7]\u001b[0m, in \u001b[0;36m<cell line: 1>\u001b[0;34m()\u001b[0m\n\u001b[0;32m----> 1\u001b[0m \u001b[43mZ\u001b[49m\n",
      "\u001b[0;31mNameError\u001b[0m: name 'Z' is not defined"
     ]
    }
   ],
   "source": [
    "Z"
   ]
  },
  {
   "cell_type": "code",
   "execution_count": null,
   "id": "cfc35cc1",
   "metadata": {},
   "outputs": [],
   "source": [
    "a = np.arange(-5, 5)\n",
    "U, V = np.meshgrid(a, a)\n",
    "X = U\n",
    "Y = V\n",
    "Z = X*Y**2\n",
    "\n",
    "ipv.figure()\n",
    "ipv.plot_surface(X, Z, Y, color=\"orange\")\n",
    "ipv.plot_wireframe(X, Z, Y, color=\"red\")\n",
    "ipv.show()"
   ]
  },
  {
   "cell_type": "code",
   "execution_count": null,
   "id": "4ad779c9",
   "metadata": {},
   "outputs": [],
   "source": [
    "factor = riskflow_jupyter.rf.utils.Factor('FXVol',('GBP','ZAR'))\n",
    "vol = riskflow_jupyter.rf.riskfactors.construct_factor( factor,\n",
    "    cx.current_cfg.params['Price Factors'],\n",
    "    cx.current_cfg.params['Price Factor Interpolation']\n",
    ")"
   ]
  },
  {
   "cell_type": "code",
   "execution_count": null,
   "id": "c517797b",
   "metadata": {},
   "outputs": [],
   "source": [
    "scale = 2/np.log(2)\n",
    "e=vol.get_expiry()\n",
    "m=scale*np.log(vol.get_moneyness())\n",
    "v=vol.get_vols()*100\n",
    "U, V = np.meshgrid(m, e)"
   ]
  },
  {
   "cell_type": "code",
   "execution_count": null,
   "id": "7b9236ff",
   "metadata": {},
   "outputs": [],
   "source": [
    "vertices = np.dstack([U, V, v]).reshape(-1,3)"
   ]
  },
  {
   "cell_type": "code",
   "execution_count": null,
   "id": "575e0732",
   "metadata": {},
   "outputs": [],
   "source": [
    "def MakeFacesVectorized1(Nr,Nc):\n",
    "\n",
    "    out = np.empty((Nr-1,Nc-1,2,3),dtype=int)\n",
    "\n",
    "    r = np.arange(Nr*Nc).reshape(Nr,Nc)\n",
    "\n",
    "    out[:,:, 0,0] = r[:-1,:-1]\n",
    "    out[:,:, 1,0] = r[:-1,1:]\n",
    "    out[:,:, 0,1] = r[:-1,1:]\n",
    "\n",
    "    out[:,:, 1,1] = r[1:,1:]\n",
    "    out[:,:, :,2] = r[1:,:-1,None]\n",
    "\n",
    "    out.shape =(-1,3)\n",
    "    return out\n",
    "\n",
    "indices = MakeFacesVectorized1(*v.shape)\n",
    "# plot += k3d.mesh(vertices, indices, attribute=[0, 1, 1, 0], color_map=k3d.basic_color_maps.Reds, color_range=[0.0, 1.0])"
   ]
  },
  {
   "cell_type": "code",
   "execution_count": null,
   "id": "8c9914b5",
   "metadata": {},
   "outputs": [],
   "source": [
    "plot = k3d.plot(\n",
    "    axes=['log(moneyness)', 'expiry','vol(\\%)']\n",
    "#     , grid=(-3, 0, 10, 3, 8, 30)\n",
    "    , grid=(-3, 0, 10, 3, 7, 16)\n",
    "    , translation = [0,-3,-13]\n",
    ")\n",
    "plot.display()"
   ]
  },
  {
   "cell_type": "code",
   "execution_count": null,
   "id": "14d4e18a",
   "metadata": {},
   "outputs": [],
   "source": [
    "plot += k3d.mesh([0,0,0],[])"
   ]
  },
  {
   "cell_type": "code",
   "execution_count": null,
   "id": "29b6f9a9",
   "metadata": {},
   "outputs": [],
   "source": [
    "plot = k3d.plot(\n",
    "    axes=['log(moneyness)', 'expiry','vol(\\%)'], \n",
    "    # grid=[-3, 0, 15, 3, 7, 30],\n",
    "    menu_visibility=False,\n",
    "    camera_rotate_speed=3.0\n",
    ")\n",
    "\n",
    "#plot += k3d.mesh(vertices, indices, attribute=[0, 1, 1, 0], color_map=k3d.basic_color_maps.Reds, color_range=[0.0, 1.0])\n",
    "#plot += k3d.mesh(vertices, indices)\n",
    "# plot += k3d.mesh(vertices, indices, xmin=m.min(), xmax=m.max(), ymin=e.min(), ymax=e.max())\n",
    "#s=[ 1/(m.max()-m.min()), 1/(e.max()-e.min()), 1/(v.max()-v.min())]\n",
    "\n",
    "plot += k3d.mesh(\n",
    "    vertices, indices, flat_shading=False, attribute=v,\n",
    "    side='double', color_map=k3d.basic_color_maps.Reds, color_range=[v.min(), v.max()]\n",
    "#    ,translation = [0,-3,-13]\n",
    ")\n",
    "\n",
    "plot.display()"
   ]
  },
  {
   "cell_type": "code",
   "execution_count": null,
   "id": "b91a5c0b",
   "metadata": {
    "scrolled": false
   },
   "outputs": [],
   "source": [
    "plot.objects"
   ]
  },
  {
   "cell_type": "code",
   "execution_count": null,
   "id": "c30353f8",
   "metadata": {},
   "outputs": [],
   "source": [
    "\n",
    "plot = k3d.plot(axes=['expiry','moneyness','vol'])\n",
    "obj = k3d.surface(v.T, xmin=e.min(), xmax=e.max(), ymin=m.min(), ymax=m.max(), zmin=0, zmax=1)\n",
    "plot += obj\n",
    "plot.display()"
   ]
  },
  {
   "cell_type": "code",
   "execution_count": null,
   "id": "ab02f871",
   "metadata": {},
   "outputs": [],
   "source": [
    "k3d.surface?"
   ]
  },
  {
   "cell_type": "code",
   "execution_count": null,
   "id": "e3ed5175",
   "metadata": {},
   "outputs": [],
   "source": [
    "import k3d\n",
    "import json\n",
    "import numpy as np\n",
    "\n",
    "def to_json(string):\n",
    "    \"\"\"converts a string to json - skips the whitespace for a smaller output\"\"\"\n",
    "    return json.dumps(string, separators=(',', ':'))\n",
    "\n",
    "Nx = 240\n",
    "Ny = 480\n",
    "xmin, xmax = -3, 3\n",
    "ymin, ymax = -0, 3\n",
    "\n",
    "x = np.linspace(xmin, xmax, Nx)\n",
    "y = np.linspace(ymin, ymax, Ny)\n",
    "x, y = np.meshgrid(x, y)\n",
    "\n",
    "heights = np.sin(x**2 + y**2).astype(np.float32)\n",
    "\n",
    "#plot = k3d.plot()\n",
    "#obj = k3d.surface(heights, xmin=xmin, xmax=xmax, ymin=ymin, ymax=ymax)\n",
    "#plot += obj\n",
    "#plot.display()"
   ]
  },
  {
   "cell_type": "code",
   "execution_count": null,
   "id": "8fe9ebed",
   "metadata": {},
   "outputs": [],
   "source": [
    "import k3d\n",
    "import json\n",
    "import numpy as np\n",
    "\n",
    "def to_json(string):\n",
    "    \"\"\"converts a string to json - skips the whitespace for a smaller output\"\"\"\n",
    "    return json.dumps(string, separators=(',', ':'))\n",
    "\n",
    "Nx = 240\n",
    "Ny = 480\n",
    "xmin, xmax = -3, 3\n",
    "ymin, ymax = -0, 3\n",
    "\n",
    "x = np.linspace(xmin, xmax, Nx)\n",
    "y = np.linspace(ymin, ymax, Ny)\n",
    "x, y = np.meshgrid(x, y)\n",
    "\n",
    "heights = np.sin(x**2 + y**2).astype(np.float32)\n",
    "\n",
    "#plot = k3d.plot()\n",
    "#obj = k3d.surface(heights, xmin=xmin, xmax=xmax, ymin=ymin, ymax=ymax)\n",
    "#plot += obj\n",
    "#plot.display()\n",
    "\n",
    "class Three(HBox):\n",
    "    def __init__(self, description, **kwargs):\n",
    "        self.description = Label(value=description)        \n",
    "        self.plot = k3d.plot(\n",
    "            axes=['log(moneyness)', 'expiry','vol(\\%)'],\n",
    "            menu_visibility=False,\n",
    "            camera_rotate_speed=3.0\n",
    "            )\n",
    "        self.mesh = None\n",
    "        self.data = Table(description='', settings=to_json({\n",
    "            'width':500, 'height':300, 'contextMenu':True, 'minSpareRows':1, 'minSpareCols':1\n",
    "        }))                \n",
    "        \n",
    "        super().__init__(\n",
    "            children=[\n",
    "                self.description,\n",
    "                VBox(children=[self.plot, self.data])\n",
    "            ],\n",
    "            **kwargs\n",
    "        )\n",
    "        \n",
    "    @staticmethod\n",
    "    def make_faces_vectorized1(Nr,Nc):\n",
    "\n",
    "        out = np.empty((Nr-1,Nc-1,2,3),dtype=int)\n",
    "\n",
    "        r = np.arange(Nr*Nc).reshape(Nr,Nc)\n",
    "\n",
    "        out[:,:, 0,0] = r[:-1,:-1]\n",
    "        out[:,:, 1,0] = r[:-1,1:]\n",
    "        out[:,:, 0,1] = r[:-1,1:]\n",
    "\n",
    "        out[:,:, 1,1] = r[1:,1:]\n",
    "        out[:,:, :,2] = r[1:,:-1,None]\n",
    "\n",
    "        out.shape =(-1,3)\n",
    "        return out\n",
    "    \n",
    "    @property\n",
    "    def value(self):        \n",
    "        return self.data.value\n",
    "    \n",
    "    # a setter function\n",
    "    @value.setter\n",
    "    def value(self, val):\n",
    "        moneyness, expiry, vol = val\n",
    "        self.data.value = to_json(vol.round(5).tolist())\n",
    "        scale = 2/np.log(2)\n",
    "        e=expiry\n",
    "        m=scale*np.log(moneyness)\n",
    "        v=vol*100\n",
    "        U, V = np.meshgrid(m, e)\n",
    "        vertices = np.dstack([U, V, v]).reshape(-1,3)\n",
    "        indices = Three.make_faces_vectorized1(*v.shape)\n",
    "        if self.mesh is not None:\n",
    "            self.plot-=self.mesh\n",
    "        self.mesh = k3d.mesh(\n",
    "            vertices, indices, flat_shading=False, attribute=v,\n",
    "            side='double', color_map=k3d.basic_color_maps.Reds, color_range=[v.min(), v.max()]\n",
    "        )\n",
    "        self.plot +=self.mesh\n",
    "        "
   ]
  },
  {
   "cell_type": "code",
   "execution_count": null,
   "id": "4f937bca",
   "metadata": {},
   "outputs": [],
   "source": [
    "# g = np.vstack([x[0], heights]).tolist()\n",
    "t = Three(description='Test', settings=to_json(\n",
    "    {'width':500, 'height':300, 'contextMenu':True, 'minSpareRows':1, 'minSpareCols':1}) )\n",
    "\n"
   ]
  },
  {
   "cell_type": "code",
   "execution_count": null,
   "id": "e37077a3",
   "metadata": {},
   "outputs": [],
   "source": [
    "# t.data.col_headers = ['x/y']+x[0].tolist()\n",
    "t.value = [vol.get_moneyness(), vol.get_expiry(), vol.get_vols()]"
   ]
  },
  {
   "cell_type": "code",
   "execution_count": null,
   "id": "cf2b698a",
   "metadata": {},
   "outputs": [],
   "source": [
    "t"
   ]
  },
  {
   "cell_type": "code",
   "execution_count": null,
   "id": "14f282a0",
   "metadata": {},
   "outputs": [],
   "source": [
    "t.value = [vol.get_moneyness(), vol.get_expiry(), vol.get_vols()]"
   ]
  },
  {
   "cell_type": "code",
   "execution_count": null,
   "id": "856df191",
   "metadata": {},
   "outputs": [],
   "source": [
    "t.data.value"
   ]
  },
  {
   "cell_type": "code",
   "execution_count": null,
   "id": "821c9627",
   "metadata": {},
   "outputs": [],
   "source": [
    "from ipyfilechooser import FileChooser\n",
    "\n",
    "# Create and display a FileChooser widget\n",
    "fc = FileChooser('/home/vretiel/miniconda3/')\n",
    "display(fc)"
   ]
  },
  {
   "cell_type": "code",
   "execution_count": null,
   "id": "387d3f35",
   "metadata": {},
   "outputs": [],
   "source": [
    "fc.selected_filename"
   ]
  },
  {
   "cell_type": "code",
   "execution_count": null,
   "id": "10ab36f4",
   "metadata": {},
   "outputs": [],
   "source": [
    "cx"
   ]
  },
  {
   "cell_type": "code",
   "execution_count": null,
   "id": "c5bbf090",
   "metadata": {},
   "outputs": [],
   "source": [
    "# cx.load_json(os.path.join(path, 'InputAAJ_CrB_Russellstone_Treasury_ISDA.json'))\n",
    "cx.load_json(os.path.join(path, 'InputAAJ_CrB_BNP_Paribas__Paris__ISDA.json'))\n"
   ]
  },
  {
   "cell_type": "code",
   "execution_count": null,
   "id": "d3b25245",
   "metadata": {},
   "outputs": [],
   "source": [
    "pp = riskflow_jupyter.PortfolioPage(cx.current_cfg)"
   ]
  },
  {
   "cell_type": "code",
   "execution_count": null,
   "id": "5c7ff1e1",
   "metadata": {},
   "outputs": [],
   "source": [
    "rfp = riskflow_jupyter.RiskFactorsPage(cx.current_cfg)"
   ]
  },
  {
   "cell_type": "code",
   "execution_count": null,
   "id": "1db159d6",
   "metadata": {
    "scrolled": false
   },
   "outputs": [],
   "source": [
    "rfp.main_container\n"
   ]
  },
  {
   "cell_type": "code",
   "execution_count": null,
   "id": "8a0af130",
   "metadata": {},
   "outputs": [],
   "source": [
    "rfp.tree.checked\n"
   ]
  },
  {
   "cell_type": "code",
   "execution_count": null,
   "id": "2a2b0399",
   "metadata": {},
   "outputs": [],
   "source": [
    "%debug"
   ]
  },
  {
   "cell_type": "code",
   "execution_count": null,
   "id": "9c4b6802",
   "metadata": {},
   "outputs": [],
   "source": [
    "import k3d"
   ]
  },
  {
   "cell_type": "code",
   "execution_count": null,
   "id": "bc26f09d",
   "metadata": {},
   "outputs": [],
   "source": []
  }
 ],
 "metadata": {
  "kernelspec": {
   "display_name": "Python 3 (ipykernel)",
   "language": "python",
   "name": "python3"
  },
  "language_info": {
   "codemirror_mode": {
    "name": "ipython",
    "version": 3
   },
   "file_extension": ".py",
   "mimetype": "text/x-python",
   "name": "python",
   "nbconvert_exporter": "python",
   "pygments_lexer": "ipython3",
   "version": "3.8.13"
  }
 },
 "nbformat": 4,
 "nbformat_minor": 5
}
